{
 "cells": [
  {
   "cell_type": "code",
   "execution_count": 1,
   "id": "8d789406",
   "metadata": {},
   "outputs": [],
   "source": [
    "import pandas as pd\n",
    "data = pd.read_csv('Preprocessed2.csv')"
   ]
  },
  {
   "cell_type": "code",
   "execution_count": 2,
   "id": "79f90163",
   "metadata": {},
   "outputs": [
    {
     "data": {
      "text/html": [
       "<div>\n",
       "<style scoped>\n",
       "    .dataframe tbody tr th:only-of-type {\n",
       "        vertical-align: middle;\n",
       "    }\n",
       "\n",
       "    .dataframe tbody tr th {\n",
       "        vertical-align: top;\n",
       "    }\n",
       "\n",
       "    .dataframe thead th {\n",
       "        text-align: right;\n",
       "    }\n",
       "</style>\n",
       "<table border=\"1\" class=\"dataframe\">\n",
       "  <thead>\n",
       "    <tr style=\"text-align: right;\">\n",
       "      <th></th>\n",
       "      <th>Month</th>\n",
       "      <th>WeekOfMonth</th>\n",
       "      <th>DayOfWeek</th>\n",
       "      <th>Make</th>\n",
       "      <th>AccidentArea</th>\n",
       "      <th>DayOfWeekClaimed</th>\n",
       "      <th>MonthClaimed</th>\n",
       "      <th>WeekOfMonthClaimed</th>\n",
       "      <th>Sex</th>\n",
       "      <th>MaritalStatus</th>\n",
       "      <th>...</th>\n",
       "      <th>AgeOfPolicyHolder</th>\n",
       "      <th>PoliceReportFiled</th>\n",
       "      <th>WitnessPresent</th>\n",
       "      <th>AgentType</th>\n",
       "      <th>NumberOfSuppliments</th>\n",
       "      <th>AddressChange-Claim</th>\n",
       "      <th>NumberOfCars</th>\n",
       "      <th>Year</th>\n",
       "      <th>BasePolicy</th>\n",
       "      <th>label</th>\n",
       "    </tr>\n",
       "  </thead>\n",
       "  <tbody>\n",
       "    <tr>\n",
       "      <th>0</th>\n",
       "      <td>12</td>\n",
       "      <td>5</td>\n",
       "      <td>3</td>\n",
       "      <td>1</td>\n",
       "      <td>1</td>\n",
       "      <td>2</td>\n",
       "      <td>1</td>\n",
       "      <td>1</td>\n",
       "      <td>1</td>\n",
       "      <td>0</td>\n",
       "      <td>...</td>\n",
       "      <td>4</td>\n",
       "      <td>0</td>\n",
       "      <td>0</td>\n",
       "      <td>1</td>\n",
       "      <td>1</td>\n",
       "      <td>3</td>\n",
       "      <td>3</td>\n",
       "      <td>1</td>\n",
       "      <td>1</td>\n",
       "      <td>0</td>\n",
       "    </tr>\n",
       "    <tr>\n",
       "      <th>1</th>\n",
       "      <td>1</td>\n",
       "      <td>3</td>\n",
       "      <td>3</td>\n",
       "      <td>1</td>\n",
       "      <td>1</td>\n",
       "      <td>1</td>\n",
       "      <td>1</td>\n",
       "      <td>4</td>\n",
       "      <td>0</td>\n",
       "      <td>0</td>\n",
       "      <td>...</td>\n",
       "      <td>5</td>\n",
       "      <td>1</td>\n",
       "      <td>0</td>\n",
       "      <td>1</td>\n",
       "      <td>1</td>\n",
       "      <td>1</td>\n",
       "      <td>1</td>\n",
       "      <td>1</td>\n",
       "      <td>2</td>\n",
       "      <td>0</td>\n",
       "    </tr>\n",
       "    <tr>\n",
       "      <th>2</th>\n",
       "      <td>10</td>\n",
       "      <td>5</td>\n",
       "      <td>5</td>\n",
       "      <td>1</td>\n",
       "      <td>1</td>\n",
       "      <td>4</td>\n",
       "      <td>11</td>\n",
       "      <td>2</td>\n",
       "      <td>0</td>\n",
       "      <td>1</td>\n",
       "      <td>...</td>\n",
       "      <td>7</td>\n",
       "      <td>0</td>\n",
       "      <td>0</td>\n",
       "      <td>1</td>\n",
       "      <td>1</td>\n",
       "      <td>1</td>\n",
       "      <td>1</td>\n",
       "      <td>1</td>\n",
       "      <td>2</td>\n",
       "      <td>0</td>\n",
       "    </tr>\n",
       "    <tr>\n",
       "      <th>3</th>\n",
       "      <td>6</td>\n",
       "      <td>2</td>\n",
       "      <td>6</td>\n",
       "      <td>2</td>\n",
       "      <td>0</td>\n",
       "      <td>5</td>\n",
       "      <td>7</td>\n",
       "      <td>1</td>\n",
       "      <td>0</td>\n",
       "      <td>1</td>\n",
       "      <td>...</td>\n",
       "      <td>8</td>\n",
       "      <td>1</td>\n",
       "      <td>0</td>\n",
       "      <td>1</td>\n",
       "      <td>4</td>\n",
       "      <td>1</td>\n",
       "      <td>1</td>\n",
       "      <td>1</td>\n",
       "      <td>1</td>\n",
       "      <td>0</td>\n",
       "    </tr>\n",
       "    <tr>\n",
       "      <th>4</th>\n",
       "      <td>1</td>\n",
       "      <td>5</td>\n",
       "      <td>1</td>\n",
       "      <td>1</td>\n",
       "      <td>1</td>\n",
       "      <td>2</td>\n",
       "      <td>2</td>\n",
       "      <td>2</td>\n",
       "      <td>1</td>\n",
       "      <td>0</td>\n",
       "      <td>...</td>\n",
       "      <td>5</td>\n",
       "      <td>0</td>\n",
       "      <td>0</td>\n",
       "      <td>1</td>\n",
       "      <td>1</td>\n",
       "      <td>1</td>\n",
       "      <td>1</td>\n",
       "      <td>1</td>\n",
       "      <td>2</td>\n",
       "      <td>0</td>\n",
       "    </tr>\n",
       "  </tbody>\n",
       "</table>\n",
       "<p>5 rows × 32 columns</p>\n",
       "</div>"
      ],
      "text/plain": [
       "   Month  WeekOfMonth  DayOfWeek  Make  AccidentArea  DayOfWeekClaimed  \\\n",
       "0     12            5          3     1             1                 2   \n",
       "1      1            3          3     1             1                 1   \n",
       "2     10            5          5     1             1                 4   \n",
       "3      6            2          6     2             0                 5   \n",
       "4      1            5          1     1             1                 2   \n",
       "\n",
       "   MonthClaimed  WeekOfMonthClaimed  Sex  MaritalStatus  ...  \\\n",
       "0             1                   1    1              0  ...   \n",
       "1             1                   4    0              0  ...   \n",
       "2            11                   2    0              1  ...   \n",
       "3             7                   1    0              1  ...   \n",
       "4             2                   2    1              0  ...   \n",
       "\n",
       "   AgeOfPolicyHolder  PoliceReportFiled  WitnessPresent  AgentType  \\\n",
       "0                  4                  0               0          1   \n",
       "1                  5                  1               0          1   \n",
       "2                  7                  0               0          1   \n",
       "3                  8                  1               0          1   \n",
       "4                  5                  0               0          1   \n",
       "\n",
       "   NumberOfSuppliments  AddressChange-Claim  NumberOfCars  Year  BasePolicy  \\\n",
       "0                    1                    3             3     1           1   \n",
       "1                    1                    1             1     1           2   \n",
       "2                    1                    1             1     1           2   \n",
       "3                    4                    1             1     1           1   \n",
       "4                    1                    1             1     1           2   \n",
       "\n",
       "   label  \n",
       "0      0  \n",
       "1      0  \n",
       "2      0  \n",
       "3      0  \n",
       "4      0  \n",
       "\n",
       "[5 rows x 32 columns]"
      ]
     },
     "execution_count": 2,
     "metadata": {},
     "output_type": "execute_result"
    }
   ],
   "source": [
    "data.head()"
   ]
  },
  {
   "cell_type": "code",
   "execution_count": 3,
   "id": "54060b01",
   "metadata": {},
   "outputs": [
    {
     "name": "stdout",
     "output_type": "stream",
     "text": [
      "<class 'pandas.core.frame.DataFrame'>\n",
      "RangeIndex: 15419 entries, 0 to 15418\n",
      "Data columns (total 32 columns):\n",
      " #   Column                Non-Null Count  Dtype  \n",
      "---  ------                --------------  -----  \n",
      " 0   Month                 15419 non-null  int64  \n",
      " 1   WeekOfMonth           15419 non-null  int64  \n",
      " 2   DayOfWeek             15419 non-null  int64  \n",
      " 3   Make                  15419 non-null  int64  \n",
      " 4   AccidentArea          15419 non-null  int64  \n",
      " 5   DayOfWeekClaimed      15419 non-null  int64  \n",
      " 6   MonthClaimed          15419 non-null  int64  \n",
      " 7   WeekOfMonthClaimed    15419 non-null  int64  \n",
      " 8   Sex                   15419 non-null  int64  \n",
      " 9   MaritalStatus         15419 non-null  int64  \n",
      " 10  Age                   15419 non-null  float64\n",
      " 11  Fault                 15419 non-null  int64  \n",
      " 12  PolicyType            15419 non-null  int64  \n",
      " 13  VehicleCategory       15419 non-null  int64  \n",
      " 14  VehiclePrice          15419 non-null  int64  \n",
      " 15  RepNumber             15419 non-null  int64  \n",
      " 16  Deductible            15419 non-null  int64  \n",
      " 17  DriverRating          15419 non-null  int64  \n",
      " 18  Days:Policy-Accident  15419 non-null  int64  \n",
      " 19  Days:Policy-Claim     15419 non-null  int64  \n",
      " 20  PastNumberOfClaims    15419 non-null  int64  \n",
      " 21  AgeOfVehicle          15419 non-null  int64  \n",
      " 22  AgeOfPolicyHolder     15419 non-null  int64  \n",
      " 23  PoliceReportFiled     15419 non-null  int64  \n",
      " 24  WitnessPresent        15419 non-null  int64  \n",
      " 25  AgentType             15419 non-null  int64  \n",
      " 26  NumberOfSuppliments   15419 non-null  int64  \n",
      " 27  AddressChange-Claim   15419 non-null  int64  \n",
      " 28  NumberOfCars          15419 non-null  int64  \n",
      " 29  Year                  15419 non-null  int64  \n",
      " 30  BasePolicy            15419 non-null  int64  \n",
      " 31  label                 15419 non-null  int64  \n",
      "dtypes: float64(1), int64(31)\n",
      "memory usage: 3.8 MB\n"
     ]
    }
   ],
   "source": [
    "data.info()"
   ]
  },
  {
   "cell_type": "code",
   "execution_count": 4,
   "id": "51456d44",
   "metadata": {},
   "outputs": [],
   "source": [
    "from sklearn.utils import resample"
   ]
  },
  {
   "cell_type": "code",
   "execution_count": 5,
   "id": "dfdb8d91",
   "metadata": {},
   "outputs": [],
   "source": [
    "#majority class -> class with label == \"Legitimate/not fraud\"\n",
    "data_majority = data[(data['label']==0)]\n",
    "#minority class\n",
    "data_minority = data[(data['label']==1)]"
   ]
  },
  {
   "cell_type": "code",
   "execution_count": 6,
   "id": "13cac9f7",
   "metadata": {},
   "outputs": [],
   "source": [
    "# upsample minority class\n",
    "data_minority_upsampled = resample(data_minority, \n",
    "                                 replace=True,    # sample with replacement\n",
    "                                 n_samples= len(data_majority), # to match majority class\n",
    "                                 random_state=42)  # reproducible results\n",
    "# Combine majority class with upsampled minority class\n",
    "data_upsampled = pd.concat([data_minority_upsampled, data_majority])"
   ]
  },
  {
   "cell_type": "code",
   "execution_count": 7,
   "id": "a1e67d2f",
   "metadata": {},
   "outputs": [],
   "source": [
    "# upsample minority class\n",
    "data_majority_undersampled = resample(data_majority, \n",
    "                                 replace=False,    # sample with replacement\n",
    "                                 n_samples= len(data_minority), # to match majority class\n",
    "                                 random_state=42)  # reproducible results\n",
    "# Combine majority class with upsampled minority class\n",
    "data_undersampled = pd.concat([data_majority_undersampled, data_minority])"
   ]
  },
  {
   "cell_type": "code",
   "execution_count": 8,
   "id": "cb07f2b9",
   "metadata": {},
   "outputs": [
    {
     "name": "stdout",
     "output_type": "stream",
     "text": [
      "<class 'pandas.core.frame.DataFrame'>\n",
      "Int64Index: 28992 entries, 1554 to 15417\n",
      "Data columns (total 32 columns):\n",
      " #   Column                Non-Null Count  Dtype  \n",
      "---  ------                --------------  -----  \n",
      " 0   Month                 28992 non-null  int64  \n",
      " 1   WeekOfMonth           28992 non-null  int64  \n",
      " 2   DayOfWeek             28992 non-null  int64  \n",
      " 3   Make                  28992 non-null  int64  \n",
      " 4   AccidentArea          28992 non-null  int64  \n",
      " 5   DayOfWeekClaimed      28992 non-null  int64  \n",
      " 6   MonthClaimed          28992 non-null  int64  \n",
      " 7   WeekOfMonthClaimed    28992 non-null  int64  \n",
      " 8   Sex                   28992 non-null  int64  \n",
      " 9   MaritalStatus         28992 non-null  int64  \n",
      " 10  Age                   28992 non-null  float64\n",
      " 11  Fault                 28992 non-null  int64  \n",
      " 12  PolicyType            28992 non-null  int64  \n",
      " 13  VehicleCategory       28992 non-null  int64  \n",
      " 14  VehiclePrice          28992 non-null  int64  \n",
      " 15  RepNumber             28992 non-null  int64  \n",
      " 16  Deductible            28992 non-null  int64  \n",
      " 17  DriverRating          28992 non-null  int64  \n",
      " 18  Days:Policy-Accident  28992 non-null  int64  \n",
      " 19  Days:Policy-Claim     28992 non-null  int64  \n",
      " 20  PastNumberOfClaims    28992 non-null  int64  \n",
      " 21  AgeOfVehicle          28992 non-null  int64  \n",
      " 22  AgeOfPolicyHolder     28992 non-null  int64  \n",
      " 23  PoliceReportFiled     28992 non-null  int64  \n",
      " 24  WitnessPresent        28992 non-null  int64  \n",
      " 25  AgentType             28992 non-null  int64  \n",
      " 26  NumberOfSuppliments   28992 non-null  int64  \n",
      " 27  AddressChange-Claim   28992 non-null  int64  \n",
      " 28  NumberOfCars          28992 non-null  int64  \n",
      " 29  Year                  28992 non-null  int64  \n",
      " 30  BasePolicy            28992 non-null  int64  \n",
      " 31  label                 28992 non-null  int64  \n",
      "dtypes: float64(1), int64(31)\n",
      "memory usage: 7.3 MB\n"
     ]
    }
   ],
   "source": [
    "data_upsampled.info()"
   ]
  },
  {
   "cell_type": "code",
   "execution_count": 9,
   "id": "40dc87d1",
   "metadata": {},
   "outputs": [],
   "source": [
    "from sklearn.model_selection import train_test_split\n",
    "from sklearn.feature_selection import SelectKBest, chi2, f_classif\n",
    "from sklearn.metrics import confusion_matrix\n",
    "from sklearn.naive_bayes import GaussianNB\n",
    "from sklearn.tree import DecisionTreeClassifier\n",
    "from sklearn.neighbors import KNeighborsClassifier\n",
    "from sklearn.linear_model import LogisticRegression\n",
    "from sklearn.ensemble import RandomForestClassifier\n",
    "from sklearn.metrics import roc_auc_score\n",
    "from sklearn.model_selection import StratifiedKFold\n",
    "import numpy as np\n",
    "from sklearn.model_selection import cross_val_score\n",
    "import pandas as pd\n",
    "import matplotlib.pyplot as plt\n",
    "import seaborn as sns"
   ]
  },
  {
   "cell_type": "code",
   "execution_count": 10,
   "id": "91c93432",
   "metadata": {},
   "outputs": [],
   "source": [
    "data = data_undersampled"
   ]
  },
  {
   "cell_type": "code",
   "execution_count": 11,
   "id": "874d4c87",
   "metadata": {},
   "outputs": [],
   "source": [
    "cat_cols = ['Month', 'WeekOfMonth', 'DayOfWeek', 'Make', 'MaritalStatus', 'DayOfWeekClaimed', \n",
    "                       'MonthClaimed', 'WeekOfMonthClaimed','PolicyType', 'VehicleCategory', 'VehiclePrice', \n",
    "                      'RepNumber', 'DriverRating', 'Days:Policy-Accident', 'Days:Policy-Claim', \n",
    "                      'PastNumberOfClaims', 'AgeOfVehicle', 'AgeOfPolicyHolder', 'NumberOfSuppliments', \n",
    "                      'AddressChange-Claim', 'NumberOfCars', 'Year']\n",
    "for col in cat_cols:\n",
    "    data[col] = data[col].astype('category')"
   ]
  },
  {
   "cell_type": "code",
   "execution_count": 12,
   "id": "d72fa585",
   "metadata": {},
   "outputs": [],
   "source": [
    "X = data.iloc[:,:-1]\n",
    "y = data['label'].array"
   ]
  },
  {
   "cell_type": "code",
   "execution_count": 13,
   "id": "119e4b7b",
   "metadata": {},
   "outputs": [
    {
     "name": "stdout",
     "output_type": "stream",
     "text": [
      "0.5\n",
      "0.5\n"
     ]
    }
   ],
   "source": [
    "#split into stratified train/test split\n",
    "X_train, X_test, y_train, y_test = train_test_split(X, y, test_size=0.34, random_state=39, stratify = y)\n",
    "train, test = train_test_split(data, test_size=0.34, random_state=39, stratify = data['label'])\n",
    "print(len(train[train['label'] == 1]) / len(train))\n",
    "print(len(test[test['label'] == 1]) / len(test))"
   ]
  },
  {
   "cell_type": "code",
   "execution_count": 14,
   "id": "349f5739",
   "metadata": {},
   "outputs": [],
   "source": [
    "selector = SelectKBest(chi2, k =15)\n",
    "selector.fit(X_train, y_train)\n",
    "X_kbest = X_train.iloc[:, selector.get_support()]\n",
    "test_kbest = X_test.iloc[:, selector.get_support()]"
   ]
  },
  {
   "cell_type": "code",
   "execution_count": 15,
   "id": "37e9634e",
   "metadata": {},
   "outputs": [
    {
     "name": "stderr",
     "output_type": "stream",
     "text": [
      "Using TensorFlow backend.\n"
     ]
    }
   ],
   "source": [
    "from keras.models import Sequential\n",
    "from keras.layers import Dense"
   ]
  },
  {
   "cell_type": "code",
   "execution_count": 16,
   "id": "6015ac27",
   "metadata": {},
   "outputs": [],
   "source": [
    "model = Sequential()\n",
    "model.add(Dense(512, activation='relu', input_dim=15))\n",
    "model.add(Dense(512, activation='relu'))\n",
    "model.add(Dense(1, activation='sigmoid'))\n",
    "model.compile(optimizer='adam', loss='binary_crossentropy', metrics=['accuracy'])"
   ]
  },
  {
   "cell_type": "code",
   "execution_count": 17,
   "id": "92e71174",
   "metadata": {},
   "outputs": [
    {
     "name": "stdout",
     "output_type": "stream",
     "text": [
      "Train on 1218 samples, validate on 628 samples\n",
      "Epoch 1/100\n",
      "1218/1218 [==============================] - 1s 672us/step - loss: 1.0818 - accuracy: 0.5222 - val_loss: 0.7221 - val_accuracy: 0.5032\n",
      "Epoch 2/100\n",
      "1218/1218 [==============================] - 0s 124us/step - loss: 0.6976 - accuracy: 0.5402 - val_loss: 0.6940 - val_accuracy: 0.5334\n",
      "Epoch 3/100\n",
      "1218/1218 [==============================] - 0s 125us/step - loss: 0.6500 - accuracy: 0.6117 - val_loss: 0.6988 - val_accuracy: 0.6226\n",
      "Epoch 4/100\n",
      "1218/1218 [==============================] - 0s 118us/step - loss: 0.6661 - accuracy: 0.6125 - val_loss: 0.6416 - val_accuracy: 0.5892\n",
      "Epoch 5/100\n",
      "1218/1218 [==============================] - 0s 128us/step - loss: 0.6131 - accuracy: 0.6724 - val_loss: 0.6179 - val_accuracy: 0.6449\n",
      "Epoch 6/100\n",
      "1218/1218 [==============================] - 0s 118us/step - loss: 0.6015 - accuracy: 0.6757 - val_loss: 0.6145 - val_accuracy: 0.6290\n",
      "Epoch 7/100\n",
      "1218/1218 [==============================] - 0s 120us/step - loss: 0.5959 - accuracy: 0.6831 - val_loss: 0.6009 - val_accuracy: 0.6433\n",
      "Epoch 8/100\n",
      "1218/1218 [==============================] - 0s 115us/step - loss: 0.5821 - accuracy: 0.6839 - val_loss: 0.5904 - val_accuracy: 0.6672\n",
      "Epoch 9/100\n",
      "1218/1218 [==============================] - 0s 117us/step - loss: 0.5844 - accuracy: 0.6979 - val_loss: 0.5773 - val_accuracy: 0.6768\n",
      "Epoch 10/100\n",
      "1218/1218 [==============================] - 0s 120us/step - loss: 0.5919 - accuracy: 0.6806 - val_loss: 0.6811 - val_accuracy: 0.6099\n",
      "Epoch 11/100\n",
      "1218/1218 [==============================] - 0s 119us/step - loss: 0.5904 - accuracy: 0.6782 - val_loss: 0.6798 - val_accuracy: 0.5939\n",
      "Epoch 12/100\n",
      "1218/1218 [==============================] - 0s 120us/step - loss: 0.5792 - accuracy: 0.6913 - val_loss: 0.5974 - val_accuracy: 0.6895\n",
      "Epoch 13/100\n",
      "1218/1218 [==============================] - 0s 137us/step - loss: 0.5795 - accuracy: 0.6962 - val_loss: 0.7775 - val_accuracy: 0.6338\n",
      "Epoch 14/100\n",
      "1218/1218 [==============================] - 0s 115us/step - loss: 0.6989 - accuracy: 0.6240 - val_loss: 0.5641 - val_accuracy: 0.6847\n",
      "Epoch 15/100\n",
      "1218/1218 [==============================] - 0s 116us/step - loss: 0.5644 - accuracy: 0.7036 - val_loss: 0.6547 - val_accuracy: 0.6736\n",
      "Epoch 16/100\n",
      "1218/1218 [==============================] - 0s 142us/step - loss: 0.5749 - accuracy: 0.6938 - val_loss: 0.5726 - val_accuracy: 0.7213\n",
      "Epoch 17/100\n",
      "1218/1218 [==============================] - 0s 119us/step - loss: 0.5465 - accuracy: 0.7250 - val_loss: 0.5611 - val_accuracy: 0.6990\n",
      "Epoch 18/100\n",
      "1218/1218 [==============================] - 0s 120us/step - loss: 0.5297 - accuracy: 0.7406 - val_loss: 0.5498 - val_accuracy: 0.7245\n",
      "Epoch 19/100\n",
      "1218/1218 [==============================] - 0s 117us/step - loss: 0.5330 - accuracy: 0.7323 - val_loss: 0.9686 - val_accuracy: 0.5143\n",
      "Epoch 20/100\n",
      "1218/1218 [==============================] - 0s 119us/step - loss: 0.6861 - accuracy: 0.6585 - val_loss: 0.5821 - val_accuracy: 0.7341\n",
      "Epoch 21/100\n",
      "1218/1218 [==============================] - 0s 119us/step - loss: 0.5314 - accuracy: 0.7365 - val_loss: 0.5518 - val_accuracy: 0.7197\n",
      "Epoch 22/100\n",
      "1218/1218 [==============================] - 0s 128us/step - loss: 0.5239 - accuracy: 0.7422 - val_loss: 0.5936 - val_accuracy: 0.6433\n",
      "Epoch 23/100\n",
      "1218/1218 [==============================] - 0s 125us/step - loss: 0.5197 - accuracy: 0.7479 - val_loss: 0.5480 - val_accuracy: 0.7436\n",
      "Epoch 24/100\n",
      "1218/1218 [==============================] - 0s 114us/step - loss: 0.5098 - accuracy: 0.7471 - val_loss: 0.5541 - val_accuracy: 0.7182\n",
      "Epoch 25/100\n",
      "1218/1218 [==============================] - 0s 115us/step - loss: 0.5128 - accuracy: 0.7430 - val_loss: 0.5533 - val_accuracy: 0.6943\n",
      "Epoch 26/100\n",
      "1218/1218 [==============================] - 0s 118us/step - loss: 0.5056 - accuracy: 0.7578 - val_loss: 0.5813 - val_accuracy: 0.7436\n",
      "Epoch 27/100\n",
      "1218/1218 [==============================] - 0s 117us/step - loss: 0.5291 - accuracy: 0.7274 - val_loss: 0.5376 - val_accuracy: 0.7325\n",
      "Epoch 28/100\n",
      "1218/1218 [==============================] - 0s 121us/step - loss: 0.4999 - accuracy: 0.7635 - val_loss: 0.5683 - val_accuracy: 0.7532\n",
      "Epoch 29/100\n",
      "1218/1218 [==============================] - 0s 114us/step - loss: 0.5044 - accuracy: 0.7586 - val_loss: 0.5607 - val_accuracy: 0.6847\n",
      "Epoch 30/100\n",
      "1218/1218 [==============================] - 0s 136us/step - loss: 0.4994 - accuracy: 0.7652 - val_loss: 0.5436 - val_accuracy: 0.7436\n",
      "Epoch 31/100\n",
      "1218/1218 [==============================] - 0s 118us/step - loss: 0.5035 - accuracy: 0.7611 - val_loss: 0.5337 - val_accuracy: 0.7627\n",
      "Epoch 32/100\n",
      "1218/1218 [==============================] - 0s 115us/step - loss: 0.4932 - accuracy: 0.7627 - val_loss: 0.5418 - val_accuracy: 0.7197\n",
      "Epoch 33/100\n",
      "1218/1218 [==============================] - 0s 120us/step - loss: 0.5255 - accuracy: 0.7406 - val_loss: 0.5768 - val_accuracy: 0.6608\n",
      "Epoch 34/100\n",
      "1218/1218 [==============================] - 0s 141us/step - loss: 0.4907 - accuracy: 0.7619 - val_loss: 0.5473 - val_accuracy: 0.7580\n",
      "Epoch 35/100\n",
      "1218/1218 [==============================] - 0s 142us/step - loss: 0.5060 - accuracy: 0.7545 - val_loss: 0.5571 - val_accuracy: 0.7580\n",
      "Epoch 36/100\n",
      "1218/1218 [==============================] - 0s 121us/step - loss: 0.5295 - accuracy: 0.7594 - val_loss: 0.5484 - val_accuracy: 0.6975\n",
      "Epoch 37/100\n",
      "1218/1218 [==============================] - 0s 121us/step - loss: 0.4987 - accuracy: 0.7677 - val_loss: 0.5595 - val_accuracy: 0.6736\n",
      "Epoch 38/100\n",
      "1218/1218 [==============================] - 0s 119us/step - loss: 0.4974 - accuracy: 0.7570 - val_loss: 0.5446 - val_accuracy: 0.7357\n",
      "Epoch 39/100\n",
      "1218/1218 [==============================] - 0s 112us/step - loss: 0.4805 - accuracy: 0.7644 - val_loss: 0.5420 - val_accuracy: 0.7150\n",
      "Epoch 40/100\n",
      "1218/1218 [==============================] - 0s 113us/step - loss: 0.4773 - accuracy: 0.7775 - val_loss: 0.5718 - val_accuracy: 0.7500\n",
      "Epoch 41/100\n",
      "1218/1218 [==============================] - 0s 121us/step - loss: 0.4832 - accuracy: 0.7677 - val_loss: 0.5483 - val_accuracy: 0.7452\n",
      "Epoch 42/100\n",
      "1218/1218 [==============================] - 0s 115us/step - loss: 0.4799 - accuracy: 0.7750 - val_loss: 0.6091 - val_accuracy: 0.6513\n",
      "Epoch 43/100\n",
      "1218/1218 [==============================] - 0s 115us/step - loss: 0.4978 - accuracy: 0.7578 - val_loss: 0.5758 - val_accuracy: 0.7580\n",
      "Epoch 44/100\n",
      "1218/1218 [==============================] - 0s 118us/step - loss: 0.4885 - accuracy: 0.7668 - val_loss: 0.6125 - val_accuracy: 0.7484\n",
      "Epoch 45/100\n",
      "1218/1218 [==============================] - 0s 112us/step - loss: 0.4864 - accuracy: 0.7570 - val_loss: 0.5561 - val_accuracy: 0.7038\n",
      "Epoch 46/100\n",
      "1218/1218 [==============================] - 0s 111us/step - loss: 0.4920 - accuracy: 0.7652 - val_loss: 0.6061 - val_accuracy: 0.6338\n",
      "Epoch 47/100\n",
      "1218/1218 [==============================] - 0s 114us/step - loss: 0.4711 - accuracy: 0.7677 - val_loss: 0.5406 - val_accuracy: 0.7357\n",
      "Epoch 48/100\n",
      "1218/1218 [==============================] - 0s 112us/step - loss: 0.4627 - accuracy: 0.7709 - val_loss: 0.5644 - val_accuracy: 0.7404\n",
      "Epoch 49/100\n",
      "1218/1218 [==============================] - 0s 115us/step - loss: 0.5077 - accuracy: 0.7570 - val_loss: 0.5998 - val_accuracy: 0.6433\n",
      "Epoch 50/100\n",
      "1218/1218 [==============================] - 0s 115us/step - loss: 0.5175 - accuracy: 0.7356 - val_loss: 0.5495 - val_accuracy: 0.7404\n",
      "Epoch 51/100\n",
      "1218/1218 [==============================] - 0s 108us/step - loss: 0.4778 - accuracy: 0.7775 - val_loss: 0.5875 - val_accuracy: 0.7309\n",
      "Epoch 52/100\n",
      "1218/1218 [==============================] - 0s 116us/step - loss: 0.4611 - accuracy: 0.7800 - val_loss: 0.5410 - val_accuracy: 0.7580\n",
      "Epoch 53/100\n",
      "1218/1218 [==============================] - 0s 114us/step - loss: 0.4749 - accuracy: 0.7635 - val_loss: 0.6149 - val_accuracy: 0.7373\n",
      "Epoch 54/100\n",
      "1218/1218 [==============================] - 0s 116us/step - loss: 0.5023 - accuracy: 0.7504 - val_loss: 0.5431 - val_accuracy: 0.7261\n",
      "Epoch 55/100\n",
      "1218/1218 [==============================] - 0s 113us/step - loss: 0.4982 - accuracy: 0.7594 - val_loss: 0.6046 - val_accuracy: 0.6417\n",
      "Epoch 56/100\n"
     ]
    },
    {
     "name": "stdout",
     "output_type": "stream",
     "text": [
      "1218/1218 [==============================] - 0s 116us/step - loss: 0.4827 - accuracy: 0.7578 - val_loss: 0.5604 - val_accuracy: 0.7134\n",
      "Epoch 57/100\n",
      "1218/1218 [==============================] - 0s 114us/step - loss: 0.4564 - accuracy: 0.7833 - val_loss: 0.5551 - val_accuracy: 0.7436\n",
      "Epoch 58/100\n",
      "1218/1218 [==============================] - 0s 137us/step - loss: 0.4600 - accuracy: 0.7874 - val_loss: 0.5567 - val_accuracy: 0.7532\n",
      "Epoch 59/100\n",
      "1218/1218 [==============================] - 0s 116us/step - loss: 0.4463 - accuracy: 0.7791 - val_loss: 0.5531 - val_accuracy: 0.7166\n",
      "Epoch 60/100\n",
      "1218/1218 [==============================] - 0s 114us/step - loss: 0.4587 - accuracy: 0.7783 - val_loss: 0.5481 - val_accuracy: 0.7134\n",
      "Epoch 61/100\n",
      "1218/1218 [==============================] - 0s 118us/step - loss: 0.4363 - accuracy: 0.7964 - val_loss: 0.6045 - val_accuracy: 0.7484\n",
      "Epoch 62/100\n",
      "1218/1218 [==============================] - 0s 116us/step - loss: 0.4537 - accuracy: 0.7816 - val_loss: 0.5607 - val_accuracy: 0.7150\n",
      "Epoch 63/100\n",
      "1218/1218 [==============================] - 0s 118us/step - loss: 0.4442 - accuracy: 0.7816 - val_loss: 0.5537 - val_accuracy: 0.7309\n",
      "Epoch 64/100\n",
      "1218/1218 [==============================] - 0s 115us/step - loss: 0.4410 - accuracy: 0.7964 - val_loss: 0.5699 - val_accuracy: 0.7532\n",
      "Epoch 65/100\n",
      "1218/1218 [==============================] - 0s 117us/step - loss: 0.4925 - accuracy: 0.7553 - val_loss: 0.7028 - val_accuracy: 0.6210\n",
      "Epoch 66/100\n",
      "1218/1218 [==============================] - 0s 116us/step - loss: 0.5068 - accuracy: 0.7479 - val_loss: 0.7020 - val_accuracy: 0.7309\n",
      "Epoch 67/100\n",
      "1218/1218 [==============================] - 0s 115us/step - loss: 0.4733 - accuracy: 0.7709 - val_loss: 0.5940 - val_accuracy: 0.6672\n",
      "Epoch 68/100\n",
      "1218/1218 [==============================] - 0s 117us/step - loss: 0.4362 - accuracy: 0.8079 - val_loss: 0.5599 - val_accuracy: 0.7182\n",
      "Epoch 69/100\n",
      "1218/1218 [==============================] - 0s 124us/step - loss: 0.4450 - accuracy: 0.7898 - val_loss: 0.5516 - val_accuracy: 0.7404\n",
      "Epoch 70/100\n",
      "1218/1218 [==============================] - 0s 114us/step - loss: 0.4449 - accuracy: 0.7849 - val_loss: 0.5773 - val_accuracy: 0.6911\n",
      "Epoch 71/100\n",
      "1218/1218 [==============================] - 0s 113us/step - loss: 0.4415 - accuracy: 0.7972 - val_loss: 0.5576 - val_accuracy: 0.7389\n",
      "Epoch 72/100\n",
      "1218/1218 [==============================] - 0s 117us/step - loss: 0.4275 - accuracy: 0.8030 - val_loss: 0.5667 - val_accuracy: 0.6975\n",
      "Epoch 73/100\n",
      "1218/1218 [==============================] - 0s 113us/step - loss: 0.4278 - accuracy: 0.7923 - val_loss: 0.6061 - val_accuracy: 0.7596\n",
      "Epoch 74/100\n",
      "1218/1218 [==============================] - 0s 117us/step - loss: 0.4660 - accuracy: 0.7718 - val_loss: 0.5598 - val_accuracy: 0.7229\n",
      "Epoch 75/100\n",
      "1218/1218 [==============================] - 0s 116us/step - loss: 0.4265 - accuracy: 0.7989 - val_loss: 0.5886 - val_accuracy: 0.7150\n",
      "Epoch 76/100\n",
      "1218/1218 [==============================] - 0s 120us/step - loss: 0.4389 - accuracy: 0.7915 - val_loss: 0.5549 - val_accuracy: 0.7166\n",
      "Epoch 77/100\n",
      "1218/1218 [==============================] - 0s 113us/step - loss: 0.4239 - accuracy: 0.8013 - val_loss: 0.5839 - val_accuracy: 0.7500\n",
      "Epoch 78/100\n",
      "1218/1218 [==============================] - 0s 115us/step - loss: 0.4363 - accuracy: 0.7808 - val_loss: 0.5716 - val_accuracy: 0.7277\n",
      "Epoch 79/100\n",
      "1218/1218 [==============================] - 0s 116us/step - loss: 0.4269 - accuracy: 0.8013 - val_loss: 0.5510 - val_accuracy: 0.7150\n",
      "Epoch 80/100\n",
      "1218/1218 [==============================] - 0s 111us/step - loss: 0.4244 - accuracy: 0.8021 - val_loss: 0.7012 - val_accuracy: 0.6115\n",
      "Epoch 81/100\n",
      "1218/1218 [==============================] - 0s 114us/step - loss: 0.4684 - accuracy: 0.7644 - val_loss: 0.5708 - val_accuracy: 0.7197\n",
      "Epoch 82/100\n",
      "1218/1218 [==============================] - 0s 132us/step - loss: 0.4222 - accuracy: 0.7956 - val_loss: 0.5832 - val_accuracy: 0.6783\n",
      "Epoch 83/100\n",
      "1218/1218 [==============================] - 0s 122us/step - loss: 0.4267 - accuracy: 0.7923 - val_loss: 0.5571 - val_accuracy: 0.7245\n",
      "Epoch 84/100\n",
      "1218/1218 [==============================] - 0s 122us/step - loss: 0.4298 - accuracy: 0.8013 - val_loss: 0.6109 - val_accuracy: 0.6736\n",
      "Epoch 85/100\n",
      "1218/1218 [==============================] - 0s 121us/step - loss: 0.4210 - accuracy: 0.8062 - val_loss: 0.6076 - val_accuracy: 0.7532\n",
      "Epoch 86/100\n",
      "1218/1218 [==============================] - 0s 128us/step - loss: 0.4376 - accuracy: 0.7923 - val_loss: 0.6458 - val_accuracy: 0.6592\n",
      "Epoch 87/100\n",
      "1218/1218 [==============================] - 0s 121us/step - loss: 0.4128 - accuracy: 0.8103 - val_loss: 0.5677 - val_accuracy: 0.7404\n",
      "Epoch 88/100\n",
      "1218/1218 [==============================] - 0s 114us/step - loss: 0.4002 - accuracy: 0.8210 - val_loss: 0.5910 - val_accuracy: 0.7373\n",
      "Epoch 89/100\n",
      "1218/1218 [==============================] - 0s 114us/step - loss: 0.4185 - accuracy: 0.7956 - val_loss: 0.5604 - val_accuracy: 0.7277\n",
      "Epoch 90/100\n",
      "1218/1218 [==============================] - 0s 116us/step - loss: 0.3904 - accuracy: 0.8169 - val_loss: 0.6017 - val_accuracy: 0.7118\n",
      "Epoch 91/100\n",
      "1218/1218 [==============================] - 0s 117us/step - loss: 0.4002 - accuracy: 0.8235 - val_loss: 0.5743 - val_accuracy: 0.7436\n",
      "Epoch 92/100\n",
      "1218/1218 [==============================] - 0s 127us/step - loss: 0.4112 - accuracy: 0.8013 - val_loss: 0.6228 - val_accuracy: 0.6752\n",
      "Epoch 93/100\n",
      "1218/1218 [==============================] - 0s 111us/step - loss: 0.4140 - accuracy: 0.8054 - val_loss: 0.6311 - val_accuracy: 0.6672\n",
      "Epoch 94/100\n",
      "1218/1218 [==============================] - 0s 117us/step - loss: 0.4322 - accuracy: 0.7956 - val_loss: 0.5964 - val_accuracy: 0.6831\n",
      "Epoch 95/100\n",
      "1218/1218 [==============================] - 0s 125us/step - loss: 0.3967 - accuracy: 0.8153 - val_loss: 0.5804 - val_accuracy: 0.7389\n",
      "Epoch 96/100\n",
      "1218/1218 [==============================] - 0s 114us/step - loss: 0.3908 - accuracy: 0.8186 - val_loss: 0.5987 - val_accuracy: 0.6959\n",
      "Epoch 97/100\n",
      "1218/1218 [==============================] - 0s 118us/step - loss: 0.3918 - accuracy: 0.8186 - val_loss: 0.5780 - val_accuracy: 0.7500\n",
      "Epoch 98/100\n",
      "1218/1218 [==============================] - 0s 119us/step - loss: 0.3903 - accuracy: 0.8243 - val_loss: 0.6012 - val_accuracy: 0.7261\n",
      "Epoch 99/100\n",
      "1218/1218 [==============================] - 0s 113us/step - loss: 0.4080 - accuracy: 0.8120 - val_loss: 0.6142 - val_accuracy: 0.6911\n",
      "Epoch 100/100\n",
      "1218/1218 [==============================] - 0s 123us/step - loss: 0.3929 - accuracy: 0.8136 - val_loss: 0.6118 - val_accuracy: 0.7277\n"
     ]
    }
   ],
   "source": [
    "mod = model.fit(X_kbest, y_train, validation_data=(test_kbest, y_test), epochs=100, batch_size=100)"
   ]
  },
  {
   "cell_type": "code",
   "execution_count": 18,
   "id": "00a652e6",
   "metadata": {},
   "outputs": [
    {
     "data": {
      "text/plain": [
       "Text(91.68, 0.5, 'Actual label')"
      ]
     },
     "execution_count": 18,
     "metadata": {},
     "output_type": "execute_result"
    },
    {
     "data": {
      "image/png": "[encoded data removed]",
      "text/plain": [
       "<Figure size 432x288 with 1 Axes>"
      ]
     },
     "metadata": {
      "needs_background": "light"
     },
     "output_type": "display_data"
    }
   ],
   "source": [
    "from sklearn.metrics import confusion_matrix\n",
    " \n",
    "y_predicted = model.predict(test_kbest) > 0.5\n",
    "mat = confusion_matrix(y_test, y_predicted)\n",
    "labels = ['Legitimate', 'Fraudulent']\n",
    " \n",
    "sns.heatmap(mat, square=True, annot=True, fmt='d', cbar=False, cmap='Blues',\n",
    "            xticklabels=labels, yticklabels=labels)\n",
    " \n",
    "plt.xlabel('Predicted label')\n",
    "plt.ylabel('Actual label')"
   ]
  },
  {
   "cell_type": "code",
   "execution_count": 19,
   "id": "71a83a64",
   "metadata": {},
   "outputs": [
    {
     "data": {
      "text/plain": [
       "0.7579617834394905"
      ]
     },
     "execution_count": 19,
     "metadata": {},
     "output_type": "execute_result"
    }
   ],
   "source": [
    "(203+273)/(203+273+111+41)"
   ]
  },
  {
   "cell_type": "code",
   "execution_count": 20,
   "id": "5851a158",
   "metadata": {},
   "outputs": [
    {
     "data": {
      "text/html": [
       "<div>\n",
       "<style scoped>\n",
       "    .dataframe tbody tr th:only-of-type {\n",
       "        vertical-align: middle;\n",
       "    }\n",
       "\n",
       "    .dataframe tbody tr th {\n",
       "        vertical-align: top;\n",
       "    }\n",
       "\n",
       "    .dataframe thead th {\n",
       "        text-align: right;\n",
       "    }\n",
       "</style>\n",
       "<table border=\"1\" class=\"dataframe\">\n",
       "  <thead>\n",
       "    <tr style=\"text-align: right;\">\n",
       "      <th></th>\n",
       "      <th>Month</th>\n",
       "      <th>MonthClaimed</th>\n",
       "      <th>Sex</th>\n",
       "      <th>Age</th>\n",
       "      <th>Fault</th>\n",
       "      <th>PolicyType</th>\n",
       "      <th>VehicleCategory</th>\n",
       "      <th>VehiclePrice</th>\n",
       "      <th>RepNumber</th>\n",
       "      <th>PastNumberOfClaims</th>\n",
       "      <th>AgeOfVehicle</th>\n",
       "      <th>AgeOfPolicyHolder</th>\n",
       "      <th>NumberOfSuppliments</th>\n",
       "      <th>AddressChange-Claim</th>\n",
       "      <th>BasePolicy</th>\n",
       "    </tr>\n",
       "  </thead>\n",
       "  <tbody>\n",
       "    <tr>\n",
       "      <th>15360</th>\n",
       "      <td>2</td>\n",
       "      <td>2</td>\n",
       "      <td>0</td>\n",
       "      <td>30.0</td>\n",
       "      <td>1</td>\n",
       "      <td>3</td>\n",
       "      <td>1</td>\n",
       "      <td>2</td>\n",
       "      <td>16</td>\n",
       "      <td>0</td>\n",
       "      <td>6</td>\n",
       "      <td>5</td>\n",
       "      <td>1</td>\n",
       "      <td>1</td>\n",
       "      <td>1</td>\n",
       "    </tr>\n",
       "    <tr>\n",
       "      <th>7664</th>\n",
       "      <td>11</td>\n",
       "      <td>11</td>\n",
       "      <td>1</td>\n",
       "      <td>31.0</td>\n",
       "      <td>1</td>\n",
       "      <td>6</td>\n",
       "      <td>3</td>\n",
       "      <td>1</td>\n",
       "      <td>4</td>\n",
       "      <td>0</td>\n",
       "      <td>5</td>\n",
       "      <td>5</td>\n",
       "      <td>2</td>\n",
       "      <td>5</td>\n",
       "      <td>2</td>\n",
       "    </tr>\n",
       "    <tr>\n",
       "      <th>11122</th>\n",
       "      <td>3</td>\n",
       "      <td>4</td>\n",
       "      <td>1</td>\n",
       "      <td>37.0</td>\n",
       "      <td>1</td>\n",
       "      <td>5</td>\n",
       "      <td>3</td>\n",
       "      <td>0</td>\n",
       "      <td>11</td>\n",
       "      <td>0</td>\n",
       "      <td>7</td>\n",
       "      <td>6</td>\n",
       "      <td>2</td>\n",
       "      <td>1</td>\n",
       "      <td>3</td>\n",
       "    </tr>\n",
       "    <tr>\n",
       "      <th>4731</th>\n",
       "      <td>6</td>\n",
       "      <td>7</td>\n",
       "      <td>0</td>\n",
       "      <td>28.0</td>\n",
       "      <td>1</td>\n",
       "      <td>6</td>\n",
       "      <td>3</td>\n",
       "      <td>2</td>\n",
       "      <td>10</td>\n",
       "      <td>2</td>\n",
       "      <td>5</td>\n",
       "      <td>5</td>\n",
       "      <td>4</td>\n",
       "      <td>3</td>\n",
       "      <td>2</td>\n",
       "    </tr>\n",
       "    <tr>\n",
       "      <th>10440</th>\n",
       "      <td>3</td>\n",
       "      <td>3</td>\n",
       "      <td>1</td>\n",
       "      <td>30.0</td>\n",
       "      <td>1</td>\n",
       "      <td>6</td>\n",
       "      <td>3</td>\n",
       "      <td>1</td>\n",
       "      <td>10</td>\n",
       "      <td>0</td>\n",
       "      <td>6</td>\n",
       "      <td>5</td>\n",
       "      <td>2</td>\n",
       "      <td>1</td>\n",
       "      <td>2</td>\n",
       "    </tr>\n",
       "    <tr>\n",
       "      <th>...</th>\n",
       "      <td>...</td>\n",
       "      <td>...</td>\n",
       "      <td>...</td>\n",
       "      <td>...</td>\n",
       "      <td>...</td>\n",
       "      <td>...</td>\n",
       "      <td>...</td>\n",
       "      <td>...</td>\n",
       "      <td>...</td>\n",
       "      <td>...</td>\n",
       "      <td>...</td>\n",
       "      <td>...</td>\n",
       "      <td>...</td>\n",
       "      <td>...</td>\n",
       "      <td>...</td>\n",
       "    </tr>\n",
       "    <tr>\n",
       "      <th>10666</th>\n",
       "      <td>3</td>\n",
       "      <td>4</td>\n",
       "      <td>0</td>\n",
       "      <td>35.0</td>\n",
       "      <td>1</td>\n",
       "      <td>2</td>\n",
       "      <td>1</td>\n",
       "      <td>5</td>\n",
       "      <td>9</td>\n",
       "      <td>0</td>\n",
       "      <td>6</td>\n",
       "      <td>5</td>\n",
       "      <td>1</td>\n",
       "      <td>1</td>\n",
       "      <td>2</td>\n",
       "    </tr>\n",
       "    <tr>\n",
       "      <th>894</th>\n",
       "      <td>1</td>\n",
       "      <td>2</td>\n",
       "      <td>0</td>\n",
       "      <td>24.0</td>\n",
       "      <td>1</td>\n",
       "      <td>6</td>\n",
       "      <td>3</td>\n",
       "      <td>2</td>\n",
       "      <td>12</td>\n",
       "      <td>2</td>\n",
       "      <td>5</td>\n",
       "      <td>4</td>\n",
       "      <td>4</td>\n",
       "      <td>1</td>\n",
       "      <td>2</td>\n",
       "    </tr>\n",
       "    <tr>\n",
       "      <th>9865</th>\n",
       "      <td>2</td>\n",
       "      <td>2</td>\n",
       "      <td>0</td>\n",
       "      <td>44.0</td>\n",
       "      <td>1</td>\n",
       "      <td>5</td>\n",
       "      <td>3</td>\n",
       "      <td>5</td>\n",
       "      <td>8</td>\n",
       "      <td>0</td>\n",
       "      <td>7</td>\n",
       "      <td>6</td>\n",
       "      <td>3</td>\n",
       "      <td>1</td>\n",
       "      <td>3</td>\n",
       "    </tr>\n",
       "    <tr>\n",
       "      <th>6329</th>\n",
       "      <td>9</td>\n",
       "      <td>9</td>\n",
       "      <td>0</td>\n",
       "      <td>35.0</td>\n",
       "      <td>1</td>\n",
       "      <td>5</td>\n",
       "      <td>3</td>\n",
       "      <td>0</td>\n",
       "      <td>4</td>\n",
       "      <td>1</td>\n",
       "      <td>5</td>\n",
       "      <td>5</td>\n",
       "      <td>1</td>\n",
       "      <td>1</td>\n",
       "      <td>3</td>\n",
       "    </tr>\n",
       "    <tr>\n",
       "      <th>12652</th>\n",
       "      <td>6</td>\n",
       "      <td>6</td>\n",
       "      <td>0</td>\n",
       "      <td>46.0</td>\n",
       "      <td>1</td>\n",
       "      <td>6</td>\n",
       "      <td>3</td>\n",
       "      <td>1</td>\n",
       "      <td>3</td>\n",
       "      <td>1</td>\n",
       "      <td>7</td>\n",
       "      <td>7</td>\n",
       "      <td>2</td>\n",
       "      <td>1</td>\n",
       "      <td>2</td>\n",
       "    </tr>\n",
       "  </tbody>\n",
       "</table>\n",
       "<p>1218 rows × 15 columns</p>\n",
       "</div>"
      ],
      "text/plain": [
       "      Month MonthClaimed  Sex   Age  Fault PolicyType VehicleCategory  \\\n",
       "15360     2            2    0  30.0      1          3               1   \n",
       "7664     11           11    1  31.0      1          6               3   \n",
       "11122     3            4    1  37.0      1          5               3   \n",
       "4731      6            7    0  28.0      1          6               3   \n",
       "10440     3            3    1  30.0      1          6               3   \n",
       "...     ...          ...  ...   ...    ...        ...             ...   \n",
       "10666     3            4    0  35.0      1          2               1   \n",
       "894       1            2    0  24.0      1          6               3   \n",
       "9865      2            2    0  44.0      1          5               3   \n",
       "6329      9            9    0  35.0      1          5               3   \n",
       "12652     6            6    0  46.0      1          6               3   \n",
       "\n",
       "      VehiclePrice RepNumber PastNumberOfClaims AgeOfVehicle  \\\n",
       "15360            2        16                  0            6   \n",
       "7664             1         4                  0            5   \n",
       "11122            0        11                  0            7   \n",
       "4731             2        10                  2            5   \n",
       "10440            1        10                  0            6   \n",
       "...            ...       ...                ...          ...   \n",
       "10666            5         9                  0            6   \n",
       "894              2        12                  2            5   \n",
       "9865             5         8                  0            7   \n",
       "6329             0         4                  1            5   \n",
       "12652            1         3                  1            7   \n",
       "\n",
       "      AgeOfPolicyHolder NumberOfSuppliments AddressChange-Claim  BasePolicy  \n",
       "15360                 5                   1                   1           1  \n",
       "7664                  5                   2                   5           2  \n",
       "11122                 6                   2                   1           3  \n",
       "4731                  5                   4                   3           2  \n",
       "10440                 5                   2                   1           2  \n",
       "...                 ...                 ...                 ...         ...  \n",
       "10666                 5                   1                   1           2  \n",
       "894                   4                   4                   1           2  \n",
       "9865                  6                   3                   1           3  \n",
       "6329                  5                   1                   1           3  \n",
       "12652                 7                   2                   1           2  \n",
       "\n",
       "[1218 rows x 15 columns]"
      ]
     },
     "execution_count": 20,
     "metadata": {},
     "output_type": "execute_result"
    }
   ],
   "source": [
    "X_kbest"
   ]
  },
  {
   "cell_type": "code",
   "execution_count": 21,
   "id": "6d029508",
   "metadata": {},
   "outputs": [
    {
     "data": {
      "text/plain": [
       "<PandasArray>\n",
       "[0, 1, 1, 1, 1, 0, 0, 0, 0, 0,\n",
       " ...\n",
       " 0, 0, 1, 1, 0, 1, 1, 1, 1, 1]\n",
       "Length: 1218, dtype: int64"
      ]
     },
     "execution_count": 21,
     "metadata": {},
     "output_type": "execute_result"
    }
   ],
   "source": [
    "y_train"
   ]
  },
  {
   "cell_type": "code",
   "execution_count": 22,
   "id": "368590ea",
   "metadata": {},
   "outputs": [
    {
     "name": "stdout",
     "output_type": "stream",
     "text": [
      "0.7563694267515924\n"
     ]
    }
   ],
   "source": [
    "from sklearn.svm import SVC\n",
    "from sklearn.metrics import accuracy_score\n",
    "\n",
    "clf = SVC(kernel='linear')\n",
    "clf.fit(X_kbest,y_train)\n",
    "y_pred = clf.predict(test_kbest)\n",
    "print(accuracy_score(y_test,y_pred))"
   ]
  },
  {
   "cell_type": "code",
   "execution_count": 23,
   "id": "96f2fcd7",
   "metadata": {},
   "outputs": [
    {
     "data": {
      "text/plain": [
       "Text(91.68, 0.5, 'Actual label')"
      ]
     },
     "execution_count": 23,
     "metadata": {},
     "output_type": "execute_result"
    },
    {
     "data": {
      "image/png": "[encoded data removed]",
      "text/plain": [
       "<Figure size 432x288 with 1 Axes>"
      ]
     },
     "metadata": {
      "needs_background": "light"
     },
     "output_type": "display_data"
    }
   ],
   "source": [
    "mat = confusion_matrix(y_test, y_pred)\n",
    "labels = ['Legitimate', 'Fraudulent']\n",
    " \n",
    "sns.heatmap(mat, square=True, annot=True, fmt='d', cbar=False, cmap='Blues',\n",
    "            xticklabels=labels, yticklabels=labels)\n",
    " \n",
    "plt.xlabel('Predicted label')\n",
    "plt.ylabel('Actual label')"
   ]
  },
  {
   "cell_type": "markdown",
   "id": "0b0a6a1f",
   "metadata": {},
   "source": [
    "# VarianceThreshold"
   ]
  },
  {
   "cell_type": "code",
   "execution_count": 24,
   "id": "4322bc07",
   "metadata": {},
   "outputs": [],
   "source": [
    "from sklearn.feature_selection import VarianceThreshold"
   ]
  },
  {
   "cell_type": "code",
   "execution_count": 64,
   "id": "41a465a7",
   "metadata": {},
   "outputs": [],
   "source": [
    "sel = VarianceThreshold(threshold=0.3)"
   ]
  },
  {
   "cell_type": "code",
   "execution_count": 65,
   "id": "bcdc5fbd",
   "metadata": {},
   "outputs": [],
   "source": [
    "X = sel.fit_transform(X)"
   ]
  },
  {
   "cell_type": "code",
   "execution_count": 66,
   "id": "e007d7fe",
   "metadata": {},
   "outputs": [
    {
     "data": {
      "text/plain": [
       "18"
      ]
     },
     "execution_count": 66,
     "metadata": {},
     "output_type": "execute_result"
    }
   ],
   "source": [
    "len(x[0])"
   ]
  },
  {
   "cell_type": "code",
   "execution_count": 67,
   "id": "45680671",
   "metadata": {},
   "outputs": [
    {
     "name": "stdout",
     "output_type": "stream",
     "text": [
      "0.5\n",
      "0.5\n"
     ]
    }
   ],
   "source": [
    "#split into stratified train/test split\n",
    "X_train, X_test, y_train, y_test = train_test_split(X, y, test_size=0.34, random_state=39, stratify = y)\n",
    "train, test = train_test_split(data, test_size=0.34, random_state=39, stratify = data['label'])\n",
    "print(len(train[train['label'] == 1]) / len(train))\n",
    "print(len(test[test['label'] == 1]) / len(test))"
   ]
  },
  {
   "cell_type": "code",
   "execution_count": 68,
   "id": "64e84539",
   "metadata": {},
   "outputs": [],
   "source": [
    "model = Sequential()\n",
    "model.add(Dense(512, activation='relu', input_dim=18))\n",
    "model.add(Dense(512, activation='relu'))\n",
    "model.add(Dense(1, activation='sigmoid'))\n",
    "model.compile(optimizer='adam', loss='binary_crossentropy', metrics=['accuracy'])"
   ]
  },
  {
   "cell_type": "code",
   "execution_count": 69,
   "id": "809216e1",
   "metadata": {},
   "outputs": [
    {
     "name": "stdout",
     "output_type": "stream",
     "text": [
      "Train on 1218 samples, validate on 628 samples\n",
      "Epoch 1/100\n",
      "1218/1218 [==============================] - 1s 531us/step - loss: 11.6417 - accuracy: 0.5000 - val_loss: 7.8588 - val_accuracy: 0.5000\n",
      "Epoch 2/100\n",
      "1218/1218 [==============================] - 0s 124us/step - loss: 5.0852 - accuracy: 0.5049 - val_loss: 4.5190 - val_accuracy: 0.5000\n",
      "Epoch 3/100\n",
      "1218/1218 [==============================] - 0s 121us/step - loss: 3.8252 - accuracy: 0.4852 - val_loss: 4.1005 - val_accuracy: 0.5000\n",
      "Epoch 4/100\n",
      "1218/1218 [==============================] - 0s 116us/step - loss: 4.6241 - accuracy: 0.4918 - val_loss: 5.0575 - val_accuracy: 0.5000\n",
      "Epoch 5/100\n",
      "1218/1218 [==============================] - 0s 122us/step - loss: 3.1890 - accuracy: 0.4885 - val_loss: 3.4861 - val_accuracy: 0.5000\n",
      "Epoch 6/100\n",
      "1218/1218 [==============================] - 0s 119us/step - loss: 2.9899 - accuracy: 0.5189 - val_loss: 4.5490 - val_accuracy: 0.5000\n",
      "Epoch 7/100\n",
      "1218/1218 [==============================] - 0s 116us/step - loss: 2.2093 - accuracy: 0.4959 - val_loss: 0.8179 - val_accuracy: 0.5127\n",
      "Epoch 8/100\n",
      "1218/1218 [==============================] - 0s 120us/step - loss: 1.3175 - accuracy: 0.5181 - val_loss: 0.7390 - val_accuracy: 0.5382\n",
      "Epoch 9/100\n",
      "1218/1218 [==============================] - 0s 120us/step - loss: 0.7891 - accuracy: 0.5337 - val_loss: 0.9657 - val_accuracy: 0.5096\n",
      "Epoch 10/100\n",
      "1218/1218 [==============================] - 0s 135us/step - loss: 0.9938 - accuracy: 0.5008 - val_loss: 0.7532 - val_accuracy: 0.5159\n",
      "Epoch 11/100\n",
      "1218/1218 [==============================] - 0s 120us/step - loss: 0.7564 - accuracy: 0.5255 - val_loss: 0.8887 - val_accuracy: 0.5016\n",
      "Epoch 12/100\n",
      "1218/1218 [==============================] - 0s 124us/step - loss: 0.9782 - accuracy: 0.5008 - val_loss: 0.9209 - val_accuracy: 0.5032\n",
      "Epoch 13/100\n",
      "1218/1218 [==============================] - 0s 119us/step - loss: 0.7956 - accuracy: 0.5025 - val_loss: 1.5163 - val_accuracy: 0.5000\n",
      "Epoch 14/100\n",
      "1218/1218 [==============================] - 0s 118us/step - loss: 1.1393 - accuracy: 0.5049 - val_loss: 0.7817 - val_accuracy: 0.5191\n",
      "Epoch 15/100\n",
      "1218/1218 [==============================] - 0s 122us/step - loss: 0.9656 - accuracy: 0.5205 - val_loss: 0.6842 - val_accuracy: 0.5605\n",
      "Epoch 16/100\n",
      "1218/1218 [==============================] - 0s 123us/step - loss: 0.7625 - accuracy: 0.5484 - val_loss: 0.6852 - val_accuracy: 0.5717\n",
      "Epoch 17/100\n",
      "1218/1218 [==============================] - 0s 119us/step - loss: 0.8754 - accuracy: 0.5427 - val_loss: 0.7379 - val_accuracy: 0.5207\n",
      "Epoch 18/100\n",
      "1218/1218 [==============================] - 0s 118us/step - loss: 0.6942 - accuracy: 0.5517 - val_loss: 0.9574 - val_accuracy: 0.5000\n",
      "Epoch 19/100\n",
      "1218/1218 [==============================] - 0s 123us/step - loss: 0.7411 - accuracy: 0.5411 - val_loss: 1.1962 - val_accuracy: 0.5000\n",
      "Epoch 20/100\n",
      "1218/1218 [==============================] - 0s 120us/step - loss: 0.8083 - accuracy: 0.5394 - val_loss: 0.7768 - val_accuracy: 0.5080\n",
      "Epoch 21/100\n",
      "1218/1218 [==============================] - 0s 119us/step - loss: 0.8407 - accuracy: 0.5189 - val_loss: 0.6890 - val_accuracy: 0.5414\n",
      "Epoch 22/100\n",
      "1218/1218 [==============================] - 0s 121us/step - loss: 0.8214 - accuracy: 0.5575 - val_loss: 1.0023 - val_accuracy: 0.5032\n",
      "Epoch 23/100\n",
      "1218/1218 [==============================] - 0s 122us/step - loss: 1.0014 - accuracy: 0.5115 - val_loss: 1.4869 - val_accuracy: 0.5000\n",
      "Epoch 24/100\n",
      "1218/1218 [==============================] - 0s 121us/step - loss: 0.8089 - accuracy: 0.5460 - val_loss: 0.7162 - val_accuracy: 0.5239\n",
      "Epoch 25/100\n",
      "1218/1218 [==============================] - 0s 119us/step - loss: 0.8822 - accuracy: 0.5460 - val_loss: 2.4121 - val_accuracy: 0.5000\n",
      "Epoch 26/100\n",
      "1218/1218 [==============================] - 0s 118us/step - loss: 1.4898 - accuracy: 0.5328 - val_loss: 0.9588 - val_accuracy: 0.5000\n",
      "Epoch 27/100\n",
      "1218/1218 [==============================] - 0s 119us/step - loss: 0.7584 - accuracy: 0.5427 - val_loss: 0.8982 - val_accuracy: 0.5016\n",
      "Epoch 28/100\n",
      "1218/1218 [==============================] - 0s 120us/step - loss: 0.9253 - accuracy: 0.5033 - val_loss: 1.5222 - val_accuracy: 0.5000\n",
      "Epoch 29/100\n",
      "1218/1218 [==============================] - 0s 124us/step - loss: 0.9888 - accuracy: 0.4984 - val_loss: 1.0917 - val_accuracy: 0.5000\n",
      "Epoch 30/100\n",
      "1218/1218 [==============================] - 0s 117us/step - loss: 1.0710 - accuracy: 0.5411 - val_loss: 1.6423 - val_accuracy: 0.5000\n",
      "Epoch 31/100\n",
      "1218/1218 [==============================] - 0s 116us/step - loss: 0.8665 - accuracy: 0.5591 - val_loss: 0.8600 - val_accuracy: 0.5143\n",
      "Epoch 32/100\n",
      "1218/1218 [==============================] - 0s 124us/step - loss: 0.9967 - accuracy: 0.4943 - val_loss: 1.0664 - val_accuracy: 0.5000\n",
      "Epoch 33/100\n",
      "1218/1218 [==============================] - 0s 123us/step - loss: 0.9297 - accuracy: 0.5246 - val_loss: 0.6721 - val_accuracy: 0.5685\n",
      "Epoch 34/100\n",
      "1218/1218 [==============================] - 0s 121us/step - loss: 1.0194 - accuracy: 0.5074 - val_loss: 0.9896 - val_accuracy: 0.5048\n",
      "Epoch 35/100\n",
      "1218/1218 [==============================] - 0s 117us/step - loss: 0.9713 - accuracy: 0.5057 - val_loss: 0.7098 - val_accuracy: 0.5908\n",
      "Epoch 36/100\n",
      "1218/1218 [==============================] - 0s 122us/step - loss: 1.6466 - accuracy: 0.5008 - val_loss: 3.8945 - val_accuracy: 0.5000\n",
      "Epoch 37/100\n",
      "1218/1218 [==============================] - 0s 119us/step - loss: 1.9831 - accuracy: 0.4910 - val_loss: 1.2284 - val_accuracy: 0.5064\n",
      "Epoch 38/100\n",
      "1218/1218 [==============================] - 0s 125us/step - loss: 1.3327 - accuracy: 0.5164 - val_loss: 1.2872 - val_accuracy: 0.5000\n",
      "Epoch 39/100\n",
      "1218/1218 [==============================] - 0s 124us/step - loss: 1.0677 - accuracy: 0.5156 - val_loss: 0.9349 - val_accuracy: 0.5143\n",
      "Epoch 40/100\n",
      "1218/1218 [==============================] - 0s 124us/step - loss: 0.7754 - accuracy: 0.5599 - val_loss: 0.7313 - val_accuracy: 0.5908\n",
      "Epoch 41/100\n",
      "1218/1218 [==============================] - 0s 121us/step - loss: 0.6774 - accuracy: 0.5944 - val_loss: 0.7165 - val_accuracy: 0.5812\n",
      "Epoch 42/100\n",
      "1218/1218 [==============================] - 0s 118us/step - loss: 0.6804 - accuracy: 0.5764 - val_loss: 0.7479 - val_accuracy: 0.5143\n",
      "Epoch 43/100\n",
      "1218/1218 [==============================] - 0s 120us/step - loss: 0.6845 - accuracy: 0.5772 - val_loss: 0.7050 - val_accuracy: 0.5462\n",
      "Epoch 44/100\n",
      "1218/1218 [==============================] - 0s 113us/step - loss: 0.7536 - accuracy: 0.5698 - val_loss: 0.6834 - val_accuracy: 0.6099\n",
      "Epoch 45/100\n",
      "1218/1218 [==============================] - 0s 119us/step - loss: 0.8946 - accuracy: 0.5394 - val_loss: 1.3730 - val_accuracy: 0.5000\n",
      "Epoch 46/100\n",
      "1218/1218 [==============================] - 0s 116us/step - loss: 0.8559 - accuracy: 0.5624 - val_loss: 0.6593 - val_accuracy: 0.6019\n",
      "Epoch 47/100\n",
      "1218/1218 [==============================] - 0s 118us/step - loss: 0.6738 - accuracy: 0.5928 - val_loss: 0.8054 - val_accuracy: 0.5271\n",
      "Epoch 48/100\n",
      "1218/1218 [==============================] - 0s 120us/step - loss: 0.7303 - accuracy: 0.5591 - val_loss: 0.7191 - val_accuracy: 0.5414\n",
      "Epoch 49/100\n",
      "1218/1218 [==============================] - 0s 119us/step - loss: 0.6926 - accuracy: 0.5813 - val_loss: 0.6575 - val_accuracy: 0.5955\n",
      "Epoch 50/100\n",
      "1218/1218 [==============================] - 0s 120us/step - loss: 0.6748 - accuracy: 0.5961 - val_loss: 0.6591 - val_accuracy: 0.5764\n",
      "Epoch 51/100\n",
      "1218/1218 [==============================] - 0s 120us/step - loss: 0.6554 - accuracy: 0.5903 - val_loss: 0.7098 - val_accuracy: 0.6019\n",
      "Epoch 52/100\n",
      "1218/1218 [==============================] - 0s 127us/step - loss: 0.6887 - accuracy: 0.5944 - val_loss: 0.7468 - val_accuracy: 0.5589\n",
      "Epoch 53/100\n",
      "1218/1218 [==============================] - 0s 118us/step - loss: 0.9493 - accuracy: 0.5320 - val_loss: 0.8373 - val_accuracy: 0.5271\n",
      "Epoch 54/100\n",
      "1218/1218 [==============================] - 0s 120us/step - loss: 0.7701 - accuracy: 0.5476 - val_loss: 0.8985 - val_accuracy: 0.5239\n",
      "Epoch 55/100\n",
      "1218/1218 [==============================] - 0s 127us/step - loss: 0.7273 - accuracy: 0.5780 - val_loss: 0.7584 - val_accuracy: 0.5557\n",
      "Epoch 56/100\n"
     ]
    },
    {
     "name": "stdout",
     "output_type": "stream",
     "text": [
      "1218/1218 [==============================] - 0s 120us/step - loss: 0.8094 - accuracy: 0.5525 - val_loss: 0.6683 - val_accuracy: 0.6099\n",
      "Epoch 57/100\n",
      "1218/1218 [==============================] - 0s 117us/step - loss: 0.7437 - accuracy: 0.5616 - val_loss: 0.7521 - val_accuracy: 0.5717\n",
      "Epoch 58/100\n",
      "1218/1218 [==============================] - 0s 120us/step - loss: 0.7071 - accuracy: 0.5739 - val_loss: 0.9278 - val_accuracy: 0.5016\n",
      "Epoch 59/100\n",
      "1218/1218 [==============================] - 0s 117us/step - loss: 0.8176 - accuracy: 0.5525 - val_loss: 0.6883 - val_accuracy: 0.5430\n",
      "Epoch 60/100\n",
      "1218/1218 [==============================] - 0s 116us/step - loss: 0.6907 - accuracy: 0.5903 - val_loss: 1.1960 - val_accuracy: 0.5000\n",
      "Epoch 61/100\n",
      "1218/1218 [==============================] - 0s 119us/step - loss: 0.9787 - accuracy: 0.5123 - val_loss: 0.7671 - val_accuracy: 0.5669\n",
      "Epoch 62/100\n",
      "1218/1218 [==============================] - 0s 118us/step - loss: 0.8979 - accuracy: 0.5345 - val_loss: 1.0518 - val_accuracy: 0.5048\n",
      "Epoch 63/100\n",
      "1218/1218 [==============================] - 0s 118us/step - loss: 0.7910 - accuracy: 0.5484 - val_loss: 0.7031 - val_accuracy: 0.6146\n",
      "Epoch 64/100\n",
      "1218/1218 [==============================] - 0s 118us/step - loss: 0.6657 - accuracy: 0.5928 - val_loss: 0.8895 - val_accuracy: 0.5287\n",
      "Epoch 65/100\n",
      "1218/1218 [==============================] - 0s 119us/step - loss: 0.8730 - accuracy: 0.4918 - val_loss: 0.6934 - val_accuracy: 0.6306\n",
      "Epoch 66/100\n",
      "1218/1218 [==============================] - 0s 137us/step - loss: 0.6483 - accuracy: 0.6010 - val_loss: 0.6621 - val_accuracy: 0.6099\n",
      "Epoch 67/100\n",
      "1218/1218 [==============================] - 0s 125us/step - loss: 0.6658 - accuracy: 0.6026 - val_loss: 0.7823 - val_accuracy: 0.5494\n",
      "Epoch 68/100\n",
      "1218/1218 [==============================] - 0s 126us/step - loss: 0.6576 - accuracy: 0.5961 - val_loss: 0.7048 - val_accuracy: 0.6194\n",
      "Epoch 69/100\n",
      "1218/1218 [==============================] - 0s 117us/step - loss: 0.7757 - accuracy: 0.5558 - val_loss: 0.9093 - val_accuracy: 0.5271\n",
      "Epoch 70/100\n",
      "1218/1218 [==============================] - 0s 126us/step - loss: 0.8239 - accuracy: 0.5501 - val_loss: 0.6859 - val_accuracy: 0.6258\n",
      "Epoch 71/100\n",
      "1218/1218 [==============================] - 0s 121us/step - loss: 0.7708 - accuracy: 0.5665 - val_loss: 0.6993 - val_accuracy: 0.5510\n",
      "Epoch 72/100\n",
      "1218/1218 [==============================] - 0s 116us/step - loss: 0.7711 - accuracy: 0.5575 - val_loss: 1.2170 - val_accuracy: 0.5000\n",
      "Epoch 73/100\n",
      "1218/1218 [==============================] - 0s 117us/step - loss: 0.8632 - accuracy: 0.5640 - val_loss: 1.2017 - val_accuracy: 0.5016\n",
      "Epoch 74/100\n",
      "1218/1218 [==============================] - 0s 119us/step - loss: 1.0299 - accuracy: 0.5476 - val_loss: 0.9357 - val_accuracy: 0.5032\n",
      "Epoch 75/100\n",
      "1218/1218 [==============================] - 0s 118us/step - loss: 0.8054 - accuracy: 0.5673 - val_loss: 0.9061 - val_accuracy: 0.5048\n",
      "Epoch 76/100\n",
      "1218/1218 [==============================] - 0s 122us/step - loss: 0.8071 - accuracy: 0.5501 - val_loss: 0.6564 - val_accuracy: 0.5844\n",
      "Epoch 77/100\n",
      "1218/1218 [==============================] - 0s 119us/step - loss: 0.6666 - accuracy: 0.5969 - val_loss: 0.6925 - val_accuracy: 0.5557\n",
      "Epoch 78/100\n",
      "1218/1218 [==============================] - 0s 133us/step - loss: 0.7051 - accuracy: 0.5920 - val_loss: 0.7165 - val_accuracy: 0.5398\n",
      "Epoch 79/100\n",
      "1218/1218 [==============================] - 0s 118us/step - loss: 0.7677 - accuracy: 0.5739 - val_loss: 0.7611 - val_accuracy: 0.5143\n",
      "Epoch 80/100\n",
      "1218/1218 [==============================] - 0s 119us/step - loss: 0.7337 - accuracy: 0.5550 - val_loss: 0.8710 - val_accuracy: 0.5032\n",
      "Epoch 81/100\n",
      "1218/1218 [==============================] - 0s 114us/step - loss: 0.6687 - accuracy: 0.5961 - val_loss: 0.6899 - val_accuracy: 0.5510\n",
      "Epoch 82/100\n",
      "1218/1218 [==============================] - 0s 118us/step - loss: 0.6369 - accuracy: 0.6232 - val_loss: 0.7286 - val_accuracy: 0.6003\n",
      "Epoch 83/100\n",
      "1218/1218 [==============================] - 0s 121us/step - loss: 0.8105 - accuracy: 0.5468 - val_loss: 1.1195 - val_accuracy: 0.5032\n",
      "Epoch 84/100\n",
      "1218/1218 [==============================] - 0s 118us/step - loss: 0.8986 - accuracy: 0.5312 - val_loss: 0.8589 - val_accuracy: 0.5398\n",
      "Epoch 85/100\n",
      "1218/1218 [==============================] - 0s 120us/step - loss: 0.8620 - accuracy: 0.5312 - val_loss: 0.6624 - val_accuracy: 0.5780\n",
      "Epoch 86/100\n",
      "1218/1218 [==============================] - 0s 119us/step - loss: 0.7200 - accuracy: 0.5854 - val_loss: 0.7972 - val_accuracy: 0.5143\n",
      "Epoch 87/100\n",
      "1218/1218 [==============================] - 0s 119us/step - loss: 0.7087 - accuracy: 0.5911 - val_loss: 0.6634 - val_accuracy: 0.6178\n",
      "Epoch 88/100\n",
      "1218/1218 [==============================] - 0s 116us/step - loss: 0.6640 - accuracy: 0.6018 - val_loss: 0.6926 - val_accuracy: 0.5525\n",
      "Epoch 89/100\n",
      "1218/1218 [==============================] - 0s 117us/step - loss: 0.6640 - accuracy: 0.5977 - val_loss: 0.7734 - val_accuracy: 0.5111\n",
      "Epoch 90/100\n",
      "1218/1218 [==============================] - 0s 117us/step - loss: 0.6875 - accuracy: 0.5846 - val_loss: 0.6548 - val_accuracy: 0.5844\n",
      "Epoch 91/100\n",
      "1218/1218 [==============================] - 0s 116us/step - loss: 0.7741 - accuracy: 0.5870 - val_loss: 0.6575 - val_accuracy: 0.5939\n",
      "Epoch 92/100\n",
      "1218/1218 [==============================] - 0s 116us/step - loss: 0.6488 - accuracy: 0.6100 - val_loss: 0.7050 - val_accuracy: 0.5430\n",
      "Epoch 93/100\n",
      "1218/1218 [==============================] - 0s 119us/step - loss: 0.6793 - accuracy: 0.5961 - val_loss: 0.7039 - val_accuracy: 0.6306\n",
      "Epoch 94/100\n",
      "1218/1218 [==============================] - 0s 119us/step - loss: 0.6701 - accuracy: 0.5911 - val_loss: 0.8283 - val_accuracy: 0.5494\n",
      "Epoch 95/100\n",
      "1218/1218 [==============================] - 0s 116us/step - loss: 0.9061 - accuracy: 0.5460 - val_loss: 1.2243 - val_accuracy: 0.5000\n",
      "Epoch 96/100\n",
      "1218/1218 [==============================] - 0s 117us/step - loss: 0.8363 - accuracy: 0.5624 - val_loss: 1.0541 - val_accuracy: 0.5080\n",
      "Epoch 97/100\n",
      "1218/1218 [==============================] - 0s 124us/step - loss: 0.8333 - accuracy: 0.5337 - val_loss: 0.6659 - val_accuracy: 0.6258\n",
      "Epoch 98/100\n",
      "1218/1218 [==============================] - 0s 118us/step - loss: 0.7082 - accuracy: 0.5788 - val_loss: 0.6979 - val_accuracy: 0.6290\n",
      "Epoch 99/100\n",
      "1218/1218 [==============================] - 0s 119us/step - loss: 0.6575 - accuracy: 0.6149 - val_loss: 0.9510 - val_accuracy: 0.5016\n",
      "Epoch 100/100\n",
      "1218/1218 [==============================] - 0s 119us/step - loss: 0.7045 - accuracy: 0.5846 - val_loss: 0.6947 - val_accuracy: 0.6290\n"
     ]
    }
   ],
   "source": [
    "mod = model.fit(X_train, y_train, validation_data=(X_test, y_test), epochs=100, batch_size=100)"
   ]
  },
  {
   "cell_type": "code",
   "execution_count": 70,
   "id": "3905343e",
   "metadata": {},
   "outputs": [
    {
     "data": {
      "text/plain": [
       "Text(91.68, 0.5, 'Actual label')"
      ]
     },
     "execution_count": 70,
     "metadata": {},
     "output_type": "execute_result"
    },
    {
     "data": {
      "image/png": "[encoded data removed]",
      "text/plain": [
       "<Figure size 432x288 with 1 Axes>"
      ]
     },
     "metadata": {
      "needs_background": "light"
     },
     "output_type": "display_data"
    }
   ],
   "source": [
    "y_predicted = model.predict(X_test) > 0.5\n",
    "mat = confusion_matrix(y_test, y_predicted)\n",
    "labels = ['Legitimate', 'Fraudulent']\n",
    " \n",
    "sns.heatmap(mat, square=True, annot=True, fmt='d', cbar=False, cmap='Blues',\n",
    "            xticklabels=labels, yticklabels=labels)\n",
    " \n",
    "plt.xlabel('Predicted label')\n",
    "plt.ylabel('Actual label')"
   ]
  },
  {
   "cell_type": "code",
   "execution_count": 73,
   "id": "66bd8adc",
   "metadata": {},
   "outputs": [
    {
     "name": "stdout",
     "output_type": "stream",
     "text": [
      "0.6114649681528662\n"
     ]
    }
   ],
   "source": [
    "from sklearn.svm import SVC\n",
    "from sklearn.metrics import accuracy_score\n",
    "\n",
    "clf = SVC(kernel='linear')\n",
    "clf.fit(X_train,y_train)\n",
    "y_pred = clf.predict(X_test)\n",
    "print(accuracy_score(y_test,y_pred))"
   ]
  },
  {
   "cell_type": "code",
   "execution_count": 74,
   "id": "d6c67faf",
   "metadata": {},
   "outputs": [
    {
     "data": {
      "text/plain": [
       "Text(91.68, 0.5, 'Actual label')"
      ]
     },
     "execution_count": 74,
     "metadata": {},
     "output_type": "execute_result"
    },
    {
     "data": {
      "image/png": "[encoded data removed]",
      "text/plain": [
       "<Figure size 432x288 with 1 Axes>"
      ]
     },
     "metadata": {
      "needs_background": "light"
     },
     "output_type": "display_data"
    }
   ],
   "source": [
    "mat = confusion_matrix(y_test, y_pred)\n",
    "labels = ['Legitimate', 'Fraudulent']\n",
    " \n",
    "sns.heatmap(mat, square=True, annot=True, fmt='d', cbar=False, cmap='Blues',\n",
    "            xticklabels=labels, yticklabels=labels)\n",
    " \n",
    "plt.xlabel('Predicted label')\n",
    "plt.ylabel('Actual label')"
   ]
  },
  {
   "cell_type": "markdown",
   "id": "05612451",
   "metadata": {},
   "source": [
    "# Tree Based feature classifier"
   ]
  },
  {
   "cell_type": "code",
   "execution_count": 76,
   "id": "f8a7a9f2",
   "metadata": {},
   "outputs": [],
   "source": [
    "from sklearn.ensemble import ExtraTreesClassifier"
   ]
  },
  {
   "cell_type": "code",
   "execution_count": 77,
   "id": "03e79862",
   "metadata": {},
   "outputs": [],
   "source": [
    "from sklearn.feature_selection import SelectFromModel"
   ]
  },
  {
   "cell_type": "code",
   "execution_count": 95,
   "id": "7ad55993",
   "metadata": {},
   "outputs": [],
   "source": [
    "X = data.iloc[:,:-1]\n",
    "y = data['label'].array"
   ]
  },
  {
   "cell_type": "code",
   "execution_count": 96,
   "id": "ba7f8cd0",
   "metadata": {},
   "outputs": [],
   "source": [
    "clf = ExtraTreesClassifier(n_estimators=60)"
   ]
  },
  {
   "cell_type": "code",
   "execution_count": 97,
   "id": "ed1e4dff",
   "metadata": {},
   "outputs": [],
   "source": [
    "clf = clf.fit(X, y)"
   ]
  },
  {
   "cell_type": "code",
   "execution_count": 98,
   "id": "e5a3f8ec",
   "metadata": {},
   "outputs": [
    {
     "data": {
      "text/plain": [
       "array([0.04234129, 0.0364092 , 0.03870295, 0.0357077 , 0.01397783,\n",
       "       0.03601496, 0.04460056, 0.03789345, 0.01359364, 0.01946788,\n",
       "       0.04458761, 0.12554404, 0.03013896, 0.06130106, 0.03559648,\n",
       "       0.03868262, 0.01791299, 0.03417751, 0.00236057, 0.00154583,\n",
       "       0.0364262 , 0.03361348, 0.03442491, 0.00647169, 0.00052924,\n",
       "       0.00265396, 0.03150613, 0.02488071, 0.00956903, 0.03794702,\n",
       "       0.07142048])"
      ]
     },
     "execution_count": 98,
     "metadata": {},
     "output_type": "execute_result"
    }
   ],
   "source": [
    "clf.feature_importances_"
   ]
  },
  {
   "cell_type": "code",
   "execution_count": 99,
   "id": "72ea8f72",
   "metadata": {},
   "outputs": [],
   "source": [
    "model = SelectFromModel(clf, prefit=True)"
   ]
  },
  {
   "cell_type": "code",
   "execution_count": 100,
   "id": "0bf77213",
   "metadata": {},
   "outputs": [
    {
     "name": "stderr",
     "output_type": "stream",
     "text": [
      "/Users/shivambhardwaj/opt/miniconda3/envs/keras_env/lib/python3.7/site-packages/sklearn/base.py:444: UserWarning: X has feature names, but SelectFromModel was fitted without feature names\n",
      "  f\"X has feature names, but {self.__class__.__name__} was fitted without\"\n"
     ]
    }
   ],
   "source": [
    "X_new = model.transform(X)"
   ]
  },
  {
   "cell_type": "code",
   "execution_count": 101,
   "id": "ce8cdc6a",
   "metadata": {},
   "outputs": [
    {
     "data": {
      "text/plain": [
       "(1846, 18)"
      ]
     },
     "execution_count": 101,
     "metadata": {},
     "output_type": "execute_result"
    }
   ],
   "source": [
    "X_new.shape"
   ]
  },
  {
   "cell_type": "code",
   "execution_count": 102,
   "id": "4e55038b",
   "metadata": {},
   "outputs": [
    {
     "name": "stdout",
     "output_type": "stream",
     "text": [
      "0.5\n",
      "0.5\n"
     ]
    }
   ],
   "source": [
    "#split into stratified train/test split\n",
    "X_train, X_test, y_train, y_test = train_test_split(X_new, y, test_size=0.34, random_state=39, stratify = y)\n",
    "train, test = train_test_split(data, test_size=0.34, random_state=39, stratify = data['label'])\n",
    "print(len(train[train['label'] == 1]) / len(train))\n",
    "print(len(test[test['label'] == 1]) / len(test))"
   ]
  },
  {
   "cell_type": "code",
   "execution_count": 103,
   "id": "5e402822",
   "metadata": {},
   "outputs": [],
   "source": [
    "model = Sequential()\n",
    "model.add(Dense(512, activation='relu', input_dim=18))\n",
    "model.add(Dense(512, activation='relu'))\n",
    "model.add(Dense(1, activation='sigmoid'))\n",
    "model.compile(optimizer='adam', loss='binary_crossentropy', metrics=['accuracy'])"
   ]
  },
  {
   "cell_type": "code",
   "execution_count": 104,
   "id": "fc0feb58",
   "metadata": {
    "scrolled": true
   },
   "outputs": [
    {
     "name": "stdout",
     "output_type": "stream",
     "text": [
      "Train on 1218 samples, validate on 628 samples\n",
      "Epoch 1/100\n",
      "1218/1218 [==============================] - 1s 529us/step - loss: 1.6311 - accuracy: 0.4967 - val_loss: 1.1385 - val_accuracy: 0.5000\n",
      "Epoch 2/100\n",
      "1218/1218 [==============================] - 0s 120us/step - loss: 1.0477 - accuracy: 0.5016 - val_loss: 0.8655 - val_accuracy: 0.5000\n",
      "Epoch 3/100\n",
      "1218/1218 [==============================] - 0s 121us/step - loss: 0.7255 - accuracy: 0.5476 - val_loss: 0.6766 - val_accuracy: 0.5557\n",
      "Epoch 4/100\n",
      "1218/1218 [==============================] - 0s 120us/step - loss: 0.6841 - accuracy: 0.5796 - val_loss: 0.6995 - val_accuracy: 0.5557\n",
      "Epoch 5/100\n",
      "1218/1218 [==============================] - 0s 119us/step - loss: 0.6927 - accuracy: 0.5673 - val_loss: 0.6545 - val_accuracy: 0.6210\n",
      "Epoch 6/100\n",
      "1218/1218 [==============================] - 0s 119us/step - loss: 0.6210 - accuracy: 0.6486 - val_loss: 0.6411 - val_accuracy: 0.6608\n",
      "Epoch 7/100\n",
      "1218/1218 [==============================] - 0s 116us/step - loss: 0.6355 - accuracy: 0.6297 - val_loss: 0.6499 - val_accuracy: 0.5939\n",
      "Epoch 8/100\n",
      "1218/1218 [==============================] - 0s 116us/step - loss: 0.6105 - accuracy: 0.6560 - val_loss: 0.6081 - val_accuracy: 0.6815\n",
      "Epoch 9/100\n",
      "1218/1218 [==============================] - 0s 120us/step - loss: 0.5991 - accuracy: 0.6732 - val_loss: 0.6016 - val_accuracy: 0.6783\n",
      "Epoch 10/100\n",
      "1218/1218 [==============================] - 0s 122us/step - loss: 0.5957 - accuracy: 0.6667 - val_loss: 0.6025 - val_accuracy: 0.6592\n",
      "Epoch 11/100\n",
      "1218/1218 [==============================] - 0s 119us/step - loss: 0.5940 - accuracy: 0.6700 - val_loss: 0.5931 - val_accuracy: 0.6911\n",
      "Epoch 12/100\n",
      "1218/1218 [==============================] - 0s 117us/step - loss: 0.5704 - accuracy: 0.6897 - val_loss: 0.7201 - val_accuracy: 0.5621\n",
      "Epoch 13/100\n",
      "1218/1218 [==============================] - 0s 115us/step - loss: 0.5927 - accuracy: 0.6724 - val_loss: 0.5869 - val_accuracy: 0.6927\n",
      "Epoch 14/100\n",
      "1218/1218 [==============================] - 0s 118us/step - loss: 0.5488 - accuracy: 0.7381 - val_loss: 0.5829 - val_accuracy: 0.6959\n",
      "Epoch 15/100\n",
      "1218/1218 [==============================] - 0s 118us/step - loss: 0.5442 - accuracy: 0.7323 - val_loss: 0.5909 - val_accuracy: 0.6513\n",
      "Epoch 16/100\n",
      "1218/1218 [==============================] - 0s 119us/step - loss: 0.5659 - accuracy: 0.6938 - val_loss: 0.5623 - val_accuracy: 0.7229\n",
      "Epoch 17/100\n",
      "1218/1218 [==============================] - 0s 121us/step - loss: 0.5488 - accuracy: 0.7225 - val_loss: 0.5930 - val_accuracy: 0.6656\n",
      "Epoch 18/100\n",
      "1218/1218 [==============================] - 0s 120us/step - loss: 0.5301 - accuracy: 0.7488 - val_loss: 0.5825 - val_accuracy: 0.6927\n",
      "Epoch 19/100\n",
      "1218/1218 [==============================] - 0s 122us/step - loss: 0.5313 - accuracy: 0.7315 - val_loss: 0.5526 - val_accuracy: 0.7006\n",
      "Epoch 20/100\n",
      "1218/1218 [==============================] - 0s 121us/step - loss: 0.5278 - accuracy: 0.7521 - val_loss: 0.5712 - val_accuracy: 0.7086\n",
      "Epoch 21/100\n",
      "1218/1218 [==============================] - 0s 121us/step - loss: 0.5251 - accuracy: 0.7397 - val_loss: 0.6770 - val_accuracy: 0.6768\n",
      "Epoch 22/100\n",
      "1218/1218 [==============================] - 0s 119us/step - loss: 0.5581 - accuracy: 0.7159 - val_loss: 0.5502 - val_accuracy: 0.7325\n",
      "Epoch 23/100\n",
      "1218/1218 [==============================] - 0s 117us/step - loss: 0.5352 - accuracy: 0.7159 - val_loss: 0.6896 - val_accuracy: 0.6099\n",
      "Epoch 24/100\n",
      "1218/1218 [==============================] - 0s 117us/step - loss: 0.5524 - accuracy: 0.7250 - val_loss: 0.5849 - val_accuracy: 0.6672\n",
      "Epoch 25/100\n",
      "1218/1218 [==============================] - 0s 118us/step - loss: 0.5141 - accuracy: 0.7340 - val_loss: 0.5660 - val_accuracy: 0.7134\n",
      "Epoch 26/100\n",
      "1218/1218 [==============================] - 0s 117us/step - loss: 0.5211 - accuracy: 0.7307 - val_loss: 0.5807 - val_accuracy: 0.6895\n",
      "Epoch 27/100\n",
      "1218/1218 [==============================] - 0s 118us/step - loss: 0.5079 - accuracy: 0.7463 - val_loss: 0.5652 - val_accuracy: 0.7389\n",
      "Epoch 28/100\n",
      "1218/1218 [==============================] - 0s 124us/step - loss: 0.4795 - accuracy: 0.7775 - val_loss: 0.5752 - val_accuracy: 0.7102\n",
      "Epoch 29/100\n",
      "1218/1218 [==============================] - 0s 123us/step - loss: 0.5423 - accuracy: 0.7200 - val_loss: 0.5786 - val_accuracy: 0.7213\n",
      "Epoch 30/100\n",
      "1218/1218 [==============================] - 0s 123us/step - loss: 0.4957 - accuracy: 0.7603 - val_loss: 0.5679 - val_accuracy: 0.7070\n",
      "Epoch 31/100\n",
      "1218/1218 [==============================] - 0s 119us/step - loss: 0.4684 - accuracy: 0.7857 - val_loss: 0.5638 - val_accuracy: 0.7277\n",
      "Epoch 32/100\n",
      "1218/1218 [==============================] - 0s 115us/step - loss: 0.4734 - accuracy: 0.7652 - val_loss: 0.5535 - val_accuracy: 0.7118\n",
      "Epoch 33/100\n",
      "1218/1218 [==============================] - 0s 120us/step - loss: 0.4629 - accuracy: 0.7915 - val_loss: 0.5506 - val_accuracy: 0.7325\n",
      "Epoch 34/100\n",
      "1218/1218 [==============================] - 0s 122us/step - loss: 0.4569 - accuracy: 0.7898 - val_loss: 0.5937 - val_accuracy: 0.6799\n",
      "Epoch 35/100\n",
      "1218/1218 [==============================] - 0s 119us/step - loss: 0.4636 - accuracy: 0.7857 - val_loss: 0.5613 - val_accuracy: 0.7325\n",
      "Epoch 36/100\n",
      "1218/1218 [==============================] - 0s 119us/step - loss: 0.4505 - accuracy: 0.8013 - val_loss: 0.5583 - val_accuracy: 0.7309\n",
      "Epoch 37/100\n",
      "1218/1218 [==============================] - 0s 125us/step - loss: 0.4439 - accuracy: 0.8013 - val_loss: 0.5726 - val_accuracy: 0.7293\n",
      "Epoch 38/100\n",
      "1218/1218 [==============================] - 0s 124us/step - loss: 0.4710 - accuracy: 0.7783 - val_loss: 0.5583 - val_accuracy: 0.7261\n",
      "Epoch 39/100\n",
      "1218/1218 [==============================] - 0s 117us/step - loss: 0.4424 - accuracy: 0.8013 - val_loss: 0.5720 - val_accuracy: 0.7118\n",
      "Epoch 40/100\n",
      "1218/1218 [==============================] - 0s 117us/step - loss: 0.4345 - accuracy: 0.8054 - val_loss: 0.6056 - val_accuracy: 0.7213\n",
      "Epoch 41/100\n",
      "1218/1218 [==============================] - 0s 119us/step - loss: 0.4543 - accuracy: 0.7816 - val_loss: 0.5672 - val_accuracy: 0.7229\n",
      "Epoch 42/100\n",
      "1218/1218 [==============================] - 0s 124us/step - loss: 0.4375 - accuracy: 0.7931 - val_loss: 0.6257 - val_accuracy: 0.6799\n",
      "Epoch 43/100\n",
      "1218/1218 [==============================] - 0s 120us/step - loss: 0.4521 - accuracy: 0.7980 - val_loss: 0.5612 - val_accuracy: 0.7325\n",
      "Epoch 44/100\n",
      "1218/1218 [==============================] - 0s 118us/step - loss: 0.4734 - accuracy: 0.7734 - val_loss: 0.7912 - val_accuracy: 0.5860\n",
      "Epoch 45/100\n",
      "1218/1218 [==============================] - 0s 118us/step - loss: 0.4917 - accuracy: 0.7586 - val_loss: 0.5833 - val_accuracy: 0.6959\n",
      "Epoch 46/100\n",
      "1218/1218 [==============================] - 0s 119us/step - loss: 0.4182 - accuracy: 0.8144 - val_loss: 0.6398 - val_accuracy: 0.7213\n",
      "Epoch 47/100\n",
      "1218/1218 [==============================] - 0s 118us/step - loss: 0.4672 - accuracy: 0.7660 - val_loss: 0.6420 - val_accuracy: 0.7054\n",
      "Epoch 48/100\n",
      "1218/1218 [==============================] - 0s 122us/step - loss: 0.4870 - accuracy: 0.7668 - val_loss: 0.6414 - val_accuracy: 0.6959\n",
      "Epoch 49/100\n",
      "1218/1218 [==============================] - 0s 126us/step - loss: 0.5297 - accuracy: 0.7479 - val_loss: 0.6981 - val_accuracy: 0.6194\n",
      "Epoch 50/100\n",
      "1218/1218 [==============================] - 0s 121us/step - loss: 0.4783 - accuracy: 0.7685 - val_loss: 0.6067 - val_accuracy: 0.7166\n",
      "Epoch 51/100\n",
      "1218/1218 [==============================] - 0s 117us/step - loss: 0.4297 - accuracy: 0.7980 - val_loss: 0.6014 - val_accuracy: 0.6959\n",
      "Epoch 52/100\n",
      "1218/1218 [==============================] - 0s 123us/step - loss: 0.4118 - accuracy: 0.8144 - val_loss: 0.6269 - val_accuracy: 0.7086\n",
      "Epoch 53/100\n",
      "1218/1218 [==============================] - 0s 118us/step - loss: 0.4129 - accuracy: 0.8087 - val_loss: 0.6395 - val_accuracy: 0.6847\n",
      "Epoch 54/100\n",
      "1218/1218 [==============================] - 0s 116us/step - loss: 0.4529 - accuracy: 0.7865 - val_loss: 0.6075 - val_accuracy: 0.7070\n",
      "Epoch 55/100\n",
      "1218/1218 [==============================] - 0s 116us/step - loss: 0.4040 - accuracy: 0.8202 - val_loss: 0.5924 - val_accuracy: 0.7150\n",
      "Epoch 56/100\n"
     ]
    },
    {
     "name": "stdout",
     "output_type": "stream",
     "text": [
      "1218/1218 [==============================] - 0s 118us/step - loss: 0.3949 - accuracy: 0.8235 - val_loss: 0.6447 - val_accuracy: 0.6879\n",
      "Epoch 57/100\n",
      "1218/1218 [==============================] - 0s 118us/step - loss: 0.3959 - accuracy: 0.8186 - val_loss: 0.5967 - val_accuracy: 0.7166\n",
      "Epoch 58/100\n",
      "1218/1218 [==============================] - 0s 117us/step - loss: 0.3806 - accuracy: 0.8374 - val_loss: 0.6164 - val_accuracy: 0.7182\n",
      "Epoch 59/100\n",
      "1218/1218 [==============================] - 0s 115us/step - loss: 0.4047 - accuracy: 0.8169 - val_loss: 0.7519 - val_accuracy: 0.6497\n",
      "Epoch 60/100\n",
      "1218/1218 [==============================] - 0s 121us/step - loss: 0.4283 - accuracy: 0.8021 - val_loss: 0.8112 - val_accuracy: 0.6783\n",
      "Epoch 61/100\n",
      "1218/1218 [==============================] - 0s 117us/step - loss: 0.4623 - accuracy: 0.7800 - val_loss: 0.6203 - val_accuracy: 0.6975\n",
      "Epoch 62/100\n",
      "1218/1218 [==============================] - 0s 115us/step - loss: 0.3842 - accuracy: 0.8227 - val_loss: 0.6505 - val_accuracy: 0.6943\n",
      "Epoch 63/100\n",
      "1218/1218 [==============================] - 0s 115us/step - loss: 0.3983 - accuracy: 0.8161 - val_loss: 0.6024 - val_accuracy: 0.7229\n",
      "Epoch 64/100\n",
      "1218/1218 [==============================] - 0s 116us/step - loss: 0.3792 - accuracy: 0.8292 - val_loss: 0.6102 - val_accuracy: 0.7245\n",
      "Epoch 65/100\n",
      "1218/1218 [==============================] - 0s 119us/step - loss: 0.3689 - accuracy: 0.8383 - val_loss: 0.6371 - val_accuracy: 0.6990\n",
      "Epoch 66/100\n",
      "1218/1218 [==============================] - 0s 120us/step - loss: 0.3787 - accuracy: 0.8284 - val_loss: 0.6448 - val_accuracy: 0.7134\n",
      "Epoch 67/100\n",
      "1218/1218 [==============================] - 0s 113us/step - loss: 0.3872 - accuracy: 0.8169 - val_loss: 0.6876 - val_accuracy: 0.6831\n",
      "Epoch 68/100\n",
      "1218/1218 [==============================] - 0s 117us/step - loss: 0.3859 - accuracy: 0.8227 - val_loss: 0.6463 - val_accuracy: 0.6927\n",
      "Epoch 69/100\n",
      "1218/1218 [==============================] - 0s 118us/step - loss: 0.3921 - accuracy: 0.8169 - val_loss: 0.6934 - val_accuracy: 0.7213\n",
      "Epoch 70/100\n",
      "1218/1218 [==============================] - 0s 117us/step - loss: 0.3956 - accuracy: 0.8120 - val_loss: 0.6896 - val_accuracy: 0.6863\n",
      "Epoch 71/100\n",
      "1218/1218 [==============================] - 0s 116us/step - loss: 0.3809 - accuracy: 0.8259 - val_loss: 0.7081 - val_accuracy: 0.7054\n",
      "Epoch 72/100\n",
      "1218/1218 [==============================] - 0s 114us/step - loss: 0.3831 - accuracy: 0.8218 - val_loss: 0.6222 - val_accuracy: 0.7134\n",
      "Epoch 73/100\n",
      "1218/1218 [==============================] - 0s 124us/step - loss: 0.3550 - accuracy: 0.8342 - val_loss: 0.6506 - val_accuracy: 0.7182\n",
      "Epoch 74/100\n",
      "1218/1218 [==============================] - 0s 116us/step - loss: 0.3543 - accuracy: 0.8383 - val_loss: 0.6567 - val_accuracy: 0.7134\n",
      "Epoch 75/100\n",
      "1218/1218 [==============================] - 0s 116us/step - loss: 0.3539 - accuracy: 0.8440 - val_loss: 0.6937 - val_accuracy: 0.7022\n",
      "Epoch 76/100\n",
      "1218/1218 [==============================] - 0s 116us/step - loss: 0.3486 - accuracy: 0.8440 - val_loss: 0.6819 - val_accuracy: 0.7054\n",
      "Epoch 77/100\n",
      "1218/1218 [==============================] - 0s 116us/step - loss: 0.3615 - accuracy: 0.8300 - val_loss: 0.6794 - val_accuracy: 0.7038\n",
      "Epoch 78/100\n",
      "1218/1218 [==============================] - 0s 120us/step - loss: 0.3502 - accuracy: 0.8358 - val_loss: 0.6552 - val_accuracy: 0.7134\n",
      "Epoch 79/100\n",
      "1218/1218 [==============================] - 0s 113us/step - loss: 0.3455 - accuracy: 0.8580 - val_loss: 0.6500 - val_accuracy: 0.6943\n",
      "Epoch 80/100\n",
      "1218/1218 [==============================] - 0s 117us/step - loss: 0.3441 - accuracy: 0.8448 - val_loss: 0.7195 - val_accuracy: 0.6975\n",
      "Epoch 81/100\n",
      "1218/1218 [==============================] - 0s 118us/step - loss: 0.3446 - accuracy: 0.8358 - val_loss: 0.6733 - val_accuracy: 0.7054\n",
      "Epoch 82/100\n",
      "1218/1218 [==============================] - 0s 117us/step - loss: 0.3262 - accuracy: 0.8547 - val_loss: 0.6811 - val_accuracy: 0.7038\n",
      "Epoch 83/100\n",
      "1218/1218 [==============================] - 0s 119us/step - loss: 0.3216 - accuracy: 0.8424 - val_loss: 0.7104 - val_accuracy: 0.6959\n",
      "Epoch 84/100\n",
      "1218/1218 [==============================] - 0s 115us/step - loss: 0.3190 - accuracy: 0.8539 - val_loss: 0.7477 - val_accuracy: 0.6640\n",
      "Epoch 85/100\n",
      "1218/1218 [==============================] - 0s 117us/step - loss: 0.3436 - accuracy: 0.8506 - val_loss: 0.6865 - val_accuracy: 0.7006\n",
      "Epoch 86/100\n",
      "1218/1218 [==============================] - 0s 116us/step - loss: 0.3594 - accuracy: 0.8358 - val_loss: 0.6803 - val_accuracy: 0.7102\n",
      "Epoch 87/100\n",
      "1218/1218 [==============================] - 0s 116us/step - loss: 0.3283 - accuracy: 0.8440 - val_loss: 0.7480 - val_accuracy: 0.6768\n",
      "Epoch 88/100\n",
      "1218/1218 [==============================] - 0s 121us/step - loss: 0.3309 - accuracy: 0.8489 - val_loss: 0.7372 - val_accuracy: 0.7006\n",
      "Epoch 89/100\n",
      "1218/1218 [==============================] - 0s 116us/step - loss: 0.3329 - accuracy: 0.8424 - val_loss: 0.6994 - val_accuracy: 0.7022\n",
      "Epoch 90/100\n",
      "1218/1218 [==============================] - 0s 123us/step - loss: 0.3312 - accuracy: 0.8498 - val_loss: 0.7768 - val_accuracy: 0.6959\n",
      "Epoch 91/100\n",
      "1218/1218 [==============================] - 0s 117us/step - loss: 0.3294 - accuracy: 0.8588 - val_loss: 0.9100 - val_accuracy: 0.6226\n",
      "Epoch 92/100\n",
      "1218/1218 [==============================] - 0s 115us/step - loss: 0.3741 - accuracy: 0.8300 - val_loss: 0.7088 - val_accuracy: 0.7070\n",
      "Epoch 93/100\n",
      "1218/1218 [==============================] - 0s 116us/step - loss: 0.3273 - accuracy: 0.8456 - val_loss: 0.7256 - val_accuracy: 0.7038\n",
      "Epoch 94/100\n",
      "1218/1218 [==============================] - 0s 114us/step - loss: 0.2992 - accuracy: 0.8604 - val_loss: 0.7162 - val_accuracy: 0.7038\n",
      "Epoch 95/100\n",
      "1218/1218 [==============================] - 0s 116us/step - loss: 0.2874 - accuracy: 0.8760 - val_loss: 0.7211 - val_accuracy: 0.7150\n",
      "Epoch 96/100\n",
      "1218/1218 [==============================] - 0s 120us/step - loss: 0.2867 - accuracy: 0.8678 - val_loss: 0.7420 - val_accuracy: 0.6927\n",
      "Epoch 97/100\n",
      "1218/1218 [==============================] - 0s 116us/step - loss: 0.2832 - accuracy: 0.8686 - val_loss: 0.7596 - val_accuracy: 0.6975\n",
      "Epoch 98/100\n",
      "1218/1218 [==============================] - 0s 116us/step - loss: 0.2892 - accuracy: 0.8678 - val_loss: 0.7222 - val_accuracy: 0.7102\n",
      "Epoch 99/100\n",
      "1218/1218 [==============================] - 0s 119us/step - loss: 0.3173 - accuracy: 0.8506 - val_loss: 0.7661 - val_accuracy: 0.6783\n",
      "Epoch 100/100\n",
      "1218/1218 [==============================] - 0s 119us/step - loss: 0.3088 - accuracy: 0.8539 - val_loss: 0.7669 - val_accuracy: 0.7054\n"
     ]
    }
   ],
   "source": [
    "mod = model.fit(X_train, y_train, validation_data=(X_test, y_test), epochs=100, batch_size=100)"
   ]
  },
  {
   "cell_type": "code",
   "execution_count": 105,
   "id": "c955e86c",
   "metadata": {},
   "outputs": [
    {
     "data": {
      "text/plain": [
       "Text(91.68, 0.5, 'Actual label')"
      ]
     },
     "execution_count": 105,
     "metadata": {},
     "output_type": "execute_result"
    },
    {
     "data": {
      "image/png": "[encoded data removed]",
      "text/plain": [
       "<Figure size 432x288 with 1 Axes>"
      ]
     },
     "metadata": {
      "needs_background": "light"
     },
     "output_type": "display_data"
    }
   ],
   "source": [
    "y_predicted = model.predict(X_test) > 0.5\n",
    "mat = confusion_matrix(y_test, y_predicted)\n",
    "labels = ['Legitimate', 'Fraudulent']\n",
    " \n",
    "sns.heatmap(mat, square=True, annot=True, fmt='d', cbar=False, cmap='Blues',\n",
    "            xticklabels=labels, yticklabels=labels)\n",
    " \n",
    "plt.xlabel('Predicted label')\n",
    "plt.ylabel('Actual label')"
   ]
  },
  {
   "cell_type": "code",
   "execution_count": 106,
   "id": "a7a79c31",
   "metadata": {},
   "outputs": [
    {
     "name": "stdout",
     "output_type": "stream",
     "text": [
      "0.7547770700636943\n"
     ]
    }
   ],
   "source": [
    "from sklearn.svm import SVC\n",
    "from sklearn.metrics import accuracy_score\n",
    "\n",
    "clf = SVC(kernel='linear')\n",
    "clf.fit(X_train,y_train)\n",
    "y_pred = clf.predict(X_test)\n",
    "print(accuracy_score(y_test,y_pred))"
   ]
  },
  {
   "cell_type": "code",
   "execution_count": 107,
   "id": "b16e0b7c",
   "metadata": {},
   "outputs": [
    {
     "data": {
      "text/plain": [
       "Text(91.68, 0.5, 'Actual label')"
      ]
     },
     "execution_count": 107,
     "metadata": {},
     "output_type": "execute_result"
    },
    {
     "data": {
      "image/png": "[encoded data removed]",
      "text/plain": [
       "<Figure size 432x288 with 1 Axes>"
      ]
     },
     "metadata": {
      "needs_background": "light"
     },
     "output_type": "display_data"
    }
   ],
   "source": [
    "mat = confusion_matrix(y_test, y_pred)\n",
    "labels = ['Legitimate', 'Fraudulent']\n",
    " \n",
    "sns.heatmap(mat, square=True, annot=True, fmt='d', cbar=False, cmap='Blues',\n",
    "            xticklabels=labels, yticklabels=labels)\n",
    " \n",
    "plt.xlabel('Predicted label')\n",
    "plt.ylabel('Actual label')"
   ]
  },
  {
   "cell_type": "code",
   "execution_count": null,
   "id": "5dec3fd8",
   "metadata": {},
   "outputs": [],
   "source": []
  }
 ],
 "metadata": {
  "kernelspec": {
   "display_name": "Python 3",
   "language": "python",
   "name": "python3"
  },
  "language_info": {
   "codemirror_mode": {
    "name": "ipython",
    "version": 3
   },
   "file_extension": ".py",
   "mimetype": "text/x-python",
   "name": "python",
   "nbconvert_exporter": "python",
   "pygments_lexer": "ipython3",
   "version": "3.7.7"
  }
 },
 "nbformat": 4,
 "nbformat_minor": 5
}
