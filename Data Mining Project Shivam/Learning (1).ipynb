{
 "cells": [
  {
   "cell_type": "code",
   "execution_count": 140,
   "id": "0f3e0da4",
   "metadata": {},
   "outputs": [],
   "source": [
    "from sklearn.model_selection import train_test_split\n",
    "from sklearn.feature_selection import SelectKBest, chi2, f_classif\n",
    "from sklearn.metrics import confusion_matrix\n",
    "from sklearn.naive_bayes import GaussianNB\n",
    "from sklearn.tree import DecisionTreeClassifier\n",
    "from sklearn.neighbors import KNeighborsClassifier\n",
    "from sklearn.linear_model import LogisticRegression\n",
    "from sklearn.ensemble import RandomForestClassifier\n",
    "from sklearn.metrics import roc_auc_score\n",
    "from sklearn.model_selection import StratifiedKFold\n",
    "import numpy as np\n",
    "from sklearn.model_selection import cross_val_score\n",
    "import pandas as pd\n",
    "import matplotlib.pyplot as plt\n",
    "import seaborn as sns"
   ]
  },
  {
   "cell_type": "code",
   "execution_count": 141,
   "id": "7b8e0177",
   "metadata": {},
   "outputs": [],
   "source": [
    "data = pd.read_csv('Preprocessed2.csv')"
   ]
  },
  {
   "cell_type": "code",
   "execution_count": 142,
   "id": "41eb7ab0",
   "metadata": {},
   "outputs": [],
   "source": [
    "#csv doesnt have categories as categories so make sure\n",
    "cat_cols = ['Month', 'WeekOfMonth', 'DayOfWeek', 'Make', 'MaritalStatus', 'DayOfWeekClaimed', \n",
    "                       'MonthClaimed', 'WeekOfMonthClaimed','PolicyType', 'VehicleCategory', 'VehiclePrice', \n",
    "                      'RepNumber', 'DriverRating', 'Days:Policy-Accident', 'Days:Policy-Claim', \n",
    "                      'PastNumberOfClaims', 'AgeOfVehicle', 'AgeOfPolicyHolder', 'NumberOfSuppliments', \n",
    "                      'AddressChange-Claim', 'NumberOfCars', 'Year']\n",
    "for col in cat_cols:\n",
    "    data[col] = data[col].astype('category')"
   ]
  },
  {
   "cell_type": "markdown",
   "id": "ee94dfb3",
   "metadata": {},
   "source": [
    "# K- Fold Cross Val"
   ]
  },
  {
   "cell_type": "code",
   "execution_count": 143,
   "id": "6c665cf9",
   "metadata": {},
   "outputs": [],
   "source": [
    "X = data.iloc[:,:-1]\n",
    "y = data['label'].array\n",
    "gnb = GaussianNB()\n",
    "tree = DecisionTreeClassifier(random_state=39)\n",
    "knn = KNeighborsClassifier(n_neighbors=3)\n",
    "log = LogisticRegression(solver='lbfgs', max_iter=10000)\n",
    "rf = RandomForestClassifier(max_depth=2, random_state=39)\n",
    "cv = StratifiedKFold(n_splits=10, random_state=39, shuffle=True)\n",
    "models = [gnb, tree, knn, log, rf]"
   ]
  },
  {
   "cell_type": "code",
   "execution_count": 144,
   "id": "dfa40ce2",
   "metadata": {},
   "outputs": [
    {
     "name": "stdout",
     "output_type": "stream",
     "text": [
      "Mean Accuracy of GaussianNB(): 0.825 (0.016)\n",
      "Min and Max Accuracy of GaussianNB(): 0.797 (0.849)\n",
      "Mean Accuracy of DecisionTreeClassifier(random_state=39): 0.896 (0.008)\n",
      "Min and Max Accuracy of DecisionTreeClassifier(random_state=39): 0.883 (0.908)\n",
      "Mean Accuracy of KNeighborsClassifier(n_neighbors=3): 0.932 (0.003)\n",
      "Min and Max Accuracy of KNeighborsClassifier(n_neighbors=3): 0.926 (0.936)\n",
      "Mean Accuracy of LogisticRegression(max_iter=10000): 0.940 (0.000)\n",
      "Min and Max Accuracy of LogisticRegression(max_iter=10000): 0.940 (0.940)\n",
      "Mean Accuracy of RandomForestClassifier(max_depth=2, random_state=39): 0.940 (0.000)\n",
      "Min and Max Accuracy of RandomForestClassifier(max_depth=2, random_state=39): 0.940 (0.940)\n"
     ]
    }
   ],
   "source": [
    "for model in models:\n",
    "    scores = cross_val_score(model, X, y, scoring='accuracy', cv=cv)\n",
    "    print('Mean Accuracy of {}: %.3f (%.3f)'.format(str(model)) % (np.mean(scores), np.std(scores))) \n",
    "    print('Min and Max Accuracy of {}: %.3f (%.3f)'.format(str(model)) % (scores.min(), scores.max()))"
   ]
  },
  {
   "cell_type": "markdown",
   "id": "13667271",
   "metadata": {},
   "source": [
    "# Train/test split"
   ]
  },
  {
   "cell_type": "code",
   "execution_count": 145,
   "id": "4924cb26",
   "metadata": {},
   "outputs": [
    {
     "name": "stdout",
     "output_type": "stream",
     "text": [
      "0.059846698113207544\n",
      "0.059889376311272176\n"
     ]
    }
   ],
   "source": [
    "#split into stratified train/test split\n",
    "X_train, X_test, y_train, y_test = train_test_split(X, y, test_size=0.34, random_state=39, stratify = y)\n",
    "train, test = train_test_split(data, test_size=0.34, random_state=39, stratify = data['label'])\n",
    "print(len(train[train['label'] == 1]) / len(train))\n",
    "print(len(test[test['label'] == 1]) / len(test))"
   ]
  },
  {
   "cell_type": "markdown",
   "id": "39fa7576",
   "metadata": {},
   "source": [
    "# Helper Functions"
   ]
  },
  {
   "cell_type": "code",
   "execution_count": 146,
   "id": "7633ca89",
   "metadata": {},
   "outputs": [],
   "source": [
    "def mcc(Tp, Tn, Fp, Fn):\n",
    "    top = (Tp * Tn) - (Fp * Fn)\n",
    "    bot = (Tp + Fp) * (Tp + Fn) * (Tn + Fp) * (Tn + Fn)\n",
    "    botS = bot**0.5\n",
    "    return (top / botS)"
   ]
  },
  {
   "cell_type": "code",
   "execution_count": 147,
   "id": "fafb98bd",
   "metadata": {},
   "outputs": [],
   "source": [
    "def metrics(model, test, title, title2): \n",
    "    y_pred = model.predict(test)\n",
    "    cf = confusion_matrix(y_test, y_pred)\n",
    "    n = len(y_test)\n",
    "    n0 = (np.count_nonzero(y_test == 0))\n",
    "    n1 = (np.count_nonzero(y_test == 1))\n",
    "    w0 = n0/n\n",
    "    w1 = n1/n\n",
    "    n = cf.sum().sum()\n",
    "    tn = cf[0][0]\n",
    "    fp = cf[0][1]\n",
    "    tp = cf[1][1]\n",
    "    fn = cf[1][0]\n",
    "    tpr0 = tn / (tn + fp) \n",
    "    tpr1 = tp / (tp + fn)\n",
    "    fpr0 = 1 - tpr1\n",
    "    fpr1 = 1 - tpr0\n",
    "    pre0 = tn / (tn + fn)\n",
    "    pre1 = tp / (tp + fp)\n",
    "    rec0 = tpr0\n",
    "    rec1 = tpr1\n",
    "    f0 = (2 * pre0 * rec0) / (pre0 + rec0)\n",
    "    f1 = (2 * pre1 * rec1) / (pre1 + rec1)\n",
    "    mcc0 = mcc(tp, tn, fp, fn)\n",
    "    mcc1 = mcc0\n",
    "    roc0 = roc_auc_score(y_test, model.predict_proba(test)[:, 1])\n",
    "    roc1 = roc0\n",
    "    row0 = ['No Fraud', tpr0, fpr0, pre0, rec0, f0, mcc0, roc0]\n",
    "    row1 = ['Fraud Found', tpr1, fpr1, pre1, rec1, f1, mcc1, roc1]\n",
    "    row2 = [ 'Weighted Avg', (tpr0 * w0 + tpr1 * w1), (fpr0 * w0 + fpr1 * w1), \n",
    "            (pre0 * w0 + pre1 * w1), (rec0 * w0 + rec1 * w1), \n",
    "            (f0 * w0 + f1 * w1), mcc0, roc0]\n",
    "  \n",
    "    df = pd.DataFrame(columns=('Class', 'TP Rate', 'FP Rate', 'Precision', 'Recall', \"F-Measure\", \n",
    "                              'MCC', 'ROC-AUC'))\n",
    "    df.loc[0] = row0\n",
    "    df.loc[1] = row1\n",
    "    df.loc[2] = row2\n",
    "    counts = ['{0:0.0f}'.format(i) for i in cf.flatten()]\n",
    "    counts = np.asarray(counts).reshape(2,2)\n",
    "    ax = plt.axes()\n",
    "    sns.heatmap(cf, annot=counts, fmt='', cmap='Blues')\n",
    "    tit = title + title2\n",
    "    ax.set_title(tit)\n",
    "    plt.show\n",
    "    print(df.head())"
   ]
  },
  {
   "cell_type": "code",
   "execution_count": 148,
   "id": "a58548bd",
   "metadata": {},
   "outputs": [],
   "source": [
    "n = len(y_train)\n",
    "n0 = (np.count_nonzero(y_train == 0))\n",
    "n1 = (np.count_nonzero(y_train == 1))\n",
    "nClass = 2\n",
    "w0 = n / (nClass * n0)\n",
    "w1 = n / (nClass * n1)\n",
    "weights = []\n",
    "for i in range(n):\n",
    "    if(y_train[i] == 0):\n",
    "        weights.append(w0)\n",
    "    else:\n",
    "        weights.append(w1)"
   ]
  },
  {
   "cell_type": "markdown",
   "id": "4ab11a36",
   "metadata": {},
   "source": [
    "## K Best Features - 15 Chi^2 Selection"
   ]
  },
  {
   "cell_type": "code",
   "execution_count": 149,
   "id": "f2565f58",
   "metadata": {},
   "outputs": [],
   "source": [
    "selector = SelectKBest(chi2, k =15)\n",
    "selector.fit(X_train, y_train)\n",
    "X_kbest = X_train.iloc[:, selector.get_support()]\n",
    "test_kbest = X_test.iloc[:, selector.get_support()]\n",
    "models = [gnb, tree, knn, log, rf]\n",
    "mod_name = ['Naive Bayes', 'Decision Tree', 'KNN', 'Logistic Regression', 'Random Forest']"
   ]
  },
  {
   "cell_type": "code",
   "execution_count": 150,
   "id": "971a7744",
   "metadata": {},
   "outputs": [
    {
     "name": "stdout",
     "output_type": "stream",
     "text": [
      "          Class   TP Rate   FP Rate  Precision    Recall  F-Measure       MCC  \\\n",
      "0      No Fraud  0.608440  0.127389   0.986838  0.608440   0.752761  0.231241   \n",
      "1   Fraud Found  0.872611  0.391560   0.124319  0.872611   0.217633  0.231241   \n",
      "2  Weighted Avg  0.624261  0.143210   0.935182  0.624261   0.720713  0.231241   \n",
      "\n",
      "    ROC-AUC  \n",
      "0  0.784058  \n",
      "1  0.784058  \n",
      "2  0.784058  \n"
     ]
    },
    {
     "data": {
      "image/png": "[encoded data removed]",
      "text/plain": [
       "<Figure size 432x288 with 2 Axes>"
      ]
     },
     "metadata": {
      "needs_background": "light"
     },
     "output_type": "display_data"
    }
   ],
   "source": [
    "mod = gnb.fit(X_kbest, y_train, sample_weight = weights)\n",
    "metrics(mod, test_kbest, \"Chi-Sq \", mod_name[0])"
   ]
  },
  {
   "cell_type": "code",
   "execution_count": 151,
   "id": "65285252",
   "metadata": {},
   "outputs": [
    {
     "name": "stdout",
     "output_type": "stream",
     "text": [
      "          Class   TP Rate   FP Rate  Precision    Recall  F-Measure       MCC  \\\n",
      "0      No Fraud  0.958004  0.831210   0.947622  0.958004   0.952785  0.138583   \n",
      "1   Fraud Found  0.168790  0.041996   0.203846  0.168790   0.184669  0.138583   \n",
      "2  Weighted Avg  0.910738  0.783945   0.903078  0.910738   0.906783  0.138583   \n",
      "\n",
      "    ROC-AUC  \n",
      "0  0.563397  \n",
      "1  0.563397  \n",
      "2  0.563397  \n"
     ]
    },
    {
     "data": {
      "image/png": "[encoded data removed]",
      "text/plain": [
       "<Figure size 432x288 with 2 Axes>"
      ]
     },
     "metadata": {
      "needs_background": "light"
     },
     "output_type": "display_data"
    }
   ],
   "source": [
    "mod = tree.fit(X_kbest, y_train, sample_weight = weights)\n",
    "metrics(mod, test_kbest, \"Chi-Sq \", mod_name[1])"
   ]
  },
  {
   "cell_type": "code",
   "execution_count": 152,
   "id": "2a949c60",
   "metadata": {},
   "outputs": [
    {
     "name": "stdout",
     "output_type": "stream",
     "text": [
      "          Class   TP Rate   FP Rate  Precision    Recall  F-Measure       MCC  \\\n",
      "0      No Fraud  0.988233  0.952229   0.942166  0.988233   0.964650  0.072909   \n",
      "1   Fraud Found  0.047771  0.011767   0.205479  0.047771   0.077519  0.072909   \n",
      "2  Weighted Avg  0.931909  0.895906   0.898047  0.931909   0.911520  0.072909   \n",
      "\n",
      "    ROC-AUC  \n",
      "0  0.556152  \n",
      "1  0.556152  \n",
      "2  0.556152  \n"
     ]
    },
    {
     "data": {
      "image/png": "[encoded data removed]",
      "text/plain": [
       "<Figure size 432x288 with 2 Axes>"
      ]
     },
     "metadata": {
      "needs_background": "light"
     },
     "output_type": "display_data"
    }
   ],
   "source": [
    "mod = knn.fit(X_kbest, y_train)\n",
    "metrics(mod, test_kbest, \"Chi-Sq \", mod_name[2])"
   ]
  },
  {
   "cell_type": "code",
   "execution_count": 153,
   "id": "0cd480e7",
   "metadata": {},
   "outputs": [
    {
     "name": "stdout",
     "output_type": "stream",
     "text": [
      "          Class   TP Rate   FP Rate  Precision    Recall  F-Measure       MCC  \\\n",
      "0      No Fraud  0.637046  0.140127   0.986181  0.637046   0.774066  0.241443   \n",
      "1   Fraud Found  0.859873  0.362954   0.131132  0.859873   0.227560  0.241443   \n",
      "2  Weighted Avg  0.650391  0.153472   0.934973  0.650391   0.741336  0.241443   \n",
      "\n",
      "    ROC-AUC  \n",
      "0  0.804498  \n",
      "1  0.804498  \n",
      "2  0.804498  \n"
     ]
    },
    {
     "data": {
      "image/png": "[encoded data removed]",
      "text/plain": [
       "<Figure size 432x288 with 2 Axes>"
      ]
     },
     "metadata": {
      "needs_background": "light"
     },
     "output_type": "display_data"
    }
   ],
   "source": [
    "mod = log.fit(X_kbest, y_train, sample_weight = weights)\n",
    "metrics(mod, test_kbest, \"Chi-Sq \", mod_name[3])"
   ]
  },
  {
   "cell_type": "code",
   "execution_count": 154,
   "id": "e6489020",
   "metadata": {},
   "outputs": [
    {
     "name": "stdout",
     "output_type": "stream",
     "text": [
      "          Class   TP Rate   FP Rate  Precision    Recall  F-Measure       MCC  \\\n",
      "0      No Fraud  0.603976  0.105096   0.989037  0.603976   0.749969  0.239394   \n",
      "1   Fraud Found  0.894904  0.396024   0.125840  0.894904   0.220652  0.239394   \n",
      "2  Weighted Avg  0.621400  0.122519   0.937340  0.621400   0.718268  0.239394   \n",
      "\n",
      "    ROC-AUC  \n",
      "0  0.791575  \n",
      "1  0.791575  \n",
      "2  0.791575  \n"
     ]
    },
    {
     "data": {
      "image/png": "[encoded data removed]",
      "text/plain": [
       "<Figure size 432x288 with 2 Axes>"
      ]
     },
     "metadata": {
      "needs_background": "light"
     },
     "output_type": "display_data"
    }
   ],
   "source": [
    "mod = rf.fit(X_kbest, y_train, sample_weight = weights)\n",
    "metrics(mod, test_kbest, \"Chi-Sq \", mod_name[4])"
   ]
  },
  {
   "cell_type": "markdown",
   "id": "57a3ad93",
   "metadata": {},
   "source": [
    "# SelectKBest: Univariate Feature Selection"
   ]
  },
  {
   "cell_type": "code",
   "execution_count": 155,
   "id": "38fed3c6",
   "metadata": {},
   "outputs": [],
   "source": [
    "selector = SelectKBest(f_classif, k=6)\n",
    "selector.fit(X_train, y_train)\n",
    "X_kbest = X_train.iloc[:, selector.get_support()]\n",
    "test_kbest = X_test.iloc[:, selector.get_support()]"
   ]
  },
  {
   "cell_type": "code",
   "execution_count": 156,
   "id": "9ea18574",
   "metadata": {},
   "outputs": [
    {
     "data": {
      "image/png": "[encoded data removed]",
      "text/plain": [
       "<Figure size 432x288 with 1 Axes>"
      ]
     },
     "metadata": {
      "needs_background": "light"
     },
     "output_type": "display_data"
    }
   ],
   "source": [
    "scores = -np.log10(selector.pvalues_)\n",
    "scores /= scores.max()\n",
    "X_indices = np.arange(X.shape[-1])\n",
    "plt.figure(1)\n",
    "plt.clf()\n",
    "plt.bar(X_indices - 0.05, scores, width=0.2)\n",
    "plt.title(\"Feature univariate score\")\n",
    "plt.xlabel(\"Feature number\")\n",
    "plt.ylabel(r\"Univariate score ($-Log(p_{value})$)\")\n",
    "plt.show()"
   ]
  },
  {
   "cell_type": "code",
   "execution_count": 157,
   "id": "565cb0d2",
   "metadata": {},
   "outputs": [
    {
     "name": "stdout",
     "output_type": "stream",
     "text": [
      "          Class   TP Rate   FP Rate  Precision    Recall  F-Measure       MCC  \\\n",
      "0      No Fraud  0.606817  0.117834   0.987781  0.606817   0.751791  0.234894   \n",
      "1   Fraud Found  0.882166  0.393183   0.125056  0.882166   0.219059  0.234894   \n",
      "2  Weighted Avg  0.623307  0.134325   0.936113  0.623307   0.719886  0.234894   \n",
      "\n",
      "    ROC-AUC  \n",
      "0  0.774643  \n",
      "1  0.774643  \n",
      "2  0.774643  \n"
     ]
    },
    {
     "data": {
      "image/png": "[encoded data removed]",
      "text/plain": [
       "<Figure size 432x288 with 2 Axes>"
      ]
     },
     "metadata": {
      "needs_background": "light"
     },
     "output_type": "display_data"
    }
   ],
   "source": [
    "mod = gnb.fit(X_kbest, y_train, sample_weight = weights)\n",
    "metrics(mod, test_kbest, \"Univariate \", mod_name[0])"
   ]
  },
  {
   "cell_type": "code",
   "execution_count": 158,
   "id": "b19b64fe",
   "metadata": {},
   "outputs": [
    {
     "name": "stdout",
     "output_type": "stream",
     "text": [
      "          Class   TP Rate   FP Rate  Precision    Recall  F-Measure       MCC  \\\n",
      "0      No Fraud  0.637452  0.178344   0.982489  0.637452   0.773225  0.223343   \n",
      "1   Fraud Found  0.821656  0.362548   0.126161  0.821656   0.218737  0.223343   \n",
      "2  Weighted Avg  0.648484  0.189376   0.931204  0.648484   0.740017  0.223343   \n",
      "\n",
      "    ROC-AUC  \n",
      "0  0.779809  \n",
      "1  0.779809  \n",
      "2  0.779809  \n"
     ]
    },
    {
     "data": {
      "image/png": "[encoded data removed]",
      "text/plain": [
       "<Figure size 432x288 with 2 Axes>"
      ]
     },
     "metadata": {
      "needs_background": "light"
     },
     "output_type": "display_data"
    }
   ],
   "source": [
    "mod = tree.fit(X_kbest, y_train, sample_weight = weights)\n",
    "metrics(mod, test_kbest, \"Univariate \", mod_name[0])"
   ]
  },
  {
   "cell_type": "code",
   "execution_count": 159,
   "id": "50e23eec",
   "metadata": {},
   "outputs": [
    {
     "name": "stdout",
     "output_type": "stream",
     "text": [
      "          Class   TP Rate   FP Rate  Precision    Recall  F-Measure       MCC  \\\n",
      "0      No Fraud  0.988842  0.958599   0.941836  0.988842   0.964766  0.063424   \n",
      "1   Fraud Found  0.041401  0.011158   0.191176  0.041401   0.068063  0.063424   \n",
      "2  Weighted Avg  0.932100  0.901857   0.896879  0.932100   0.911063  0.063424   \n",
      "\n",
      "    ROC-AUC  \n",
      "0  0.589327  \n",
      "1  0.589327  \n",
      "2  0.589327  \n"
     ]
    },
    {
     "data": {
      "image/png": "[encoded data removed]",
      "text/plain": [
       "<Figure size 432x288 with 2 Axes>"
      ]
     },
     "metadata": {
      "needs_background": "light"
     },
     "output_type": "display_data"
    }
   ],
   "source": [
    "mod = knn.fit(X_kbest, y_train)\n",
    "metrics(mod, test_kbest, \"Univariate \", mod_name[0])"
   ]
  },
  {
   "cell_type": "code",
   "execution_count": 160,
   "id": "5c1d3ee2",
   "metadata": {},
   "outputs": [
    {
     "name": "stdout",
     "output_type": "stream",
     "text": [
      "          Class   TP Rate   FP Rate  Precision    Recall  F-Measure       MCC  \\\n",
      "0      No Fraud  0.607223  0.121019   0.987463  0.607223   0.752010  0.233602   \n",
      "1   Fraud Found  0.878981  0.392777   0.124774  0.878981   0.218527  0.233602   \n",
      "2  Weighted Avg  0.623498  0.137295   0.935797  0.623498   0.720060  0.233602   \n",
      "\n",
      "    ROC-AUC  \n",
      "0  0.791228  \n",
      "1  0.791228  \n",
      "2  0.791228  \n"
     ]
    },
    {
     "data": {
      "image/png": "[encoded data removed]",
      "text/plain": [
       "<Figure size 432x288 with 2 Axes>"
      ]
     },
     "metadata": {
      "needs_background": "light"
     },
     "output_type": "display_data"
    }
   ],
   "source": [
    "mod = log.fit(X_kbest, y_train, sample_weight = weights)\n",
    "metrics(mod, test_kbest, \"Univariate \", mod_name[0])"
   ]
  },
  {
   "cell_type": "code",
   "execution_count": 161,
   "id": "299baebc",
   "metadata": {},
   "outputs": [
    {
     "name": "stdout",
     "output_type": "stream",
     "text": [
      "          Class   TP Rate   FP Rate  Precision    Recall  F-Measure       MCC  \\\n",
      "0      No Fraud  0.596876  0.076433   0.991908  0.596876   0.745282  0.249144   \n",
      "1   Fraud Found  0.923567  0.403124   0.127361  0.923567   0.223852  0.249144   \n",
      "2  Weighted Avg  0.616441  0.095998   0.940131  0.616441   0.714054  0.249144   \n",
      "\n",
      "    ROC-AUC  \n",
      "0  0.794974  \n",
      "1  0.794974  \n",
      "2  0.794974  \n"
     ]
    },
    {
     "data": {
      "image/png": "[encoded data removed]",
      "text/plain": [
       "<Figure size 432x288 with 2 Axes>"
      ]
     },
     "metadata": {
      "needs_background": "light"
     },
     "output_type": "display_data"
    }
   ],
   "source": [
    "mod = rf.fit(X_kbest, y_train, sample_weight = weights)\n",
    "metrics(mod, test_kbest, \"Univariate \", mod_name[0])"
   ]
  },
  {
   "cell_type": "markdown",
   "id": "73162448",
   "metadata": {},
   "source": [
    "# Sequential Feature Selector"
   ]
  },
  {
   "cell_type": "code",
   "execution_count": 162,
   "id": "d55fca43",
   "metadata": {},
   "outputs": [],
   "source": [
    "from sklearn.feature_selection import SequentialFeatureSelector\n",
    "models = [gnb, tree, knn, log, rf]\n",
    "for i in range(len(models)):\n",
    "    sfs = SequentialFeatureSelector(models[i], n_features_to_select=10)\n",
    "    sfs.fit(X_train, y_train)\n",
    "    if(i == 0):\n",
    "        gnb_train = X_train.iloc[:, sfs.get_support()]\n",
    "        gnb_test = X_test.iloc[:, sfs.get_support()]\n",
    "    elif(i ==1):\n",
    "        tree_train = X_train.iloc[:, sfs.get_support()]\n",
    "        tree_test = X_test.iloc[:, sfs.get_support()]\n",
    "    elif(i ==2):\n",
    "        knn_train = X_train.iloc[:, sfs.get_support()]\n",
    "        knn_test = X_test.iloc[:, sfs.get_support()]\n",
    "    elif(i ==3):\n",
    "        log_train = X_train.iloc[:, sfs.get_support()]\n",
    "        log_test = X_test.iloc[:, sfs.get_support()]\n",
    "    else:\n",
    "        rf_train = X_train.iloc[:, sfs.get_support()]\n",
    "        rf_test = X_test.iloc[:, sfs.get_support()]"
   ]
  },
  {
   "cell_type": "code",
   "execution_count": 163,
   "id": "52a02d1b",
   "metadata": {},
   "outputs": [
    {
     "name": "stdout",
     "output_type": "stream",
     "text": [
      "          Class   TP Rate   FP Rate  Precision    Recall  F-Measure       MCC  \\\n",
      "0      No Fraud  0.480422  0.388535   0.951004  0.480422   0.638361  0.043661   \n",
      "1   Fraud Found  0.611465  0.519578   0.069742  0.611465   0.125204  0.043661   \n",
      "2  Weighted Avg  0.488270  0.396383   0.898226  0.488270   0.607628  0.043661   \n",
      "\n",
      "    ROC-AUC  \n",
      "0  0.567198  \n",
      "1  0.567198  \n",
      "2  0.567198  \n"
     ]
    },
    {
     "data": {
      "image/png": "[encoded data removed]",
      "text/plain": [
       "<Figure size 432x288 with 2 Axes>"
      ]
     },
     "metadata": {
      "needs_background": "light"
     },
     "output_type": "display_data"
    }
   ],
   "source": [
    "mod = gnb.fit(gnb_train, y_train, sample_weight = weights)\n",
    "metrics(mod, gnb_test, \"SFS \", mod_name[0])"
   ]
  },
  {
   "cell_type": "code",
   "execution_count": 164,
   "id": "a6faa4af",
   "metadata": {},
   "outputs": [
    {
     "name": "stdout",
     "output_type": "stream",
     "text": [
      "          Class   TP Rate   FP Rate  Precision    Recall  F-Measure       MCC  \\\n",
      "0      No Fraud  0.689186  0.187898   0.982928  0.689186   0.810256  0.250947   \n",
      "1   Fraud Found  0.812102  0.310814   0.142697  0.812102   0.242742  0.250947   \n",
      "2  Weighted Avg  0.696548  0.195259   0.932607  0.696548   0.776268  0.250947   \n",
      "\n",
      "    ROC-AUC  \n",
      "0  0.795232  \n",
      "1  0.795232  \n",
      "2  0.795232  \n"
     ]
    },
    {
     "data": {
      "image/png": "[encoded data removed]",
      "text/plain": [
       "<Figure size 432x288 with 2 Axes>"
      ]
     },
     "metadata": {
      "needs_background": "light"
     },
     "output_type": "display_data"
    }
   ],
   "source": [
    "mod = tree.fit(tree_train, y_train, sample_weight = weights)\n",
    "metrics(mod, tree_test, \"SFS \", mod_name[1])"
   ]
  },
  {
   "cell_type": "code",
   "execution_count": 165,
   "id": "c2461e9e",
   "metadata": {},
   "outputs": [
    {
     "name": "stdout",
     "output_type": "stream",
     "text": [
      "          Class   TP Rate   FP Rate  Precision    Recall  F-Measure       MCC  \\\n",
      "0      No Fraud  0.989856  0.974522   0.940984  0.989856   0.964801  0.034786   \n",
      "1   Fraud Found  0.025478  0.010144   0.137931  0.025478   0.043011  0.034786   \n",
      "2  Weighted Avg  0.932100  0.916766   0.892889  0.932100   0.909596  0.034786   \n",
      "\n",
      "    ROC-AUC  \n",
      "0  0.528764  \n",
      "1  0.528764  \n",
      "2  0.528764  \n"
     ]
    },
    {
     "data": {
      "image/png": "[encoded data removed]",
      "text/plain": [
       "<Figure size 432x288 with 2 Axes>"
      ]
     },
     "metadata": {
      "needs_background": "light"
     },
     "output_type": "display_data"
    }
   ],
   "source": [
    "mod = knn.fit(knn_train, y_train)\n",
    "metrics(mod, knn_test, \"SFS \", mod_name[2])"
   ]
  },
  {
   "cell_type": "code",
   "execution_count": 166,
   "id": "0bd8d03a",
   "metadata": {},
   "outputs": [
    {
     "name": "stdout",
     "output_type": "stream",
     "text": [
      "          Class   TP Rate   FP Rate  Precision    Recall  F-Measure       MCC  \\\n",
      "0      No Fraud  0.536823  0.455414   0.948727  0.536823   0.685670  0.038713   \n",
      "1   Fraud Found  0.544586  0.463177   0.069682  0.544586   0.123555  0.038713   \n",
      "2  Weighted Avg  0.537288  0.455879   0.896082  0.537288   0.652005  0.038713   \n",
      "\n",
      "    ROC-AUC  \n",
      "0  0.568162  \n",
      "1  0.568162  \n",
      "2  0.568162  \n"
     ]
    },
    {
     "data": {
      "image/png": "[encoded data removed]",
      "text/plain": [
       "<Figure size 432x288 with 2 Axes>"
      ]
     },
     "metadata": {
      "needs_background": "light"
     },
     "output_type": "display_data"
    }
   ],
   "source": [
    "mod = log.fit(log_train, y_train, sample_weight = weights)\n",
    "metrics(mod, log_test, \"SFS \", mod_name[3])"
   ]
  },
  {
   "cell_type": "code",
   "execution_count": 167,
   "id": "65e32865",
   "metadata": {},
   "outputs": [
    {
     "name": "stdout",
     "output_type": "stream",
     "text": [
      "          Class   TP Rate   FP Rate  Precision    Recall  F-Measure       MCC  \\\n",
      "0      No Fraud  0.425644  0.343949   0.951043  0.425644   0.588087  0.039266   \n",
      "1   Fraud Found  0.656051  0.574356   0.067830  0.656051   0.122948  0.039266   \n",
      "2  Weighted Avg  0.439443  0.357748   0.898148  0.439443   0.560230  0.039266   \n",
      "\n",
      "    ROC-AUC  \n",
      "0  0.566527  \n",
      "1  0.566527  \n",
      "2  0.566527  \n"
     ]
    },
    {
     "data": {
      "image/png": "[encoded data removed]",
      "text/plain": [
       "<Figure size 432x288 with 2 Axes>"
      ]
     },
     "metadata": {
      "needs_background": "light"
     },
     "output_type": "display_data"
    }
   ],
   "source": [
    "mod = rf.fit(rf_train, y_train, sample_weight = weights)\n",
    "metrics(mod, rf_test, \"SFS \", mod_name[4])"
   ]
  },
  {
   "cell_type": "code",
   "execution_count": null,
   "id": "85560885",
   "metadata": {},
   "outputs": [],
   "source": []
  }
 ],
 "metadata": {
  "kernelspec": {
   "display_name": "Python 3 (ipykernel)",
   "language": "python",
   "name": "python3"
  },
  "language_info": {
   "codemirror_mode": {
    "name": "ipython",
    "version": 3
   },
   "file_extension": ".py",
   "mimetype": "text/x-python",
   "name": "python",
   "nbconvert_exporter": "python",
   "pygments_lexer": "ipython3",
   "version": "3.9.12"
  }
 },
 "nbformat": 4,
 "nbformat_minor": 5
}
