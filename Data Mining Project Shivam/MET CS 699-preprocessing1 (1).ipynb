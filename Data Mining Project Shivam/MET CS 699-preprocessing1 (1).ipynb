{
 "cells": [
  {
   "cell_type": "code",
   "execution_count": 414,
   "id": "913c1f2b",
   "metadata": {},
   "outputs": [],
   "source": [
    "import pandas as pd"
   ]
  },
  {
   "cell_type": "code",
   "execution_count": 415,
   "id": "76890047",
   "metadata": {},
   "outputs": [],
   "source": [
    "df = pd.read_csv('carclaims.csv')"
   ]
  },
  {
   "cell_type": "code",
   "execution_count": 416,
   "id": "0795862c",
   "metadata": {},
   "outputs": [],
   "source": [
    "df = df.replace({ 'Month' : { 'Jan':1, 'Feb':2, 'Mar':3, 'Apr':4, 'May':5, 'Jun':6, 'Jul':7,\n",
    "                            'Aug':8, 'Sep':9, 'Oct':10, 'Nov':11, 'Dec':12}})"
   ]
  },
  {
   "cell_type": "code",
   "execution_count": 417,
   "id": "db6cdff6",
   "metadata": {},
   "outputs": [],
   "source": [
    "df = df[df['MonthClaimed'] != '0']"
   ]
  },
  {
   "cell_type": "code",
   "execution_count": 418,
   "id": "cb0ed3af",
   "metadata": {},
   "outputs": [],
   "source": [
    "df = df.replace({ 'Sex' : { 'Female':1, 'Male':0}})\n",
    "df = df.replace({ 'MonthClaimed' : { 'Jan':1, 'Feb':2, 'Mar':3, 'Apr':4, 'May':5, 'Jun':6, 'Jul':7,\n",
    "                            'Aug':8, 'Sep':9, 'Oct':10, 'Nov':11, 'Dec':12}})"
   ]
  },
  {
   "cell_type": "code",
   "execution_count": 419,
   "id": "093c51fc",
   "metadata": {},
   "outputs": [],
   "source": [
    "df = df.replace({ 'MaritalStatus' : { 'Married':1, 'Single':0, 'Widow':3, 'Divorced':2}})"
   ]
  },
  {
   "cell_type": "code",
   "execution_count": 420,
   "id": "394da004",
   "metadata": {},
   "outputs": [],
   "source": [
    "df = df[df['DayOfWeekClaimed'] != '0']"
   ]
  },
  {
   "cell_type": "code",
   "execution_count": 421,
   "id": "b207715c",
   "metadata": {},
   "outputs": [],
   "source": [
    "df = df.replace({ 'DayOfWeekClaimed' : { 'Monday':1, 'Tuesday':2, 'Wednesday':3, 'Thursday':4, 'Friday':5, 'Saturday':6, 'Sunday':7}})\n",
    "df = df.replace({ 'DayOfWeek' : { 'Monday':1, 'Tuesday':2, 'Wednesday':3, 'Thursday':4, 'Friday':5, 'Saturday':6, 'Sunday':7}})"
   ]
  },
  {
   "cell_type": "code",
   "execution_count": null,
   "id": "ef35fcb2",
   "metadata": {},
   "outputs": [],
   "source": []
  },
  {
   "cell_type": "code",
   "execution_count": 422,
   "id": "196a7750",
   "metadata": {},
   "outputs": [
    {
     "data": {
      "text/plain": [
       "array(['Honda', 'Toyota', 'Ford', 'Mazda', 'Chevrolet', 'Pontiac',\n",
       "       'Accura', 'Dodge', 'Mercury', 'Jaguar', 'Nisson', 'VW', 'Saab',\n",
       "       'Saturn', 'Porche', 'BMW', 'Mecedes', 'Ferrari', 'Lexus'],\n",
       "      dtype=object)"
      ]
     },
     "execution_count": 422,
     "metadata": {},
     "output_type": "execute_result"
    }
   ],
   "source": [
    "df.Make.unique()"
   ]
  },
  {
   "cell_type": "code",
   "execution_count": 423,
   "id": "04d9d9fc",
   "metadata": {},
   "outputs": [
    {
     "data": {
      "text/plain": [
       "array(['Urban', 'Rural'], dtype=object)"
      ]
     },
     "execution_count": 423,
     "metadata": {},
     "output_type": "execute_result"
    }
   ],
   "source": [
    "df.AccidentArea.unique()"
   ]
  },
  {
   "cell_type": "code",
   "execution_count": 424,
   "id": "ea043f27",
   "metadata": {},
   "outputs": [],
   "source": [
    "df = df.replace({ 'AccidentArea' : { 'Urban':1, 'Rural':0}})\n",
    "df = df.replace({ 'PoliceReportFiled' : { 'Yes':1, 'No':0}})\n",
    "df = df.replace({ 'WitnessPresent' : { 'Yes':1, 'No':0}})\n",
    "df = df.replace({ 'FraudFound' : { 'Yes':1, 'No':0}})"
   ]
  },
  {
   "cell_type": "code",
   "execution_count": 425,
   "id": "3702cf1c",
   "metadata": {},
   "outputs": [
    {
     "data": {
      "text/plain": [
       "array(['External', 'Internal'], dtype=object)"
      ]
     },
     "execution_count": 425,
     "metadata": {},
     "output_type": "execute_result"
    }
   ],
   "source": [
    "df.AgentType.unique()"
   ]
  },
  {
   "cell_type": "code",
   "execution_count": 426,
   "id": "0d78fc89",
   "metadata": {},
   "outputs": [
    {
     "data": {
      "text/plain": [
       "array(['Liability', 'Collision', 'All Perils'], dtype=object)"
      ]
     },
     "execution_count": 426,
     "metadata": {},
     "output_type": "execute_result"
    }
   ],
   "source": [
    "df.BasePolicy.unique()"
   ]
  },
  {
   "cell_type": "code",
   "execution_count": 427,
   "id": "65d41308",
   "metadata": {},
   "outputs": [],
   "source": [
    "df = df.replace({ 'AgentType' : { 'External':1, 'Internal':0}})\n",
    "df = df.replace({ 'BasePolicy' : { 'Liability':1, 'Collision':2, 'All Perils':3}})"
   ]
  },
  {
   "cell_type": "code",
   "execution_count": 428,
   "id": "8d49519d",
   "metadata": {},
   "outputs": [
    {
     "data": {
      "text/plain": [
       "array(['26 to 30', '31 to 35', '41 to 50', '51 to 65', '21 to 25',\n",
       "       '36 to 40', '16 to 17', 'over 65', '18 to 20'], dtype=object)"
      ]
     },
     "execution_count": 428,
     "metadata": {},
     "output_type": "execute_result"
    }
   ],
   "source": [
    "df.AgeOfPolicyHolder.unique()"
   ]
  },
  {
   "cell_type": "code",
   "execution_count": 429,
   "id": "67e5545d",
   "metadata": {},
   "outputs": [],
   "source": [
    "df = df.replace({ 'AgeOfPolicyHolder': {'26 to 30':4, '31 to 35':5, '41 to 50':7, '51 to 65':8, '21 to 25':3,\n",
    "       '36 to 40':6, '16 to 17':1, 'over 65':9, '18 to 20':2}})"
   ]
  },
  {
   "cell_type": "code",
   "execution_count": 430,
   "id": "3516bd2e",
   "metadata": {},
   "outputs": [
    {
     "data": {
      "text/plain": [
       "array(['1 year', 'no change', '4 to 8 years', '2 to 3 years',\n",
       "       'under 6 months'], dtype=object)"
      ]
     },
     "execution_count": 430,
     "metadata": {},
     "output_type": "execute_result"
    }
   ],
   "source": [
    "df['AddressChange-Claim'].unique()"
   ]
  },
  {
   "cell_type": "code",
   "execution_count": 431,
   "id": "a9a78c3c",
   "metadata": {},
   "outputs": [],
   "source": [
    "df = df.replace({ 'AddressChange-Claim': {'1 year':3, 'no change':1, '4 to 8 years':5, '2 to 3 years':4,\n",
    "       'under 6 months':2}})"
   ]
  },
  {
   "cell_type": "code",
   "execution_count": 432,
   "id": "8073a316",
   "metadata": {},
   "outputs": [
    {
     "data": {
      "text/plain": [
       "array(['none', 'more than 5', '3 to 5', '1 to 2'], dtype=object)"
      ]
     },
     "execution_count": 432,
     "metadata": {},
     "output_type": "execute_result"
    }
   ],
   "source": [
    "df['NumberOfSuppliments'].unique()"
   ]
  },
  {
   "cell_type": "code",
   "execution_count": 433,
   "id": "6a0c27d6",
   "metadata": {},
   "outputs": [],
   "source": [
    "df = df.replace({ 'NumberOfSuppliments': {'none':1, 'more than 5':4, '3 to 5':3, '1 to 2':2}})"
   ]
  },
  {
   "cell_type": "code",
   "execution_count": 434,
   "id": "cad68667",
   "metadata": {},
   "outputs": [
    {
     "data": {
      "text/plain": [
       "array(['3 to 4', '1 vehicle', '2 vehicles', '5 to 8', 'more than 8'],\n",
       "      dtype=object)"
      ]
     },
     "execution_count": 434,
     "metadata": {},
     "output_type": "execute_result"
    }
   ],
   "source": [
    "df['NumberOfCars'].unique()"
   ]
  },
  {
   "cell_type": "code",
   "execution_count": 435,
   "id": "27f5f722",
   "metadata": {},
   "outputs": [
    {
     "data": {
      "text/plain": [
       "array([1994, 1995, 1996])"
      ]
     },
     "execution_count": 435,
     "metadata": {},
     "output_type": "execute_result"
    }
   ],
   "source": [
    "df['Year'].unique()"
   ]
  },
  {
   "cell_type": "code",
   "execution_count": 436,
   "id": "62da0423",
   "metadata": {},
   "outputs": [],
   "source": [
    "df = df.replace({ 'Year': {1994:1, 1995:2, 1996:3}})"
   ]
  },
  {
   "cell_type": "code",
   "execution_count": 437,
   "id": "58424ba2",
   "metadata": {},
   "outputs": [],
   "source": [
    "df = df.replace({ 'Make': {'Honda':1, 'Toyota':2, 'Ford':3, 'Mazda':4, 'Chevrolet':5, 'Pontiac':6,\n",
    "       'Accura':7, 'Dodge':8, 'Mercury':9, 'Jaguar':10, 'Nisson':11, 'VW':12, 'Saab':13,\n",
    "       'Saturn':14, 'Porche':15, 'BMW':16, 'Mecedes':17, 'Ferrari':18, 'Lexus':19}})"
   ]
  },
  {
   "cell_type": "code",
   "execution_count": 438,
   "id": "1e9ee423",
   "metadata": {},
   "outputs": [],
   "source": [
    "df = df.replace({ 'NumberOfCars':{'3 to 4':3, '1 vehicle':1, '2 vehicles':2, '5 to 8':4, 'more than 8':5}})"
   ]
  },
  {
   "cell_type": "code",
   "execution_count": 439,
   "id": "b3af3ea3",
   "metadata": {},
   "outputs": [
    {
     "data": {
      "text/plain": [
       "array([21, 34, 47, 65, 27, 20, 36,  0, 30, 42, 71, 52, 28, 61, 38, 41, 32,\n",
       "       40, 63, 31, 45, 60, 39, 55, 35, 44, 72, 29, 37, 59, 49, 50, 26, 48,\n",
       "       64, 33, 74, 23, 25, 56, 16, 68, 18, 51, 22, 53, 46, 43, 57, 54, 69,\n",
       "       67, 19, 78, 77, 75, 80, 58, 73, 24, 76, 62, 79, 70, 17, 66])"
      ]
     },
     "execution_count": 439,
     "metadata": {},
     "output_type": "execute_result"
    }
   ],
   "source": [
    "df.Age.unique()"
   ]
  },
  {
   "cell_type": "code",
   "execution_count": 440,
   "id": "f5200950",
   "metadata": {},
   "outputs": [
    {
     "data": {
      "text/plain": [
       "array(['Policy Holder', 'Third Party'], dtype=object)"
      ]
     },
     "execution_count": 440,
     "metadata": {},
     "output_type": "execute_result"
    }
   ],
   "source": [
    "df.Fault.unique()"
   ]
  },
  {
   "cell_type": "code",
   "execution_count": 441,
   "id": "1a302b12",
   "metadata": {
    "scrolled": true
   },
   "outputs": [],
   "source": [
    "df = df.replace({ 'Fault': {'Policy Holder':1, 'Third Party':2}})"
   ]
  },
  {
   "cell_type": "code",
   "execution_count": 442,
   "id": "fa259610",
   "metadata": {},
   "outputs": [
    {
     "data": {
      "text/plain": [
       "array(['Sport - Liability', 'Sport - Collision', 'Sedan - Liability',\n",
       "       'Utility - All Perils', 'Sedan - All Perils', 'Sedan - Collision',\n",
       "       'Utility - Collision', 'Utility - Liability', 'Sport - All Perils'],\n",
       "      dtype=object)"
      ]
     },
     "execution_count": 442,
     "metadata": {},
     "output_type": "execute_result"
    }
   ],
   "source": [
    "df.PolicyType.unique()"
   ]
  },
  {
   "cell_type": "code",
   "execution_count": 443,
   "id": "076d6a7b",
   "metadata": {
    "scrolled": true
   },
   "outputs": [],
   "source": [
    "df = df.replace({'PolicyType': {'Sport - Liability':1, 'Sport - Collision':2, 'Sedan - Liability':3,\n",
    "       'Utility - All Perils':4, 'Sedan - All Perils':5, 'Sedan - Collision':6,\n",
    "       'Utility - Collision':7, 'Utility - Liability':8, 'Sport - All Perils':9}})"
   ]
  },
  {
   "cell_type": "code",
   "execution_count": 444,
   "id": "d56a45d9",
   "metadata": {},
   "outputs": [
    {
     "data": {
      "text/plain": [
       "array(['Sport', 'Utility', 'Sedan'], dtype=object)"
      ]
     },
     "execution_count": 444,
     "metadata": {},
     "output_type": "execute_result"
    }
   ],
   "source": [
    "df.VehicleCategory.unique()"
   ]
  },
  {
   "cell_type": "code",
   "execution_count": 445,
   "id": "55d4ef38",
   "metadata": {},
   "outputs": [],
   "source": [
    "df = df.replace({'VehicleCategory':{'Sport':1, 'Utility':2, 'Sedan':3}})"
   ]
  },
  {
   "cell_type": "code",
   "execution_count": 446,
   "id": "0b117bf1",
   "metadata": {},
   "outputs": [
    {
     "data": {
      "text/plain": [
       "array([300, 400, 500, 700])"
      ]
     },
     "execution_count": 446,
     "metadata": {},
     "output_type": "execute_result"
    }
   ],
   "source": [
    "df['Deductible'].unique()"
   ]
  },
  {
   "cell_type": "code",
   "execution_count": 447,
   "id": "c7af6c1a",
   "metadata": {},
   "outputs": [
    {
     "data": {
      "text/plain": [
       "array([1, 4, 3, 2])"
      ]
     },
     "execution_count": 447,
     "metadata": {},
     "output_type": "execute_result"
    }
   ],
   "source": [
    "df['DriverRating'].unique()"
   ]
  },
  {
   "cell_type": "code",
   "execution_count": 448,
   "id": "4bdf165b",
   "metadata": {},
   "outputs": [
    {
     "data": {
      "text/plain": [
       "array([12, 15,  7,  4,  3, 14,  1, 13, 11, 16,  6,  2,  8,  5,  9, 10])"
      ]
     },
     "execution_count": 448,
     "metadata": {},
     "output_type": "execute_result"
    }
   ],
   "source": [
    "df['RepNumber'].unique()"
   ]
  },
  {
   "cell_type": "code",
   "execution_count": 449,
   "id": "23e1d102",
   "metadata": {},
   "outputs": [
    {
     "data": {
      "text/plain": [
       "array(['more than 30', '15 to 30', 'none', '1 to 7', '8 to 15'],\n",
       "      dtype=object)"
      ]
     },
     "execution_count": 449,
     "metadata": {},
     "output_type": "execute_result"
    }
   ],
   "source": [
    "df['Days:Policy-Accident'].unique()"
   ]
  },
  {
   "cell_type": "code",
   "execution_count": 450,
   "id": "a1d89741",
   "metadata": {},
   "outputs": [],
   "source": [
    "df =df.replace({'Days:Policy-Accident': {'more than 30':5, '15 to 30':4, 'none':1, '1 to 7':2, '8 to 15':3}})"
   ]
  },
  {
   "cell_type": "code",
   "execution_count": 451,
   "id": "bd67f6a5",
   "metadata": {},
   "outputs": [
    {
     "data": {
      "text/plain": [
       "array(['more than 30', '15 to 30', '8 to 15'], dtype=object)"
      ]
     },
     "execution_count": 451,
     "metadata": {},
     "output_type": "execute_result"
    }
   ],
   "source": [
    "df['Days:Policy-Claim'].unique()"
   ]
  },
  {
   "cell_type": "code",
   "execution_count": 452,
   "id": "ddc3cf7e",
   "metadata": {},
   "outputs": [],
   "source": [
    "df = df.replace({'Days:Policy-Claim':{'more than 30':5, '15 to 30':3, '8 to 15':2, 'none':1}})"
   ]
  },
  {
   "cell_type": "code",
   "execution_count": 453,
   "id": "b555a0ba",
   "metadata": {},
   "outputs": [
    {
     "data": {
      "text/plain": [
       "array(['none', '1', '2 to 4', 'more than 4'], dtype=object)"
      ]
     },
     "execution_count": 453,
     "metadata": {},
     "output_type": "execute_result"
    }
   ],
   "source": [
    "df['PastNumberOfClaims'].unique()"
   ]
  },
  {
   "cell_type": "code",
   "execution_count": 454,
   "id": "fee85ad9",
   "metadata": {},
   "outputs": [],
   "source": [
    "df = df.replace({'PastNumberOfClaims':{'none':0, '1':1, '2 to 4':2, 'more than 4':3}})"
   ]
  },
  {
   "cell_type": "code",
   "execution_count": 455,
   "id": "45467583",
   "metadata": {},
   "outputs": [
    {
     "data": {
      "text/plain": [
       "array(['3 years', '6 years', '7 years', 'more than 7', '5 years', 'new',\n",
       "       '4 years', '2 years'], dtype=object)"
      ]
     },
     "execution_count": 455,
     "metadata": {},
     "output_type": "execute_result"
    }
   ],
   "source": [
    "df['AgeOfVehicle'].unique()"
   ]
  },
  {
   "cell_type": "code",
   "execution_count": 456,
   "id": "1a23269f",
   "metadata": {},
   "outputs": [
    {
     "data": {
      "text/plain": [
       "array([5, 1, 2, 0, 3, 4])"
      ]
     },
     "execution_count": 456,
     "metadata": {},
     "output_type": "execute_result"
    }
   ],
   "source": [
    "df = df.replace({'VehiclePrice':{'less than 20,000':0, '20,000 to 29,000':1,'30,000 to 39,000':2,\n",
    "                               '40,000 to 59,000':3,  '60,000 to 69,000':4, 'more than 69,000':5}})\n",
    "df.VehiclePrice.unique()"
   ]
  },
  {
   "cell_type": "code",
   "execution_count": 457,
   "id": "230f05d7",
   "metadata": {},
   "outputs": [],
   "source": [
    "df = df.replace({'AgeOfVehicle':{'3 years':3, '6 years':6, '7 years':7, 'more than 7':8, '5 years':5, 'new':1,\n",
    "       '4 years':4, '2 years':2}})"
   ]
  },
  {
   "cell_type": "code",
   "execution_count": 458,
   "id": "7644bedc",
   "metadata": {},
   "outputs": [],
   "source": [
    "df = df.drop(\"PolicyNumber\", axis='columns')"
   ]
  },
  {
   "cell_type": "code",
   "execution_count": 459,
   "id": "db64bb19",
   "metadata": {},
   "outputs": [
    {
     "data": {
      "text/html": [
       "<div>\n",
       "<style scoped>\n",
       "    .dataframe tbody tr th:only-of-type {\n",
       "        vertical-align: middle;\n",
       "    }\n",
       "\n",
       "    .dataframe tbody tr th {\n",
       "        vertical-align: top;\n",
       "    }\n",
       "\n",
       "    .dataframe thead th {\n",
       "        text-align: right;\n",
       "    }\n",
       "</style>\n",
       "<table border=\"1\" class=\"dataframe\">\n",
       "  <thead>\n",
       "    <tr style=\"text-align: right;\">\n",
       "      <th></th>\n",
       "      <th>Month</th>\n",
       "      <th>WeekOfMonth</th>\n",
       "      <th>DayOfWeek</th>\n",
       "      <th>Make</th>\n",
       "      <th>AccidentArea</th>\n",
       "      <th>DayOfWeekClaimed</th>\n",
       "      <th>MonthClaimed</th>\n",
       "      <th>WeekOfMonthClaimed</th>\n",
       "      <th>Sex</th>\n",
       "      <th>MaritalStatus</th>\n",
       "      <th>...</th>\n",
       "      <th>AgeOfPolicyHolder</th>\n",
       "      <th>PoliceReportFiled</th>\n",
       "      <th>WitnessPresent</th>\n",
       "      <th>AgentType</th>\n",
       "      <th>NumberOfSuppliments</th>\n",
       "      <th>AddressChange-Claim</th>\n",
       "      <th>NumberOfCars</th>\n",
       "      <th>Year</th>\n",
       "      <th>BasePolicy</th>\n",
       "      <th>FraudFound</th>\n",
       "    </tr>\n",
       "  </thead>\n",
       "  <tbody>\n",
       "    <tr>\n",
       "      <th>0</th>\n",
       "      <td>12</td>\n",
       "      <td>5</td>\n",
       "      <td>3</td>\n",
       "      <td>1</td>\n",
       "      <td>1</td>\n",
       "      <td>2</td>\n",
       "      <td>1</td>\n",
       "      <td>1</td>\n",
       "      <td>1</td>\n",
       "      <td>0</td>\n",
       "      <td>...</td>\n",
       "      <td>4</td>\n",
       "      <td>0</td>\n",
       "      <td>0</td>\n",
       "      <td>1</td>\n",
       "      <td>1</td>\n",
       "      <td>3</td>\n",
       "      <td>3</td>\n",
       "      <td>1</td>\n",
       "      <td>1</td>\n",
       "      <td>0</td>\n",
       "    </tr>\n",
       "    <tr>\n",
       "      <th>1</th>\n",
       "      <td>1</td>\n",
       "      <td>3</td>\n",
       "      <td>3</td>\n",
       "      <td>1</td>\n",
       "      <td>1</td>\n",
       "      <td>1</td>\n",
       "      <td>1</td>\n",
       "      <td>4</td>\n",
       "      <td>0</td>\n",
       "      <td>0</td>\n",
       "      <td>...</td>\n",
       "      <td>5</td>\n",
       "      <td>1</td>\n",
       "      <td>0</td>\n",
       "      <td>1</td>\n",
       "      <td>1</td>\n",
       "      <td>1</td>\n",
       "      <td>1</td>\n",
       "      <td>1</td>\n",
       "      <td>2</td>\n",
       "      <td>0</td>\n",
       "    </tr>\n",
       "  </tbody>\n",
       "</table>\n",
       "<p>2 rows × 32 columns</p>\n",
       "</div>"
      ],
      "text/plain": [
       "   Month  WeekOfMonth  DayOfWeek  Make  AccidentArea  DayOfWeekClaimed  \\\n",
       "0     12            5          3     1             1                 2   \n",
       "1      1            3          3     1             1                 1   \n",
       "\n",
       "   MonthClaimed  WeekOfMonthClaimed  Sex  MaritalStatus  ...  \\\n",
       "0             1                   1    1              0  ...   \n",
       "1             1                   4    0              0  ...   \n",
       "\n",
       "   AgeOfPolicyHolder  PoliceReportFiled  WitnessPresent  AgentType  \\\n",
       "0                  4                  0               0          1   \n",
       "1                  5                  1               0          1   \n",
       "\n",
       "   NumberOfSuppliments  AddressChange-Claim  NumberOfCars  Year  BasePolicy  \\\n",
       "0                    1                    3             3     1           1   \n",
       "1                    1                    1             1     1           2   \n",
       "\n",
       "   FraudFound  \n",
       "0           0  \n",
       "1           0  \n",
       "\n",
       "[2 rows x 32 columns]"
      ]
     },
     "execution_count": 459,
     "metadata": {},
     "output_type": "execute_result"
    }
   ],
   "source": [
    "df.head(2)"
   ]
  },
  {
   "cell_type": "code",
   "execution_count": 460,
   "id": "f238a697",
   "metadata": {},
   "outputs": [
    {
     "data": {
      "text/html": [
       "<div>\n",
       "<style scoped>\n",
       "    .dataframe tbody tr th:only-of-type {\n",
       "        vertical-align: middle;\n",
       "    }\n",
       "\n",
       "    .dataframe tbody tr th {\n",
       "        vertical-align: top;\n",
       "    }\n",
       "\n",
       "    .dataframe thead th {\n",
       "        text-align: right;\n",
       "    }\n",
       "</style>\n",
       "<table border=\"1\" class=\"dataframe\">\n",
       "  <thead>\n",
       "    <tr style=\"text-align: right;\">\n",
       "      <th></th>\n",
       "      <th>Month</th>\n",
       "      <th>WeekOfMonth</th>\n",
       "      <th>DayOfWeek</th>\n",
       "      <th>Make</th>\n",
       "      <th>AccidentArea</th>\n",
       "      <th>DayOfWeekClaimed</th>\n",
       "      <th>MonthClaimed</th>\n",
       "      <th>WeekOfMonthClaimed</th>\n",
       "      <th>Sex</th>\n",
       "      <th>MaritalStatus</th>\n",
       "      <th>...</th>\n",
       "      <th>AgeOfPolicyHolder</th>\n",
       "      <th>PoliceReportFiled</th>\n",
       "      <th>WitnessPresent</th>\n",
       "      <th>AgentType</th>\n",
       "      <th>NumberOfSuppliments</th>\n",
       "      <th>AddressChange-Claim</th>\n",
       "      <th>NumberOfCars</th>\n",
       "      <th>Year</th>\n",
       "      <th>BasePolicy</th>\n",
       "      <th>FraudFound</th>\n",
       "    </tr>\n",
       "  </thead>\n",
       "  <tbody>\n",
       "    <tr>\n",
       "      <th>Month</th>\n",
       "      <td>1.000000</td>\n",
       "      <td>0.031449</td>\n",
       "      <td>0.000984</td>\n",
       "      <td>0.014165</td>\n",
       "      <td>0.002174</td>\n",
       "      <td>-0.006625</td>\n",
       "      <td>0.833637</td>\n",
       "      <td>0.053936</td>\n",
       "      <td>0.007402</td>\n",
       "      <td>0.008777</td>\n",
       "      <td>...</td>\n",
       "      <td>0.017919</td>\n",
       "      <td>0.047898</td>\n",
       "      <td>-0.001514</td>\n",
       "      <td>-0.023577</td>\n",
       "      <td>0.026964</td>\n",
       "      <td>0.000120</td>\n",
       "      <td>-0.009393</td>\n",
       "      <td>0.048866</td>\n",
       "      <td>-0.006666</td>\n",
       "      <td>-0.027276</td>\n",
       "    </tr>\n",
       "    <tr>\n",
       "      <th>WeekOfMonth</th>\n",
       "      <td>0.031449</td>\n",
       "      <td>1.000000</td>\n",
       "      <td>-0.013428</td>\n",
       "      <td>-0.011169</td>\n",
       "      <td>0.009002</td>\n",
       "      <td>0.009937</td>\n",
       "      <td>0.013844</td>\n",
       "      <td>0.275366</td>\n",
       "      <td>-0.005332</td>\n",
       "      <td>-0.016758</td>\n",
       "      <td>...</td>\n",
       "      <td>-0.002898</td>\n",
       "      <td>0.013020</td>\n",
       "      <td>0.013711</td>\n",
       "      <td>-0.006472</td>\n",
       "      <td>0.000957</td>\n",
       "      <td>-0.002870</td>\n",
       "      <td>0.002511</td>\n",
       "      <td>-0.003949</td>\n",
       "      <td>0.007818</td>\n",
       "      <td>-0.011872</td>\n",
       "    </tr>\n",
       "    <tr>\n",
       "      <th>DayOfWeek</th>\n",
       "      <td>0.000984</td>\n",
       "      <td>-0.013428</td>\n",
       "      <td>1.000000</td>\n",
       "      <td>-0.005885</td>\n",
       "      <td>-0.025979</td>\n",
       "      <td>-0.057082</td>\n",
       "      <td>-0.004029</td>\n",
       "      <td>0.004593</td>\n",
       "      <td>-0.001030</td>\n",
       "      <td>-0.016696</td>\n",
       "      <td>...</td>\n",
       "      <td>-0.001410</td>\n",
       "      <td>0.015391</td>\n",
       "      <td>0.004244</td>\n",
       "      <td>-0.003504</td>\n",
       "      <td>-0.002354</td>\n",
       "      <td>0.008416</td>\n",
       "      <td>-0.008326</td>\n",
       "      <td>0.007176</td>\n",
       "      <td>0.041647</td>\n",
       "      <td>0.017430</td>\n",
       "    </tr>\n",
       "    <tr>\n",
       "      <th>Make</th>\n",
       "      <td>0.014165</td>\n",
       "      <td>-0.011169</td>\n",
       "      <td>-0.005885</td>\n",
       "      <td>1.000000</td>\n",
       "      <td>-0.021437</td>\n",
       "      <td>0.006575</td>\n",
       "      <td>0.014905</td>\n",
       "      <td>0.003594</td>\n",
       "      <td>-0.012067</td>\n",
       "      <td>0.070705</td>\n",
       "      <td>...</td>\n",
       "      <td>0.144514</td>\n",
       "      <td>0.001755</td>\n",
       "      <td>0.009040</td>\n",
       "      <td>-0.018250</td>\n",
       "      <td>0.053047</td>\n",
       "      <td>-0.000918</td>\n",
       "      <td>0.007503</td>\n",
       "      <td>0.007268</td>\n",
       "      <td>0.044590</td>\n",
       "      <td>-0.000766</td>\n",
       "    </tr>\n",
       "    <tr>\n",
       "      <th>AccidentArea</th>\n",
       "      <td>0.002174</td>\n",
       "      <td>0.009002</td>\n",
       "      <td>-0.025979</td>\n",
       "      <td>-0.021437</td>\n",
       "      <td>1.000000</td>\n",
       "      <td>0.010975</td>\n",
       "      <td>-0.003434</td>\n",
       "      <td>0.006330</td>\n",
       "      <td>0.033732</td>\n",
       "      <td>-0.003946</td>\n",
       "      <td>...</td>\n",
       "      <td>0.007301</td>\n",
       "      <td>0.001722</td>\n",
       "      <td>-0.028385</td>\n",
       "      <td>0.005214</td>\n",
       "      <td>-0.019057</td>\n",
       "      <td>-0.014551</td>\n",
       "      <td>-0.007856</td>\n",
       "      <td>0.002079</td>\n",
       "      <td>-0.043560</td>\n",
       "      <td>-0.033557</td>\n",
       "    </tr>\n",
       "    <tr>\n",
       "      <th>DayOfWeekClaimed</th>\n",
       "      <td>-0.006625</td>\n",
       "      <td>0.009937</td>\n",
       "      <td>-0.057082</td>\n",
       "      <td>0.006575</td>\n",
       "      <td>0.010975</td>\n",
       "      <td>1.000000</td>\n",
       "      <td>0.010821</td>\n",
       "      <td>-0.030071</td>\n",
       "      <td>-0.004626</td>\n",
       "      <td>0.008299</td>\n",
       "      <td>...</td>\n",
       "      <td>0.002967</td>\n",
       "      <td>-0.011015</td>\n",
       "      <td>-0.002425</td>\n",
       "      <td>-0.005884</td>\n",
       "      <td>0.002901</td>\n",
       "      <td>0.000842</td>\n",
       "      <td>0.003552</td>\n",
       "      <td>0.002990</td>\n",
       "      <td>0.018522</td>\n",
       "      <td>0.007974</td>\n",
       "    </tr>\n",
       "    <tr>\n",
       "      <th>MonthClaimed</th>\n",
       "      <td>0.833637</td>\n",
       "      <td>0.013844</td>\n",
       "      <td>-0.004029</td>\n",
       "      <td>0.014905</td>\n",
       "      <td>-0.003434</td>\n",
       "      <td>0.010821</td>\n",
       "      <td>1.000000</td>\n",
       "      <td>0.057397</td>\n",
       "      <td>0.010658</td>\n",
       "      <td>0.007278</td>\n",
       "      <td>...</td>\n",
       "      <td>0.036663</td>\n",
       "      <td>0.056710</td>\n",
       "      <td>0.001012</td>\n",
       "      <td>-0.032030</td>\n",
       "      <td>0.036888</td>\n",
       "      <td>-0.000266</td>\n",
       "      <td>-0.004253</td>\n",
       "      <td>0.053337</td>\n",
       "      <td>-0.017595</td>\n",
       "      <td>-0.028982</td>\n",
       "    </tr>\n",
       "    <tr>\n",
       "      <th>WeekOfMonthClaimed</th>\n",
       "      <td>0.053936</td>\n",
       "      <td>0.275366</td>\n",
       "      <td>0.004593</td>\n",
       "      <td>0.003594</td>\n",
       "      <td>0.006330</td>\n",
       "      <td>-0.030071</td>\n",
       "      <td>0.057397</td>\n",
       "      <td>1.000000</td>\n",
       "      <td>-0.003777</td>\n",
       "      <td>0.004182</td>\n",
       "      <td>...</td>\n",
       "      <td>0.001091</td>\n",
       "      <td>0.023497</td>\n",
       "      <td>0.009363</td>\n",
       "      <td>0.011326</td>\n",
       "      <td>0.011981</td>\n",
       "      <td>0.009583</td>\n",
       "      <td>0.008224</td>\n",
       "      <td>0.012082</td>\n",
       "      <td>-0.013671</td>\n",
       "      <td>-0.005783</td>\n",
       "    </tr>\n",
       "    <tr>\n",
       "      <th>Sex</th>\n",
       "      <td>0.007402</td>\n",
       "      <td>-0.005332</td>\n",
       "      <td>-0.001030</td>\n",
       "      <td>-0.012067</td>\n",
       "      <td>0.033732</td>\n",
       "      <td>-0.004626</td>\n",
       "      <td>0.010658</td>\n",
       "      <td>-0.003777</td>\n",
       "      <td>1.000000</td>\n",
       "      <td>-0.085637</td>\n",
       "      <td>...</td>\n",
       "      <td>-0.065569</td>\n",
       "      <td>0.007408</td>\n",
       "      <td>0.005583</td>\n",
       "      <td>0.012685</td>\n",
       "      <td>-0.010356</td>\n",
       "      <td>0.003338</td>\n",
       "      <td>-0.000089</td>\n",
       "      <td>-0.000444</td>\n",
       "      <td>-0.069729</td>\n",
       "      <td>-0.029961</td>\n",
       "    </tr>\n",
       "    <tr>\n",
       "      <th>MaritalStatus</th>\n",
       "      <td>0.008777</td>\n",
       "      <td>-0.016758</td>\n",
       "      <td>-0.016696</td>\n",
       "      <td>0.070705</td>\n",
       "      <td>-0.003946</td>\n",
       "      <td>0.008299</td>\n",
       "      <td>0.007278</td>\n",
       "      <td>0.004182</td>\n",
       "      <td>-0.085637</td>\n",
       "      <td>1.000000</td>\n",
       "      <td>...</td>\n",
       "      <td>0.456985</td>\n",
       "      <td>-0.011547</td>\n",
       "      <td>-0.007925</td>\n",
       "      <td>0.001181</td>\n",
       "      <td>0.023645</td>\n",
       "      <td>-0.008426</td>\n",
       "      <td>0.003318</td>\n",
       "      <td>0.016867</td>\n",
       "      <td>0.047062</td>\n",
       "      <td>0.001473</td>\n",
       "    </tr>\n",
       "    <tr>\n",
       "      <th>Age</th>\n",
       "      <td>0.012815</td>\n",
       "      <td>-0.004929</td>\n",
       "      <td>-0.000387</td>\n",
       "      <td>0.129333</td>\n",
       "      <td>0.007664</td>\n",
       "      <td>0.004185</td>\n",
       "      <td>0.029602</td>\n",
       "      <td>0.001602</td>\n",
       "      <td>-0.073216</td>\n",
       "      <td>0.438419</td>\n",
       "      <td>...</td>\n",
       "      <td>0.971625</td>\n",
       "      <td>-0.008381</td>\n",
       "      <td>-0.007297</td>\n",
       "      <td>0.000343</td>\n",
       "      <td>0.089938</td>\n",
       "      <td>-0.006906</td>\n",
       "      <td>-0.001455</td>\n",
       "      <td>0.024998</td>\n",
       "      <td>0.064408</td>\n",
       "      <td>-0.029798</td>\n",
       "    </tr>\n",
       "    <tr>\n",
       "      <th>Fault</th>\n",
       "      <td>-0.003612</td>\n",
       "      <td>0.025432</td>\n",
       "      <td>0.011885</td>\n",
       "      <td>-0.035190</td>\n",
       "      <td>0.008599</td>\n",
       "      <td>0.012742</td>\n",
       "      <td>-0.009320</td>\n",
       "      <td>-0.006391</td>\n",
       "      <td>-0.000247</td>\n",
       "      <td>0.005124</td>\n",
       "      <td>...</td>\n",
       "      <td>0.009679</td>\n",
       "      <td>0.027239</td>\n",
       "      <td>0.061034</td>\n",
       "      <td>-0.005301</td>\n",
       "      <td>0.008163</td>\n",
       "      <td>-0.007060</td>\n",
       "      <td>-0.011077</td>\n",
       "      <td>0.011116</td>\n",
       "      <td>0.200789</td>\n",
       "      <td>-0.131401</td>\n",
       "    </tr>\n",
       "    <tr>\n",
       "      <th>PolicyType</th>\n",
       "      <td>0.023452</td>\n",
       "      <td>-0.001341</td>\n",
       "      <td>0.049832</td>\n",
       "      <td>0.048284</td>\n",
       "      <td>-0.063171</td>\n",
       "      <td>-0.000144</td>\n",
       "      <td>0.018685</td>\n",
       "      <td>-0.003809</td>\n",
       "      <td>-0.034506</td>\n",
       "      <td>0.037452</td>\n",
       "      <td>...</td>\n",
       "      <td>0.002427</td>\n",
       "      <td>0.042592</td>\n",
       "      <td>0.017717</td>\n",
       "      <td>0.014046</td>\n",
       "      <td>0.000606</td>\n",
       "      <td>-0.005450</td>\n",
       "      <td>0.004322</td>\n",
       "      <td>0.008737</td>\n",
       "      <td>0.585452</td>\n",
       "      <td>0.095150</td>\n",
       "    </tr>\n",
       "    <tr>\n",
       "      <th>VehicleCategory</th>\n",
       "      <td>0.010851</td>\n",
       "      <td>0.004915</td>\n",
       "      <td>0.055089</td>\n",
       "      <td>0.043825</td>\n",
       "      <td>-0.060335</td>\n",
       "      <td>0.005371</td>\n",
       "      <td>0.006170</td>\n",
       "      <td>-0.008643</td>\n",
       "      <td>-0.044021</td>\n",
       "      <td>0.043711</td>\n",
       "      <td>...</td>\n",
       "      <td>0.022719</td>\n",
       "      <td>0.040157</td>\n",
       "      <td>0.027133</td>\n",
       "      <td>0.043294</td>\n",
       "      <td>-0.018616</td>\n",
       "      <td>-0.005646</td>\n",
       "      <td>0.005681</td>\n",
       "      <td>0.000301</td>\n",
       "      <td>0.806329</td>\n",
       "      <td>0.130767</td>\n",
       "    </tr>\n",
       "    <tr>\n",
       "      <th>VehiclePrice</th>\n",
       "      <td>-0.034318</td>\n",
       "      <td>-0.003462</td>\n",
       "      <td>-0.028869</td>\n",
       "      <td>0.060529</td>\n",
       "      <td>-0.014302</td>\n",
       "      <td>0.009772</td>\n",
       "      <td>-0.047565</td>\n",
       "      <td>-0.005881</td>\n",
       "      <td>-0.116542</td>\n",
       "      <td>-0.029077</td>\n",
       "      <td>...</td>\n",
       "      <td>-0.117495</td>\n",
       "      <td>0.009400</td>\n",
       "      <td>0.010656</td>\n",
       "      <td>-0.021087</td>\n",
       "      <td>0.004574</td>\n",
       "      <td>-0.006216</td>\n",
       "      <td>-0.012772</td>\n",
       "      <td>-0.032570</td>\n",
       "      <td>-0.020254</td>\n",
       "      <td>0.031716</td>\n",
       "    </tr>\n",
       "    <tr>\n",
       "      <th>RepNumber</th>\n",
       "      <td>0.009505</td>\n",
       "      <td>0.005340</td>\n",
       "      <td>0.002481</td>\n",
       "      <td>-0.004039</td>\n",
       "      <td>0.007039</td>\n",
       "      <td>0.008591</td>\n",
       "      <td>0.011587</td>\n",
       "      <td>0.009033</td>\n",
       "      <td>0.000873</td>\n",
       "      <td>0.005768</td>\n",
       "      <td>...</td>\n",
       "      <td>-0.006604</td>\n",
       "      <td>0.006123</td>\n",
       "      <td>0.007528</td>\n",
       "      <td>-0.005642</td>\n",
       "      <td>0.003239</td>\n",
       "      <td>0.000559</td>\n",
       "      <td>-0.010952</td>\n",
       "      <td>0.009438</td>\n",
       "      <td>0.003440</td>\n",
       "      <td>-0.007529</td>\n",
       "    </tr>\n",
       "    <tr>\n",
       "      <th>Deductible</th>\n",
       "      <td>-0.003072</td>\n",
       "      <td>-0.004000</td>\n",
       "      <td>0.000377</td>\n",
       "      <td>0.011899</td>\n",
       "      <td>0.005349</td>\n",
       "      <td>0.004961</td>\n",
       "      <td>-0.002325</td>\n",
       "      <td>0.005442</td>\n",
       "      <td>-0.014789</td>\n",
       "      <td>0.036391</td>\n",
       "      <td>...</td>\n",
       "      <td>0.074879</td>\n",
       "      <td>0.009004</td>\n",
       "      <td>0.000585</td>\n",
       "      <td>0.004245</td>\n",
       "      <td>0.007984</td>\n",
       "      <td>0.107837</td>\n",
       "      <td>0.000223</td>\n",
       "      <td>-0.001182</td>\n",
       "      <td>-0.011841</td>\n",
       "      <td>0.017345</td>\n",
       "    </tr>\n",
       "    <tr>\n",
       "      <th>DriverRating</th>\n",
       "      <td>0.008323</td>\n",
       "      <td>-0.016834</td>\n",
       "      <td>0.001347</td>\n",
       "      <td>0.006979</td>\n",
       "      <td>-0.003407</td>\n",
       "      <td>-0.001004</td>\n",
       "      <td>0.005304</td>\n",
       "      <td>-0.000086</td>\n",
       "      <td>0.002776</td>\n",
       "      <td>0.011005</td>\n",
       "      <td>...</td>\n",
       "      <td>0.000946</td>\n",
       "      <td>0.015942</td>\n",
       "      <td>0.010487</td>\n",
       "      <td>0.000266</td>\n",
       "      <td>0.003033</td>\n",
       "      <td>0.008238</td>\n",
       "      <td>0.011411</td>\n",
       "      <td>-0.013922</td>\n",
       "      <td>0.005456</td>\n",
       "      <td>0.007259</td>\n",
       "    </tr>\n",
       "    <tr>\n",
       "      <th>Days:Policy-Accident</th>\n",
       "      <td>0.003842</td>\n",
       "      <td>-0.033605</td>\n",
       "      <td>-0.000208</td>\n",
       "      <td>0.003811</td>\n",
       "      <td>-0.004911</td>\n",
       "      <td>-0.014535</td>\n",
       "      <td>0.000965</td>\n",
       "      <td>0.012274</td>\n",
       "      <td>-0.004936</td>\n",
       "      <td>-0.012195</td>\n",
       "      <td>...</td>\n",
       "      <td>0.008706</td>\n",
       "      <td>-0.016982</td>\n",
       "      <td>-0.023062</td>\n",
       "      <td>-0.010192</td>\n",
       "      <td>0.079057</td>\n",
       "      <td>0.000288</td>\n",
       "      <td>-0.000820</td>\n",
       "      <td>-0.005695</td>\n",
       "      <td>-0.030211</td>\n",
       "      <td>-0.025593</td>\n",
       "    </tr>\n",
       "    <tr>\n",
       "      <th>Days:Policy-Claim</th>\n",
       "      <td>0.005666</td>\n",
       "      <td>-0.017890</td>\n",
       "      <td>0.018746</td>\n",
       "      <td>-0.001785</td>\n",
       "      <td>-0.004074</td>\n",
       "      <td>-0.009848</td>\n",
       "      <td>-0.000086</td>\n",
       "      <td>0.003932</td>\n",
       "      <td>-0.011503</td>\n",
       "      <td>-0.008670</td>\n",
       "      <td>...</td>\n",
       "      <td>0.000893</td>\n",
       "      <td>-0.007598</td>\n",
       "      <td>-0.005370</td>\n",
       "      <td>-0.008760</td>\n",
       "      <td>0.060329</td>\n",
       "      <td>-0.005976</td>\n",
       "      <td>-0.009015</td>\n",
       "      <td>-0.005616</td>\n",
       "      <td>-0.014404</td>\n",
       "      <td>-0.017623</td>\n",
       "    </tr>\n",
       "    <tr>\n",
       "      <th>PastNumberOfClaims</th>\n",
       "      <td>-0.024933</td>\n",
       "      <td>-0.003575</td>\n",
       "      <td>-0.032001</td>\n",
       "      <td>0.019819</td>\n",
       "      <td>0.061724</td>\n",
       "      <td>-0.001767</td>\n",
       "      <td>-0.026395</td>\n",
       "      <td>0.014631</td>\n",
       "      <td>-0.000160</td>\n",
       "      <td>-0.015479</td>\n",
       "      <td>...</td>\n",
       "      <td>-0.021046</td>\n",
       "      <td>-0.001182</td>\n",
       "      <td>-0.009374</td>\n",
       "      <td>0.002328</td>\n",
       "      <td>0.113218</td>\n",
       "      <td>-0.012213</td>\n",
       "      <td>-0.008331</td>\n",
       "      <td>0.013797</td>\n",
       "      <td>-0.348969</td>\n",
       "      <td>-0.058101</td>\n",
       "    </tr>\n",
       "    <tr>\n",
       "      <th>AgeOfVehicle</th>\n",
       "      <td>0.020725</td>\n",
       "      <td>-0.010860</td>\n",
       "      <td>-0.010420</td>\n",
       "      <td>0.183227</td>\n",
       "      <td>0.010041</td>\n",
       "      <td>0.009979</td>\n",
       "      <td>0.042926</td>\n",
       "      <td>0.000963</td>\n",
       "      <td>-0.116980</td>\n",
       "      <td>0.421108</td>\n",
       "      <td>...</td>\n",
       "      <td>0.743687</td>\n",
       "      <td>-0.002378</td>\n",
       "      <td>-0.009119</td>\n",
       "      <td>-0.020527</td>\n",
       "      <td>0.159836</td>\n",
       "      <td>-0.003222</td>\n",
       "      <td>0.006680</td>\n",
       "      <td>0.020051</td>\n",
       "      <td>0.027500</td>\n",
       "      <td>-0.033313</td>\n",
       "    </tr>\n",
       "    <tr>\n",
       "      <th>AgeOfPolicyHolder</th>\n",
       "      <td>0.017919</td>\n",
       "      <td>-0.002898</td>\n",
       "      <td>-0.001410</td>\n",
       "      <td>0.144514</td>\n",
       "      <td>0.007301</td>\n",
       "      <td>0.002967</td>\n",
       "      <td>0.036663</td>\n",
       "      <td>0.001091</td>\n",
       "      <td>-0.065569</td>\n",
       "      <td>0.456985</td>\n",
       "      <td>...</td>\n",
       "      <td>1.000000</td>\n",
       "      <td>-0.007035</td>\n",
       "      <td>-0.002868</td>\n",
       "      <td>-0.001116</td>\n",
       "      <td>0.097700</td>\n",
       "      <td>-0.005410</td>\n",
       "      <td>-0.001422</td>\n",
       "      <td>0.028420</td>\n",
       "      <td>0.057959</td>\n",
       "      <td>-0.032036</td>\n",
       "    </tr>\n",
       "    <tr>\n",
       "      <th>PoliceReportFiled</th>\n",
       "      <td>0.047898</td>\n",
       "      <td>0.013020</td>\n",
       "      <td>0.015391</td>\n",
       "      <td>0.001755</td>\n",
       "      <td>0.001722</td>\n",
       "      <td>-0.011015</td>\n",
       "      <td>0.056710</td>\n",
       "      <td>0.023497</td>\n",
       "      <td>0.007408</td>\n",
       "      <td>-0.011547</td>\n",
       "      <td>...</td>\n",
       "      <td>-0.007035</td>\n",
       "      <td>1.000000</td>\n",
       "      <td>0.198096</td>\n",
       "      <td>-0.023267</td>\n",
       "      <td>0.007875</td>\n",
       "      <td>-0.011335</td>\n",
       "      <td>-0.023991</td>\n",
       "      <td>0.021195</td>\n",
       "      <td>0.028044</td>\n",
       "      <td>-0.016010</td>\n",
       "    </tr>\n",
       "    <tr>\n",
       "      <th>WitnessPresent</th>\n",
       "      <td>-0.001514</td>\n",
       "      <td>0.013711</td>\n",
       "      <td>0.004244</td>\n",
       "      <td>0.009040</td>\n",
       "      <td>-0.028385</td>\n",
       "      <td>-0.002425</td>\n",
       "      <td>0.001012</td>\n",
       "      <td>0.009363</td>\n",
       "      <td>0.005583</td>\n",
       "      <td>-0.007925</td>\n",
       "      <td>...</td>\n",
       "      <td>-0.002868</td>\n",
       "      <td>0.198096</td>\n",
       "      <td>1.000000</td>\n",
       "      <td>-0.011449</td>\n",
       "      <td>-0.015432</td>\n",
       "      <td>-0.008762</td>\n",
       "      <td>-0.012642</td>\n",
       "      <td>-0.015509</td>\n",
       "      <td>0.034493</td>\n",
       "      <td>-0.008059</td>\n",
       "    </tr>\n",
       "    <tr>\n",
       "      <th>AgentType</th>\n",
       "      <td>-0.023577</td>\n",
       "      <td>-0.006472</td>\n",
       "      <td>-0.003504</td>\n",
       "      <td>-0.018250</td>\n",
       "      <td>0.005214</td>\n",
       "      <td>-0.005884</td>\n",
       "      <td>-0.032030</td>\n",
       "      <td>0.011326</td>\n",
       "      <td>0.012685</td>\n",
       "      <td>0.001181</td>\n",
       "      <td>...</td>\n",
       "      <td>-0.001116</td>\n",
       "      <td>-0.023267</td>\n",
       "      <td>-0.011449</td>\n",
       "      <td>1.000000</td>\n",
       "      <td>-0.033789</td>\n",
       "      <td>0.025253</td>\n",
       "      <td>0.003845</td>\n",
       "      <td>-0.018985</td>\n",
       "      <td>0.079689</td>\n",
       "      <td>0.022980</td>\n",
       "    </tr>\n",
       "    <tr>\n",
       "      <th>NumberOfSuppliments</th>\n",
       "      <td>0.026964</td>\n",
       "      <td>0.000957</td>\n",
       "      <td>-0.002354</td>\n",
       "      <td>0.053047</td>\n",
       "      <td>-0.019057</td>\n",
       "      <td>0.002901</td>\n",
       "      <td>0.036888</td>\n",
       "      <td>0.011981</td>\n",
       "      <td>-0.010356</td>\n",
       "      <td>0.023645</td>\n",
       "      <td>...</td>\n",
       "      <td>0.097700</td>\n",
       "      <td>0.007875</td>\n",
       "      <td>-0.015432</td>\n",
       "      <td>-0.033789</td>\n",
       "      <td>1.000000</td>\n",
       "      <td>-0.010228</td>\n",
       "      <td>-0.004923</td>\n",
       "      <td>0.015063</td>\n",
       "      <td>-0.041388</td>\n",
       "      <td>-0.032157</td>\n",
       "    </tr>\n",
       "    <tr>\n",
       "      <th>AddressChange-Claim</th>\n",
       "      <td>0.000120</td>\n",
       "      <td>-0.002870</td>\n",
       "      <td>0.008416</td>\n",
       "      <td>-0.000918</td>\n",
       "      <td>-0.014551</td>\n",
       "      <td>0.000842</td>\n",
       "      <td>-0.000266</td>\n",
       "      <td>0.009583</td>\n",
       "      <td>0.003338</td>\n",
       "      <td>-0.008426</td>\n",
       "      <td>...</td>\n",
       "      <td>-0.005410</td>\n",
       "      <td>-0.011335</td>\n",
       "      <td>-0.008762</td>\n",
       "      <td>0.025253</td>\n",
       "      <td>-0.010228</td>\n",
       "      <td>1.000000</td>\n",
       "      <td>0.469428</td>\n",
       "      <td>-0.000420</td>\n",
       "      <td>-0.009200</td>\n",
       "      <td>0.026139</td>\n",
       "    </tr>\n",
       "    <tr>\n",
       "      <th>NumberOfCars</th>\n",
       "      <td>-0.009393</td>\n",
       "      <td>0.002511</td>\n",
       "      <td>-0.008326</td>\n",
       "      <td>0.007503</td>\n",
       "      <td>-0.007856</td>\n",
       "      <td>0.003552</td>\n",
       "      <td>-0.004253</td>\n",
       "      <td>0.008224</td>\n",
       "      <td>-0.000089</td>\n",
       "      <td>0.003318</td>\n",
       "      <td>...</td>\n",
       "      <td>-0.001422</td>\n",
       "      <td>-0.023991</td>\n",
       "      <td>-0.012642</td>\n",
       "      <td>0.003845</td>\n",
       "      <td>-0.004923</td>\n",
       "      <td>0.469428</td>\n",
       "      <td>1.000000</td>\n",
       "      <td>-0.002229</td>\n",
       "      <td>-0.000984</td>\n",
       "      <td>0.009105</td>\n",
       "    </tr>\n",
       "    <tr>\n",
       "      <th>Year</th>\n",
       "      <td>0.048866</td>\n",
       "      <td>-0.003949</td>\n",
       "      <td>0.007176</td>\n",
       "      <td>0.007268</td>\n",
       "      <td>0.002079</td>\n",
       "      <td>0.002990</td>\n",
       "      <td>0.053337</td>\n",
       "      <td>0.012082</td>\n",
       "      <td>-0.000444</td>\n",
       "      <td>0.016867</td>\n",
       "      <td>...</td>\n",
       "      <td>0.028420</td>\n",
       "      <td>0.021195</td>\n",
       "      <td>-0.015509</td>\n",
       "      <td>-0.018985</td>\n",
       "      <td>0.015063</td>\n",
       "      <td>-0.000420</td>\n",
       "      <td>-0.002229</td>\n",
       "      <td>1.000000</td>\n",
       "      <td>-0.014952</td>\n",
       "      <td>-0.024778</td>\n",
       "    </tr>\n",
       "    <tr>\n",
       "      <th>BasePolicy</th>\n",
       "      <td>-0.006666</td>\n",
       "      <td>0.007818</td>\n",
       "      <td>0.041647</td>\n",
       "      <td>0.044590</td>\n",
       "      <td>-0.043560</td>\n",
       "      <td>0.018522</td>\n",
       "      <td>-0.017595</td>\n",
       "      <td>-0.013671</td>\n",
       "      <td>-0.069729</td>\n",
       "      <td>0.047062</td>\n",
       "      <td>...</td>\n",
       "      <td>0.057959</td>\n",
       "      <td>0.028044</td>\n",
       "      <td>0.034493</td>\n",
       "      <td>0.079689</td>\n",
       "      <td>-0.041388</td>\n",
       "      <td>-0.009200</td>\n",
       "      <td>-0.000984</td>\n",
       "      <td>-0.014952</td>\n",
       "      <td>1.000000</td>\n",
       "      <td>0.157110</td>\n",
       "    </tr>\n",
       "    <tr>\n",
       "      <th>FraudFound</th>\n",
       "      <td>-0.027276</td>\n",
       "      <td>-0.011872</td>\n",
       "      <td>0.017430</td>\n",
       "      <td>-0.000766</td>\n",
       "      <td>-0.033557</td>\n",
       "      <td>0.007974</td>\n",
       "      <td>-0.028982</td>\n",
       "      <td>-0.005783</td>\n",
       "      <td>-0.029961</td>\n",
       "      <td>0.001473</td>\n",
       "      <td>...</td>\n",
       "      <td>-0.032036</td>\n",
       "      <td>-0.016010</td>\n",
       "      <td>-0.008059</td>\n",
       "      <td>0.022980</td>\n",
       "      <td>-0.032157</td>\n",
       "      <td>0.026139</td>\n",
       "      <td>0.009105</td>\n",
       "      <td>-0.024778</td>\n",
       "      <td>0.157110</td>\n",
       "      <td>1.000000</td>\n",
       "    </tr>\n",
       "  </tbody>\n",
       "</table>\n",
       "<p>32 rows × 32 columns</p>\n",
       "</div>"
      ],
      "text/plain": [
       "                         Month  WeekOfMonth  DayOfWeek      Make  \\\n",
       "Month                 1.000000     0.031449   0.000984  0.014165   \n",
       "WeekOfMonth           0.031449     1.000000  -0.013428 -0.011169   \n",
       "DayOfWeek             0.000984    -0.013428   1.000000 -0.005885   \n",
       "Make                  0.014165    -0.011169  -0.005885  1.000000   \n",
       "AccidentArea          0.002174     0.009002  -0.025979 -0.021437   \n",
       "DayOfWeekClaimed     -0.006625     0.009937  -0.057082  0.006575   \n",
       "MonthClaimed          0.833637     0.013844  -0.004029  0.014905   \n",
       "WeekOfMonthClaimed    0.053936     0.275366   0.004593  0.003594   \n",
       "Sex                   0.007402    -0.005332  -0.001030 -0.012067   \n",
       "MaritalStatus         0.008777    -0.016758  -0.016696  0.070705   \n",
       "Age                   0.012815    -0.004929  -0.000387  0.129333   \n",
       "Fault                -0.003612     0.025432   0.011885 -0.035190   \n",
       "PolicyType            0.023452    -0.001341   0.049832  0.048284   \n",
       "VehicleCategory       0.010851     0.004915   0.055089  0.043825   \n",
       "VehiclePrice         -0.034318    -0.003462  -0.028869  0.060529   \n",
       "RepNumber             0.009505     0.005340   0.002481 -0.004039   \n",
       "Deductible           -0.003072    -0.004000   0.000377  0.011899   \n",
       "DriverRating          0.008323    -0.016834   0.001347  0.006979   \n",
       "Days:Policy-Accident  0.003842    -0.033605  -0.000208  0.003811   \n",
       "Days:Policy-Claim     0.005666    -0.017890   0.018746 -0.001785   \n",
       "PastNumberOfClaims   -0.024933    -0.003575  -0.032001  0.019819   \n",
       "AgeOfVehicle          0.020725    -0.010860  -0.010420  0.183227   \n",
       "AgeOfPolicyHolder     0.017919    -0.002898  -0.001410  0.144514   \n",
       "PoliceReportFiled     0.047898     0.013020   0.015391  0.001755   \n",
       "WitnessPresent       -0.001514     0.013711   0.004244  0.009040   \n",
       "AgentType            -0.023577    -0.006472  -0.003504 -0.018250   \n",
       "NumberOfSuppliments   0.026964     0.000957  -0.002354  0.053047   \n",
       "AddressChange-Claim   0.000120    -0.002870   0.008416 -0.000918   \n",
       "NumberOfCars         -0.009393     0.002511  -0.008326  0.007503   \n",
       "Year                  0.048866    -0.003949   0.007176  0.007268   \n",
       "BasePolicy           -0.006666     0.007818   0.041647  0.044590   \n",
       "FraudFound           -0.027276    -0.011872   0.017430 -0.000766   \n",
       "\n",
       "                      AccidentArea  DayOfWeekClaimed  MonthClaimed  \\\n",
       "Month                     0.002174         -0.006625      0.833637   \n",
       "WeekOfMonth               0.009002          0.009937      0.013844   \n",
       "DayOfWeek                -0.025979         -0.057082     -0.004029   \n",
       "Make                     -0.021437          0.006575      0.014905   \n",
       "AccidentArea              1.000000          0.010975     -0.003434   \n",
       "DayOfWeekClaimed          0.010975          1.000000      0.010821   \n",
       "MonthClaimed             -0.003434          0.010821      1.000000   \n",
       "WeekOfMonthClaimed        0.006330         -0.030071      0.057397   \n",
       "Sex                       0.033732         -0.004626      0.010658   \n",
       "MaritalStatus            -0.003946          0.008299      0.007278   \n",
       "Age                       0.007664          0.004185      0.029602   \n",
       "Fault                     0.008599          0.012742     -0.009320   \n",
       "PolicyType               -0.063171         -0.000144      0.018685   \n",
       "VehicleCategory          -0.060335          0.005371      0.006170   \n",
       "VehiclePrice             -0.014302          0.009772     -0.047565   \n",
       "RepNumber                 0.007039          0.008591      0.011587   \n",
       "Deductible                0.005349          0.004961     -0.002325   \n",
       "DriverRating             -0.003407         -0.001004      0.005304   \n",
       "Days:Policy-Accident     -0.004911         -0.014535      0.000965   \n",
       "Days:Policy-Claim        -0.004074         -0.009848     -0.000086   \n",
       "PastNumberOfClaims        0.061724         -0.001767     -0.026395   \n",
       "AgeOfVehicle              0.010041          0.009979      0.042926   \n",
       "AgeOfPolicyHolder         0.007301          0.002967      0.036663   \n",
       "PoliceReportFiled         0.001722         -0.011015      0.056710   \n",
       "WitnessPresent           -0.028385         -0.002425      0.001012   \n",
       "AgentType                 0.005214         -0.005884     -0.032030   \n",
       "NumberOfSuppliments      -0.019057          0.002901      0.036888   \n",
       "AddressChange-Claim      -0.014551          0.000842     -0.000266   \n",
       "NumberOfCars             -0.007856          0.003552     -0.004253   \n",
       "Year                      0.002079          0.002990      0.053337   \n",
       "BasePolicy               -0.043560          0.018522     -0.017595   \n",
       "FraudFound               -0.033557          0.007974     -0.028982   \n",
       "\n",
       "                      WeekOfMonthClaimed       Sex  MaritalStatus  ...  \\\n",
       "Month                           0.053936  0.007402       0.008777  ...   \n",
       "WeekOfMonth                     0.275366 -0.005332      -0.016758  ...   \n",
       "DayOfWeek                       0.004593 -0.001030      -0.016696  ...   \n",
       "Make                            0.003594 -0.012067       0.070705  ...   \n",
       "AccidentArea                    0.006330  0.033732      -0.003946  ...   \n",
       "DayOfWeekClaimed               -0.030071 -0.004626       0.008299  ...   \n",
       "MonthClaimed                    0.057397  0.010658       0.007278  ...   \n",
       "WeekOfMonthClaimed              1.000000 -0.003777       0.004182  ...   \n",
       "Sex                            -0.003777  1.000000      -0.085637  ...   \n",
       "MaritalStatus                   0.004182 -0.085637       1.000000  ...   \n",
       "Age                             0.001602 -0.073216       0.438419  ...   \n",
       "Fault                          -0.006391 -0.000247       0.005124  ...   \n",
       "PolicyType                     -0.003809 -0.034506       0.037452  ...   \n",
       "VehicleCategory                -0.008643 -0.044021       0.043711  ...   \n",
       "VehiclePrice                   -0.005881 -0.116542      -0.029077  ...   \n",
       "RepNumber                       0.009033  0.000873       0.005768  ...   \n",
       "Deductible                      0.005442 -0.014789       0.036391  ...   \n",
       "DriverRating                   -0.000086  0.002776       0.011005  ...   \n",
       "Days:Policy-Accident            0.012274 -0.004936      -0.012195  ...   \n",
       "Days:Policy-Claim               0.003932 -0.011503      -0.008670  ...   \n",
       "PastNumberOfClaims              0.014631 -0.000160      -0.015479  ...   \n",
       "AgeOfVehicle                    0.000963 -0.116980       0.421108  ...   \n",
       "AgeOfPolicyHolder               0.001091 -0.065569       0.456985  ...   \n",
       "PoliceReportFiled               0.023497  0.007408      -0.011547  ...   \n",
       "WitnessPresent                  0.009363  0.005583      -0.007925  ...   \n",
       "AgentType                       0.011326  0.012685       0.001181  ...   \n",
       "NumberOfSuppliments             0.011981 -0.010356       0.023645  ...   \n",
       "AddressChange-Claim             0.009583  0.003338      -0.008426  ...   \n",
       "NumberOfCars                    0.008224 -0.000089       0.003318  ...   \n",
       "Year                            0.012082 -0.000444       0.016867  ...   \n",
       "BasePolicy                     -0.013671 -0.069729       0.047062  ...   \n",
       "FraudFound                     -0.005783 -0.029961       0.001473  ...   \n",
       "\n",
       "                      AgeOfPolicyHolder  PoliceReportFiled  WitnessPresent  \\\n",
       "Month                          0.017919           0.047898       -0.001514   \n",
       "WeekOfMonth                   -0.002898           0.013020        0.013711   \n",
       "DayOfWeek                     -0.001410           0.015391        0.004244   \n",
       "Make                           0.144514           0.001755        0.009040   \n",
       "AccidentArea                   0.007301           0.001722       -0.028385   \n",
       "DayOfWeekClaimed               0.002967          -0.011015       -0.002425   \n",
       "MonthClaimed                   0.036663           0.056710        0.001012   \n",
       "WeekOfMonthClaimed             0.001091           0.023497        0.009363   \n",
       "Sex                           -0.065569           0.007408        0.005583   \n",
       "MaritalStatus                  0.456985          -0.011547       -0.007925   \n",
       "Age                            0.971625          -0.008381       -0.007297   \n",
       "Fault                          0.009679           0.027239        0.061034   \n",
       "PolicyType                     0.002427           0.042592        0.017717   \n",
       "VehicleCategory                0.022719           0.040157        0.027133   \n",
       "VehiclePrice                  -0.117495           0.009400        0.010656   \n",
       "RepNumber                     -0.006604           0.006123        0.007528   \n",
       "Deductible                     0.074879           0.009004        0.000585   \n",
       "DriverRating                   0.000946           0.015942        0.010487   \n",
       "Days:Policy-Accident           0.008706          -0.016982       -0.023062   \n",
       "Days:Policy-Claim              0.000893          -0.007598       -0.005370   \n",
       "PastNumberOfClaims            -0.021046          -0.001182       -0.009374   \n",
       "AgeOfVehicle                   0.743687          -0.002378       -0.009119   \n",
       "AgeOfPolicyHolder              1.000000          -0.007035       -0.002868   \n",
       "PoliceReportFiled             -0.007035           1.000000        0.198096   \n",
       "WitnessPresent                -0.002868           0.198096        1.000000   \n",
       "AgentType                     -0.001116          -0.023267       -0.011449   \n",
       "NumberOfSuppliments            0.097700           0.007875       -0.015432   \n",
       "AddressChange-Claim           -0.005410          -0.011335       -0.008762   \n",
       "NumberOfCars                  -0.001422          -0.023991       -0.012642   \n",
       "Year                           0.028420           0.021195       -0.015509   \n",
       "BasePolicy                     0.057959           0.028044        0.034493   \n",
       "FraudFound                    -0.032036          -0.016010       -0.008059   \n",
       "\n",
       "                      AgentType  NumberOfSuppliments  AddressChange-Claim  \\\n",
       "Month                 -0.023577             0.026964             0.000120   \n",
       "WeekOfMonth           -0.006472             0.000957            -0.002870   \n",
       "DayOfWeek             -0.003504            -0.002354             0.008416   \n",
       "Make                  -0.018250             0.053047            -0.000918   \n",
       "AccidentArea           0.005214            -0.019057            -0.014551   \n",
       "DayOfWeekClaimed      -0.005884             0.002901             0.000842   \n",
       "MonthClaimed          -0.032030             0.036888            -0.000266   \n",
       "WeekOfMonthClaimed     0.011326             0.011981             0.009583   \n",
       "Sex                    0.012685            -0.010356             0.003338   \n",
       "MaritalStatus          0.001181             0.023645            -0.008426   \n",
       "Age                    0.000343             0.089938            -0.006906   \n",
       "Fault                 -0.005301             0.008163            -0.007060   \n",
       "PolicyType             0.014046             0.000606            -0.005450   \n",
       "VehicleCategory        0.043294            -0.018616            -0.005646   \n",
       "VehiclePrice          -0.021087             0.004574            -0.006216   \n",
       "RepNumber             -0.005642             0.003239             0.000559   \n",
       "Deductible             0.004245             0.007984             0.107837   \n",
       "DriverRating           0.000266             0.003033             0.008238   \n",
       "Days:Policy-Accident  -0.010192             0.079057             0.000288   \n",
       "Days:Policy-Claim     -0.008760             0.060329            -0.005976   \n",
       "PastNumberOfClaims     0.002328             0.113218            -0.012213   \n",
       "AgeOfVehicle          -0.020527             0.159836            -0.003222   \n",
       "AgeOfPolicyHolder     -0.001116             0.097700            -0.005410   \n",
       "PoliceReportFiled     -0.023267             0.007875            -0.011335   \n",
       "WitnessPresent        -0.011449            -0.015432            -0.008762   \n",
       "AgentType              1.000000            -0.033789             0.025253   \n",
       "NumberOfSuppliments   -0.033789             1.000000            -0.010228   \n",
       "AddressChange-Claim    0.025253            -0.010228             1.000000   \n",
       "NumberOfCars           0.003845            -0.004923             0.469428   \n",
       "Year                  -0.018985             0.015063            -0.000420   \n",
       "BasePolicy             0.079689            -0.041388            -0.009200   \n",
       "FraudFound             0.022980            -0.032157             0.026139   \n",
       "\n",
       "                      NumberOfCars      Year  BasePolicy  FraudFound  \n",
       "Month                    -0.009393  0.048866   -0.006666   -0.027276  \n",
       "WeekOfMonth               0.002511 -0.003949    0.007818   -0.011872  \n",
       "DayOfWeek                -0.008326  0.007176    0.041647    0.017430  \n",
       "Make                      0.007503  0.007268    0.044590   -0.000766  \n",
       "AccidentArea             -0.007856  0.002079   -0.043560   -0.033557  \n",
       "DayOfWeekClaimed          0.003552  0.002990    0.018522    0.007974  \n",
       "MonthClaimed             -0.004253  0.053337   -0.017595   -0.028982  \n",
       "WeekOfMonthClaimed        0.008224  0.012082   -0.013671   -0.005783  \n",
       "Sex                      -0.000089 -0.000444   -0.069729   -0.029961  \n",
       "MaritalStatus             0.003318  0.016867    0.047062    0.001473  \n",
       "Age                      -0.001455  0.024998    0.064408   -0.029798  \n",
       "Fault                    -0.011077  0.011116    0.200789   -0.131401  \n",
       "PolicyType                0.004322  0.008737    0.585452    0.095150  \n",
       "VehicleCategory           0.005681  0.000301    0.806329    0.130767  \n",
       "VehiclePrice             -0.012772 -0.032570   -0.020254    0.031716  \n",
       "RepNumber                -0.010952  0.009438    0.003440   -0.007529  \n",
       "Deductible                0.000223 -0.001182   -0.011841    0.017345  \n",
       "DriverRating              0.011411 -0.013922    0.005456    0.007259  \n",
       "Days:Policy-Accident     -0.000820 -0.005695   -0.030211   -0.025593  \n",
       "Days:Policy-Claim        -0.009015 -0.005616   -0.014404   -0.017623  \n",
       "PastNumberOfClaims       -0.008331  0.013797   -0.348969   -0.058101  \n",
       "AgeOfVehicle              0.006680  0.020051    0.027500   -0.033313  \n",
       "AgeOfPolicyHolder        -0.001422  0.028420    0.057959   -0.032036  \n",
       "PoliceReportFiled        -0.023991  0.021195    0.028044   -0.016010  \n",
       "WitnessPresent           -0.012642 -0.015509    0.034493   -0.008059  \n",
       "AgentType                 0.003845 -0.018985    0.079689    0.022980  \n",
       "NumberOfSuppliments      -0.004923  0.015063   -0.041388   -0.032157  \n",
       "AddressChange-Claim       0.469428 -0.000420   -0.009200    0.026139  \n",
       "NumberOfCars              1.000000 -0.002229   -0.000984    0.009105  \n",
       "Year                     -0.002229  1.000000   -0.014952   -0.024778  \n",
       "BasePolicy               -0.000984 -0.014952    1.000000    0.157110  \n",
       "FraudFound                0.009105 -0.024778    0.157110    1.000000  \n",
       "\n",
       "[32 rows x 32 columns]"
      ]
     },
     "execution_count": 460,
     "metadata": {},
     "output_type": "execute_result"
    }
   ],
   "source": [
    "df.corr()"
   ]
  },
  {
   "cell_type": "code",
   "execution_count": 461,
   "id": "ae5efffa",
   "metadata": {},
   "outputs": [],
   "source": [
    "df = df.reset_index(drop=True)\n",
    "yes = df[df['FraudFound'] == 1]\n",
    "no = df[df['FraudFound'] == 0]\n",
    "agey = yes[yes['Age'] > 0]\n",
    "agen = no[no['Age'] > 0]\n",
    "my = agey['Age'].mean()\n",
    "mn = agen['Age'].mean()\n",
    "for i in range(len(df)):\n",
    "    if(df['Age'][i] == 0):\n",
    "        if(df['FraudFound'][i] == 1):\n",
    "            df['Age'][i] = my\n",
    "        else:\n",
    "            df['Age'][i] = mn"
   ]
  },
  {
   "cell_type": "code",
   "execution_count": 462,
   "id": "bad6fce4",
   "metadata": {},
   "outputs": [],
   "source": [
    "data = df.rename(columns = {\"FraudFound\": 'label'})\n",
    "cat_cols = ['Month', 'WeekOfMonth', 'DayOfWeek', 'Make', 'MaritalStatus', 'DayOfWeekClaimed', \n",
    "                       'MonthClaimed', 'WeekOfMonthClaimed','PolicyType', 'VehicleCategory', 'VehiclePrice', \n",
    "                      'RepNumber', 'DriverRating', 'Days:Policy-Accident', 'Days:Policy-Claim', \n",
    "                      'PastNumberOfClaims', 'AgeOfVehicle', 'AgeOfPolicyHolder', 'NumberOfSuppliments', \n",
    "                      'AddressChange-Claim', 'NumberOfCars', 'Year']\n",
    "for col in cat_cols:\n",
    "    data[col] = data[col].astype('category')"
   ]
  }
 ],
 "metadata": {
  "kernelspec": {
   "display_name": "Python 3 (ipykernel)",
   "language": "python",
   "name": "python3"
  },
  "language_info": {
   "codemirror_mode": {
    "name": "ipython",
    "version": 3
   },
   "file_extension": ".py",
   "mimetype": "text/x-python",
   "name": "python",
   "nbconvert_exporter": "python",
   "pygments_lexer": "ipython3",
   "version": "3.9.12"
  }
 },
 "nbformat": 4,
 "nbformat_minor": 5
}
